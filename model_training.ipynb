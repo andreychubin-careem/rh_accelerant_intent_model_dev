{
 "cells": [
  {
   "cell_type": "code",
   "execution_count": 1,
   "id": "0e03db19-61bd-4370-8279-c7790a570414",
   "metadata": {},
   "outputs": [],
   "source": [
    "import gc\n",
    "import warnings\n",
    "import numpy as np\n",
    "import pandas as pd\n",
    "import catboost as cb\n",
    "import matplotlib.pyplot as plt\n",
    "import seaborn as sns\n",
    "\n",
    "from tqdm import tqdm\n",
    "\n",
    "from sklearn.model_selection import train_test_split\n",
    "from sklearn.calibration import CalibrationDisplay\n",
    "from sklearn.metrics import (\n",
    "    confusion_matrix,\n",
    "    ConfusionMatrixDisplay,\n",
    "    classification_report,\n",
    "    precision_recall_curve,\n",
    "    roc_auc_score,\n",
    "    PrecisionRecallDisplay,\n",
    "    log_loss,\n",
    "    RocCurveDisplay\n",
    ")\n",
    "\n",
    "from intent_model.preprocessing.targets import rh_vs_rest_target"
   ]
  },
  {
   "cell_type": "code",
   "execution_count": 2,
   "id": "9c5d1ad2-8446-48e6-97f2-fe68c4ac65ef",
   "metadata": {},
   "outputs": [],
   "source": [
    "warnings.filterwarnings('ignore')"
   ]
  },
  {
   "cell_type": "code",
   "execution_count": 3,
   "id": "c0fc5f4f-1a0c-4e38-9809-a8d51ef91349",
   "metadata": {},
   "outputs": [],
   "source": [
    "data = pd.read_parquet('data/dataset_v2/dataset.pq')"
   ]
  },
  {
   "cell_type": "code",
   "execution_count": 4,
   "id": "4f432965",
   "metadata": {},
   "outputs": [],
   "source": [
    "NOT_INCLUDED = [\n",
    "    'event_source',\n",
    "    'service_area_id',\n",
    "    'country_name',\n",
    "    'num_trips',\n",
    "    'user_cr',\n",
    "    'trx_amt',\n",
    "    'recom_freq',\n",
    "    'week_stats_recom',\n",
    "    'hour_stats_recom'\n",
    "]\n",
    "\n",
    "data.drop(NOT_INCLUDED, axis=1, inplace=True)"
   ]
  },
  {
   "cell_type": "code",
   "execution_count": 5,
   "id": "2b299616-7bea-4c5b-b890-8ebcb85cc243",
   "metadata": {},
   "outputs": [
    {
     "data": {
      "text/plain": [
       "Index(['valid_date', 'ts', 'sessionuuid', 'customer_id', 'booking_id',\n",
       "       'latitude', 'longitude', 'is_trip_ended', 'quantile', 'rh',\n",
       "       'min_dist_to_known_loc', 'known_loc_occ', 'is_freq',\n",
       "       'dist_to_most_freq', 'weekday', 'minutes_sin', 'minutes_cos', 'rh_frac',\n",
       "       'norm_week', 'norm_hour'],\n",
       "      dtype='object')"
      ]
     },
     "execution_count": 5,
     "metadata": {},
     "output_type": "execute_result"
    }
   ],
   "source": [
    "data.columns"
   ]
  },
  {
   "cell_type": "code",
   "execution_count": 6,
   "id": "3c23fb1b-bd2e-4c01-956a-f77bf4115be0",
   "metadata": {},
   "outputs": [
    {
     "data": {
      "text/html": [
       "<div>\n",
       "<style scoped>\n",
       "    .dataframe tbody tr th:only-of-type {\n",
       "        vertical-align: middle;\n",
       "    }\n",
       "\n",
       "    .dataframe tbody tr th {\n",
       "        vertical-align: top;\n",
       "    }\n",
       "\n",
       "    .dataframe thead th {\n",
       "        text-align: right;\n",
       "    }\n",
       "</style>\n",
       "<table border=\"1\" class=\"dataframe\">\n",
       "  <thead>\n",
       "    <tr style=\"text-align: right;\">\n",
       "      <th></th>\n",
       "      <th>valid_date</th>\n",
       "      <th>ts</th>\n",
       "      <th>sessionuuid</th>\n",
       "      <th>customer_id</th>\n",
       "      <th>booking_id</th>\n",
       "      <th>latitude</th>\n",
       "      <th>longitude</th>\n",
       "      <th>is_trip_ended</th>\n",
       "      <th>quantile</th>\n",
       "      <th>rh</th>\n",
       "      <th>min_dist_to_known_loc</th>\n",
       "      <th>known_loc_occ</th>\n",
       "      <th>is_freq</th>\n",
       "      <th>dist_to_most_freq</th>\n",
       "      <th>weekday</th>\n",
       "      <th>minutes_sin</th>\n",
       "      <th>minutes_cos</th>\n",
       "      <th>rh_frac</th>\n",
       "      <th>norm_week</th>\n",
       "      <th>norm_hour</th>\n",
       "    </tr>\n",
       "  </thead>\n",
       "  <tbody>\n",
       "    <tr>\n",
       "      <th>0</th>\n",
       "      <td>2023-07-02</td>\n",
       "      <td>2023-07-02 12:13:03</td>\n",
       "      <td>0000011f-5182-48be-b496-c1a50891655d</td>\n",
       "      <td>53671267</td>\n",
       "      <td>1777558859</td>\n",
       "      <td>25.090</td>\n",
       "      <td>55.175</td>\n",
       "      <td>1</td>\n",
       "      <td>0.95</td>\n",
       "      <td>1</td>\n",
       "      <td>0.000000</td>\n",
       "      <td>0.804878</td>\n",
       "      <td>1</td>\n",
       "      <td>0.000000</td>\n",
       "      <td>6</td>\n",
       "      <td>-0.056693</td>\n",
       "      <td>-0.998392</td>\n",
       "      <td>0.286713</td>\n",
       "      <td>0.229039</td>\n",
       "      <td>0.558661</td>\n",
       "    </tr>\n",
       "    <tr>\n",
       "      <th>1</th>\n",
       "      <td>2023-05-23</td>\n",
       "      <td>2023-05-23 08:23:08</td>\n",
       "      <td>6865AEC9-13A5-4164-B861-B4239FA4CD86</td>\n",
       "      <td>56071529</td>\n",
       "      <td>1757410568</td>\n",
       "      <td>25.207</td>\n",
       "      <td>55.248</td>\n",
       "      <td>1</td>\n",
       "      <td>0.96</td>\n",
       "      <td>1</td>\n",
       "      <td>0.000000</td>\n",
       "      <td>0.888889</td>\n",
       "      <td>0</td>\n",
       "      <td>0.000000</td>\n",
       "      <td>1</td>\n",
       "      <td>0.811574</td>\n",
       "      <td>-0.584250</td>\n",
       "      <td>0.789474</td>\n",
       "      <td>0.217250</td>\n",
       "      <td>0.084819</td>\n",
       "    </tr>\n",
       "    <tr>\n",
       "      <th>2</th>\n",
       "      <td>2023-05-31</td>\n",
       "      <td>2023-05-31 20:57:23</td>\n",
       "      <td>0000014D-935E-4BFB-8582-6107004CCAC5</td>\n",
       "      <td>48719113</td>\n",
       "      <td>1762031191</td>\n",
       "      <td>25.095</td>\n",
       "      <td>55.154</td>\n",
       "      <td>1</td>\n",
       "      <td>0.91</td>\n",
       "      <td>1</td>\n",
       "      <td>0.000000</td>\n",
       "      <td>0.384615</td>\n",
       "      <td>1</td>\n",
       "      <td>0.090510</td>\n",
       "      <td>2</td>\n",
       "      <td>-0.716302</td>\n",
       "      <td>0.697790</td>\n",
       "      <td>0.866667</td>\n",
       "      <td>0.342997</td>\n",
       "      <td>0.615457</td>\n",
       "    </tr>\n",
       "    <tr>\n",
       "      <th>3</th>\n",
       "      <td>2023-05-23</td>\n",
       "      <td>2023-05-23 09:03:47</td>\n",
       "      <td>32d45eed-6a93-4a9b-8df4-34cf8a94a36f</td>\n",
       "      <td>61105461</td>\n",
       "      <td>1757431140</td>\n",
       "      <td>25.247</td>\n",
       "      <td>55.304</td>\n",
       "      <td>1</td>\n",
       "      <td>0.82</td>\n",
       "      <td>1</td>\n",
       "      <td>0.001414</td>\n",
       "      <td>0.769231</td>\n",
       "      <td>1</td>\n",
       "      <td>0.001414</td>\n",
       "      <td>1</td>\n",
       "      <td>0.697790</td>\n",
       "      <td>-0.716302</td>\n",
       "      <td>1.000000</td>\n",
       "      <td>0.780869</td>\n",
       "      <td>0.384111</td>\n",
       "    </tr>\n",
       "    <tr>\n",
       "      <th>4</th>\n",
       "      <td>2023-08-16</td>\n",
       "      <td>2023-08-16 11:43:50</td>\n",
       "      <td>000004DB-F6BC-4050-8CD6-4ED5F2B9CA97</td>\n",
       "      <td>54629556</td>\n",
       "      <td>1799288269</td>\n",
       "      <td>31.996</td>\n",
       "      <td>35.858</td>\n",
       "      <td>0</td>\n",
       "      <td>0.83</td>\n",
       "      <td>1</td>\n",
       "      <td>0.000000</td>\n",
       "      <td>1.000000</td>\n",
       "      <td>1</td>\n",
       "      <td>0.000000</td>\n",
       "      <td>2</td>\n",
       "      <td>0.074108</td>\n",
       "      <td>-0.997250</td>\n",
       "      <td>0.823529</td>\n",
       "      <td>0.753778</td>\n",
       "      <td>0.000000</td>\n",
       "    </tr>\n",
       "  </tbody>\n",
       "</table>\n",
       "</div>"
      ],
      "text/plain": [
       "   valid_date                  ts                           sessionuuid  \\\n",
       "0  2023-07-02 2023-07-02 12:13:03  0000011f-5182-48be-b496-c1a50891655d   \n",
       "1  2023-05-23 2023-05-23 08:23:08  6865AEC9-13A5-4164-B861-B4239FA4CD86   \n",
       "2  2023-05-31 2023-05-31 20:57:23  0000014D-935E-4BFB-8582-6107004CCAC5   \n",
       "3  2023-05-23 2023-05-23 09:03:47  32d45eed-6a93-4a9b-8df4-34cf8a94a36f   \n",
       "4  2023-08-16 2023-08-16 11:43:50  000004DB-F6BC-4050-8CD6-4ED5F2B9CA97   \n",
       "\n",
       "   customer_id  booking_id  latitude  longitude  is_trip_ended  quantile  rh  \\\n",
       "0     53671267  1777558859    25.090     55.175              1      0.95   1   \n",
       "1     56071529  1757410568    25.207     55.248              1      0.96   1   \n",
       "2     48719113  1762031191    25.095     55.154              1      0.91   1   \n",
       "3     61105461  1757431140    25.247     55.304              1      0.82   1   \n",
       "4     54629556  1799288269    31.996     35.858              0      0.83   1   \n",
       "\n",
       "   min_dist_to_known_loc  known_loc_occ  is_freq  dist_to_most_freq  weekday  \\\n",
       "0               0.000000       0.804878        1           0.000000        6   \n",
       "1               0.000000       0.888889        0           0.000000        1   \n",
       "2               0.000000       0.384615        1           0.090510        2   \n",
       "3               0.001414       0.769231        1           0.001414        1   \n",
       "4               0.000000       1.000000        1           0.000000        2   \n",
       "\n",
       "   minutes_sin  minutes_cos   rh_frac  norm_week  norm_hour  \n",
       "0    -0.056693    -0.998392  0.286713   0.229039   0.558661  \n",
       "1     0.811574    -0.584250  0.789474   0.217250   0.084819  \n",
       "2    -0.716302     0.697790  0.866667   0.342997   0.615457  \n",
       "3     0.697790    -0.716302  1.000000   0.780869   0.384111  \n",
       "4     0.074108    -0.997250  0.823529   0.753778   0.000000  "
      ]
     },
     "execution_count": 6,
     "metadata": {},
     "output_type": "execute_result"
    }
   ],
   "source": [
    "data.head()"
   ]
  },
  {
   "cell_type": "code",
   "execution_count": 7,
   "id": "dad496ff-a5eb-4bb6-acd1-a094ff63ac92",
   "metadata": {},
   "outputs": [],
   "source": [
    "data = rh_vs_rest_target(data)"
   ]
  },
  {
   "cell_type": "code",
   "execution_count": 8,
   "id": "7dd1e212-4651-430d-b751-fb618604db73",
   "metadata": {},
   "outputs": [],
   "source": [
    "CAT = ['weekday']\n",
    "\n",
    "TO_DROP = [\n",
    "    'valid_date', 'ts', 'sessionuuid', 'customer_id', 'booking_id',\n",
    "    'is_trip_ended', 'rh', 'is_freq', 'target'\n",
    "]"
   ]
  },
  {
   "cell_type": "markdown",
   "id": "f8aaff26-64e7-4c83-93db-bf0b5acee7b8",
   "metadata": {
    "tags": []
   },
   "source": [
    "## Time-based Split"
   ]
  },
  {
   "cell_type": "code",
   "execution_count": 9,
   "id": "4315ad5f-efe7-4a06-b729-6a38596ef723",
   "metadata": {},
   "outputs": [],
   "source": [
    "dates = np.sort(data.valid_date.unique())\n",
    "\n",
    "train = data[data.valid_date.isin(dates[:60])].copy()\n",
    "val = data[data.valid_date.isin(dates[60:75])].copy()\n",
    "test = data[data.valid_date.isin(dates[75:])].copy()"
   ]
  },
  {
   "cell_type": "code",
   "execution_count": 10,
   "id": "5af9cc14-cd1f-493d-b3f4-abbf5da40286",
   "metadata": {},
   "outputs": [
    {
     "data": {
      "text/plain": [
       "1    4881770\n",
       "0    1753098\n",
       "Name: target, dtype: int64"
      ]
     },
     "execution_count": 10,
     "metadata": {},
     "output_type": "execute_result"
    }
   ],
   "source": [
    "train.target.value_counts()"
   ]
  },
  {
   "cell_type": "code",
   "execution_count": 11,
   "id": "a09ea70b-08f2-4d03-8366-f2d69b8a6f02",
   "metadata": {},
   "outputs": [],
   "source": [
    "train['sample_weight'] = 1.0\n",
    "train.loc[(train.rh == 1) & (train.is_trip_ended == 0), 'sample_weight'] = 0.5"
   ]
  },
  {
   "cell_type": "code",
   "execution_count": 12,
   "id": "5c1a5bce-8a36-4f0d-ba02-6a4d28a5d45e",
   "metadata": {},
   "outputs": [],
   "source": [
    "train_neg = train[train.target == 0]\n",
    "\n",
    "train_pos, _ = train_test_split(\n",
    "    train[train.target == 1],\n",
    "    test_size=0.5,\n",
    "    stratify=train[train.target == 1]['sample_weight'],\n",
    "    random_state=111\n",
    ")\n",
    "\n",
    "train = pd.concat([train_neg, train_pos]).sample(frac=1.0).reset_index(drop=True)"
   ]
  },
  {
   "cell_type": "code",
   "execution_count": 13,
   "id": "30c38211-2701-4f10-875d-aa8aa7469816",
   "metadata": {},
   "outputs": [
    {
     "data": {
      "text/plain": [
       "1    2440885\n",
       "0    1753098\n",
       "Name: target, dtype: int64"
      ]
     },
     "execution_count": 13,
     "metadata": {},
     "output_type": "execute_result"
    }
   ],
   "source": [
    "train.target.value_counts()"
   ]
  },
  {
   "cell_type": "code",
   "execution_count": 14,
   "id": "dc0ddb75-8b26-4c60-99e3-249ecbe457c7",
   "metadata": {},
   "outputs": [],
   "source": [
    "cb_train = cb.Pool(\n",
    "    train.drop(TO_DROP + ['sample_weight'], axis=1),\n",
    "    label=train.target.values,\n",
    "    cat_features=CAT,\n",
    "    weight=train.sample_weight.values\n",
    ")\n",
    "\n",
    "cb_val = cb.Pool(\n",
    "    val.drop(TO_DROP, axis=1),\n",
    "    label=val.target.values,\n",
    "    cat_features=CAT\n",
    ")\n",
    "\n",
    "cb_test = test.drop(TO_DROP, axis=1)\n",
    "cb_test_y = test.target.values"
   ]
  },
  {
   "cell_type": "markdown",
   "id": "6647ed7f-b3d1-4905-9777-f256cb1d22e6",
   "metadata": {},
   "source": [
    "### Model"
   ]
  },
  {
   "cell_type": "code",
   "execution_count": 15,
   "id": "f8f8f71b",
   "metadata": {},
   "outputs": [
    {
     "name": "stdout",
     "output_type": "stream",
     "text": [
      "0:\tlearn: 0.6658696\ttest: 0.6637324\tbest: 0.6637324 (0)\ttotal: 1.29s\tremaining: 16m 7s\n",
      "50:\tlearn: 0.4499265\ttest: 0.4309754\tbest: 0.4309754 (50)\ttotal: 49.9s\tremaining: 11m 23s\n",
      "100:\tlearn: 0.4406506\ttest: 0.4235374\tbest: 0.4235374 (100)\ttotal: 1m 36s\tremaining: 10m 17s\n",
      "150:\tlearn: 0.4354561\ttest: 0.4201810\tbest: 0.4201810 (150)\ttotal: 2m 17s\tremaining: 9m 3s\n",
      "200:\tlearn: 0.4317069\ttest: 0.4179858\tbest: 0.4179858 (200)\ttotal: 2m 55s\tremaining: 7m 59s\n",
      "250:\tlearn: 0.4286697\ttest: 0.4164893\tbest: 0.4164893 (250)\ttotal: 3m 35s\tremaining: 7m 7s\n",
      "300:\tlearn: 0.4256516\ttest: 0.4151727\tbest: 0.4151727 (300)\ttotal: 4m 13s\tremaining: 6m 17s\n",
      "350:\tlearn: 0.4227398\ttest: 0.4142449\tbest: 0.4142449 (350)\ttotal: 4m 51s\tremaining: 5m 30s\n",
      "400:\tlearn: 0.4194866\ttest: 0.4132025\tbest: 0.4132025 (400)\ttotal: 5m 29s\tremaining: 4m 46s\n",
      "450:\tlearn: 0.4163098\ttest: 0.4122316\tbest: 0.4122316 (450)\ttotal: 6m 6s\tremaining: 4m 2s\n",
      "500:\tlearn: 0.4132960\ttest: 0.4113197\tbest: 0.4113197 (500)\ttotal: 6m 43s\tremaining: 3m 20s\n",
      "550:\tlearn: 0.4105972\ttest: 0.4106943\tbest: 0.4106943 (550)\ttotal: 7m 20s\tremaining: 2m 39s\n",
      "600:\tlearn: 0.4076658\ttest: 0.4099327\tbest: 0.4099327 (600)\ttotal: 7m 57s\tremaining: 1m 58s\n",
      "650:\tlearn: 0.4050466\ttest: 0.4093340\tbest: 0.4093340 (650)\ttotal: 8m 35s\tremaining: 1m 18s\n",
      "700:\tlearn: 0.4024419\ttest: 0.4086890\tbest: 0.4086890 (700)\ttotal: 9m 11s\tremaining: 38.6s\n",
      "749:\tlearn: 0.3998631\ttest: 0.4081335\tbest: 0.4081335 (749)\ttotal: 9m 48s\tremaining: 0us\n",
      "\n",
      "bestTest = 0.4081334978\n",
      "bestIteration = 749\n",
      "\n"
     ]
    }
   ],
   "source": [
    "param = {\n",
    "    'learning_rate': 0.05,\n",
    "    'depth': 10,\n",
    "    'l2_leaf_reg': 4.0,\n",
    "    'min_child_samples': 1,\n",
    "    'langevin': True,\n",
    "    'grow_policy': 'Depthwise',\n",
    "    'has_time': False,\n",
    "    'subsample': 0.85\n",
    "}\n",
    "\n",
    "param['iterations'] = 750\n",
    "param['use_best_model'] = True\n",
    "param['od_type'] = 'Iter'\n",
    "param['od_wait'] = 50\n",
    "param['random_state'] = 42\n",
    "param['bootstrap_type']= 'Bernoulli'\n",
    "param['score_function'] = 'L2'\n",
    "param['verbose'] = 50\n",
    "\n",
    "\n",
    "model = cb.CatBoostClassifier(**param)\n",
    "\n",
    "model.fit(cb_train, eval_set=cb_val, use_best_model=True, early_stopping_rounds=50)\n",
    "model.save_model('cb_models/binary_time.cbm')"
   ]
  },
  {
   "cell_type": "raw",
   "id": "612af002",
   "metadata": {},
   "source": [
    "model = cb.CatBoostClassifier().load_model('cb_models/binary_time.cbm')"
   ]
  },
  {
   "cell_type": "code",
   "execution_count": 16,
   "id": "b931e6ad-7056-4aa2-9778-b5566ce39838",
   "metadata": {},
   "outputs": [],
   "source": [
    "ppreds = model.predict_proba(cb_test)\n",
    "preds = model.predict(cb_test)"
   ]
  },
  {
   "cell_type": "markdown",
   "id": "86245e9a-e31a-48f1-945b-148d807a4fbd",
   "metadata": {},
   "source": [
    "### Evaluation"
   ]
  },
  {
   "cell_type": "code",
   "execution_count": 17,
   "id": "526f21ba",
   "metadata": {},
   "outputs": [],
   "source": [
    "from intent_model.functions import get_optimal_threshold"
   ]
  },
  {
   "cell_type": "code",
   "execution_count": 18,
   "id": "d43ff93b-19ce-426b-a566-034b6946ffac",
   "metadata": {},
   "outputs": [
    {
     "data": {
      "text/plain": [
       "0.40875496106059966"
      ]
     },
     "execution_count": 18,
     "metadata": {},
     "output_type": "execute_result"
    }
   ],
   "source": [
    "log_loss(cb_test_y, ppreds)"
   ]
  },
  {
   "cell_type": "code",
   "execution_count": 19,
   "id": "0f8b2cb3-02f2-4f01-85fa-32a4bf81486f",
   "metadata": {},
   "outputs": [
    {
     "data": {
      "text/plain": [
       "0.8794599857871638"
      ]
     },
     "execution_count": 19,
     "metadata": {},
     "output_type": "execute_result"
    }
   ],
   "source": [
    "roc_auc_score(cb_test_y, ppreds[:, 1])"
   ]
  },
  {
   "cell_type": "code",
   "execution_count": 20,
   "id": "ef89c24c-7f17-4ba9-a78d-6f2546190eaa",
   "metadata": {},
   "outputs": [
    {
     "name": "stdout",
     "output_type": "stream",
     "text": [
      "              precision    recall  f1-score   support\n",
      "\n",
      "           0       0.64      0.76      0.70    486738\n",
      "           1       0.90      0.83      0.86   1239075\n",
      "\n",
      "    accuracy                           0.81   1725813\n",
      "   macro avg       0.77      0.80      0.78   1725813\n",
      "weighted avg       0.83      0.81      0.82   1725813\n",
      "\n"
     ]
    }
   ],
   "source": [
    "print(classification_report(cb_test_y, preds))"
   ]
  },
  {
   "cell_type": "code",
   "execution_count": 21,
   "id": "bcbfe54e",
   "metadata": {},
   "outputs": [
    {
     "data": {
      "text/plain": [
       "{'latitude': 4.202235729548119,\n",
       " 'longitude': 3.5546684500113637,\n",
       " 'quantile': 2.440075395171176,\n",
       " 'min_dist_to_known_loc': 2.9966215005495074,\n",
       " 'known_loc_occ': 2.2546144842823077,\n",
       " 'dist_to_most_freq': 3.835139323177878,\n",
       " 'weekday': 0.9204972275939753,\n",
       " 'minutes_sin': 5.615801959443129,\n",
       " 'minutes_cos': 3.38334115314561,\n",
       " 'rh_frac': 54.473191646034905,\n",
       " 'norm_week': 2.399155584706776,\n",
       " 'norm_hour': 13.924657546335244}"
      ]
     },
     "execution_count": 21,
     "metadata": {},
     "output_type": "execute_result"
    }
   ],
   "source": [
    "dict(zip(model.feature_names_, model.get_feature_importance()))"
   ]
  },
  {
   "cell_type": "code",
   "execution_count": 22,
   "id": "745c570a",
   "metadata": {},
   "outputs": [
    {
     "name": "stdout",
     "output_type": "stream",
     "text": [
      "0.5001161605653033\n",
      "0.8323983616810927\n"
     ]
    }
   ],
   "source": [
    "target_thresh, expected_recall = get_optimal_threshold(cb_test_y, ppreds[:, 1], 0.9)\n",
    "\n",
    "print(target_thresh)\n",
    "print(expected_recall)"
   ]
  },
  {
   "cell_type": "code",
   "execution_count": 23,
   "id": "8c7258a0-efca-413e-8e3c-0ef3ac1cbe66",
   "metadata": {},
   "outputs": [
    {
     "data": {
      "image/png": "[encoded data removed]",
      "text/plain": [
       "<Figure size 640x480 with 2 Axes>"
      ]
     },
     "metadata": {},
     "output_type": "display_data"
    }
   ],
   "source": [
    "threshold = target_thresh\n",
    "\n",
    "cm = confusion_matrix(cb_test_y, np.where(ppreds[:, 1] > threshold, 1, 0))\n",
    "cm_display = ConfusionMatrixDisplay(cm).plot()"
   ]
  },
  {
   "cell_type": "code",
   "execution_count": 24,
   "id": "54ca0898-bd27-475d-a0fb-bc00976d785b",
   "metadata": {},
   "outputs": [
    {
     "data": {
      "image/png": "[encoded data removed]",
      "text/plain": [
       "<Figure size 640x480 with 1 Axes>"
      ]
     },
     "metadata": {},
     "output_type": "display_data"
    }
   ],
   "source": [
    "display = PrecisionRecallDisplay.from_predictions(cb_test_y, ppreds[:, 1], name=\"Catboost\")\n",
    "_ = display.ax_.set_title(\"2-class Precision-Recall curve (RH vs. Rest)\")"
   ]
  },
  {
   "cell_type": "code",
   "execution_count": 25,
   "id": "e17f7789-31c3-40a5-8f85-e551be9606a4",
   "metadata": {},
   "outputs": [
    {
     "data": {
      "image/png": "[encoded data removed]",
      "text/plain": [
       "<Figure size 640x480 with 1 Axes>"
      ]
     },
     "metadata": {},
     "output_type": "display_data"
    }
   ],
   "source": [
    "display = RocCurveDisplay.from_predictions(cb_test_y, ppreds[:, 1], name=\"Catboost\")\n",
    "_ = display.ax_.set_title(\"ROC curve (RH vs. Rest)\")"
   ]
  },
  {
   "cell_type": "code",
   "execution_count": 26,
   "id": "cf6bd6af",
   "metadata": {},
   "outputs": [
    {
     "data": {
      "image/png": "[encoded data removed]",
      "text/plain": [
       "<Figure size 640x480 with 1 Axes>"
      ]
     },
     "metadata": {},
     "output_type": "display_data"
    }
   ],
   "source": [
    "display = CalibrationDisplay.from_predictions(cb_test_y, ppreds[:, 1], name=\"Catboost\")\n",
    "_ = display.ax_.set_title(\"Calibration curve (RH vs. Rest)\")"
   ]
  },
  {
   "cell_type": "markdown",
   "id": "9c6e2729-86a7-434a-a685-33284f386873",
   "metadata": {},
   "source": [
    "### Additional Sanity Check"
   ]
  },
  {
   "cell_type": "code",
   "execution_count": 27,
   "id": "62e82866",
   "metadata": {},
   "outputs": [],
   "source": [
    "from intent_model.functions import get_conversions"
   ]
  },
  {
   "cell_type": "code",
   "execution_count": 28,
   "id": "ab19bebe-ca0e-499e-98a5-e20c35b111a1",
   "metadata": {},
   "outputs": [
    {
     "name": "stderr",
     "output_type": "stream",
     "text": [
      "100%|█████████████████████████████████████████████| 6/6 [00:01<00:00,  5.81it/s]\n"
     ]
    },
    {
     "data": {
      "text/html": [
       "<div>\n",
       "<style scoped>\n",
       "    .dataframe tbody tr th:only-of-type {\n",
       "        vertical-align: middle;\n",
       "    }\n",
       "\n",
       "    .dataframe tbody tr th {\n",
       "        vertical-align: top;\n",
       "    }\n",
       "\n",
       "    .dataframe thead th {\n",
       "        text-align: right;\n",
       "    }\n",
       "</style>\n",
       "<table border=\"1\" class=\"dataframe\">\n",
       "  <thead>\n",
       "    <tr style=\"text-align: right;\">\n",
       "      <th></th>\n",
       "      <th>threshold</th>\n",
       "      <th>sa_coverage</th>\n",
       "      <th>rh_coverage</th>\n",
       "      <th>relevance</th>\n",
       "    </tr>\n",
       "  </thead>\n",
       "  <tbody>\n",
       "    <tr>\n",
       "      <th>0</th>\n",
       "      <td>0.4</td>\n",
       "      <td>0.722668</td>\n",
       "      <td>0.882019</td>\n",
       "      <td>0.582306</td>\n",
       "    </tr>\n",
       "    <tr>\n",
       "      <th>1</th>\n",
       "      <td>0.5</td>\n",
       "      <td>0.664103</td>\n",
       "      <td>0.832459</td>\n",
       "      <td>0.606241</td>\n",
       "    </tr>\n",
       "    <tr>\n",
       "      <th>2</th>\n",
       "      <td>0.6</td>\n",
       "      <td>0.604158</td>\n",
       "      <td>0.773939</td>\n",
       "      <td>0.628434</td>\n",
       "    </tr>\n",
       "    <tr>\n",
       "      <th>3</th>\n",
       "      <td>0.7</td>\n",
       "      <td>0.534111</td>\n",
       "      <td>0.697530</td>\n",
       "      <td>0.653093</td>\n",
       "    </tr>\n",
       "    <tr>\n",
       "      <th>4</th>\n",
       "      <td>0.8</td>\n",
       "      <td>0.437115</td>\n",
       "      <td>0.581727</td>\n",
       "      <td>0.690339</td>\n",
       "    </tr>\n",
       "    <tr>\n",
       "      <th>5</th>\n",
       "      <td>0.9</td>\n",
       "      <td>0.275099</td>\n",
       "      <td>0.373819</td>\n",
       "      <td>0.772942</td>\n",
       "    </tr>\n",
       "  </tbody>\n",
       "</table>\n",
       "</div>"
      ],
      "text/plain": [
       "   threshold  sa_coverage  rh_coverage  relevance\n",
       "0        0.4     0.722668     0.882019   0.582306\n",
       "1        0.5     0.664103     0.832459   0.606241\n",
       "2        0.6     0.604158     0.773939   0.628434\n",
       "3        0.7     0.534111     0.697530   0.653093\n",
       "4        0.8     0.437115     0.581727   0.690339\n",
       "5        0.9     0.275099     0.373819   0.772942"
      ]
     },
     "execution_count": 28,
     "metadata": {},
     "output_type": "execute_result"
    }
   ],
   "source": [
    "res_df = get_conversions(test, cb_test, model)\n",
    "\n",
    "res_df"
   ]
  },
  {
   "cell_type": "code",
   "execution_count": 29,
   "id": "9d88b900-a821-45ff-a6fd-37a5a56e75c7",
   "metadata": {},
   "outputs": [
    {
     "data": {
      "text/plain": [
       "6966"
      ]
     },
     "execution_count": 29,
     "metadata": {},
     "output_type": "execute_result"
    }
   ],
   "source": [
    "gc.collect()"
   ]
  },
  {
   "cell_type": "markdown",
   "id": "d478ae4b-736d-4425-a1d4-6c1d4fcd4cbe",
   "metadata": {},
   "source": [
    "## User-based Split"
   ]
  },
  {
   "cell_type": "code",
   "execution_count": 30,
   "id": "3c507483-969a-447c-9b5a-544eaeed3d9f",
   "metadata": {},
   "outputs": [],
   "source": [
    "users = data.customer_id.unique()\n",
    "n = len(users)\n",
    "\n",
    "train = data[data.customer_id.isin(users[:int(0.5*n)])].copy()\n",
    "val = data[data.customer_id.isin(users[int(0.5*n):int(0.75*n)])].copy()\n",
    "test = data[data.customer_id.isin(users[int(0.75*n):])].copy()"
   ]
  },
  {
   "cell_type": "code",
   "execution_count": 31,
   "id": "66edefa9-b9bf-45c5-8584-5dbf6d32a32c",
   "metadata": {},
   "outputs": [
    {
     "name": "stdout",
     "output_type": "stream",
     "text": [
      "7836294\n",
      "1682432\n",
      "572121\n"
     ]
    }
   ],
   "source": [
    "print(len(train))\n",
    "print(len(val))\n",
    "print(len(test))"
   ]
  },
  {
   "cell_type": "code",
   "execution_count": 32,
   "id": "366805d1-6f1b-4399-a32f-a4f9ba009775",
   "metadata": {},
   "outputs": [
    {
     "data": {
      "text/plain": [
       "1    5947510\n",
       "0    1888784\n",
       "Name: target, dtype: int64"
      ]
     },
     "execution_count": 32,
     "metadata": {},
     "output_type": "execute_result"
    }
   ],
   "source": [
    "train.target.value_counts()"
   ]
  },
  {
   "cell_type": "code",
   "execution_count": 33,
   "id": "8e6ea9be-4d25-4d7a-8211-bb3e3e67f48c",
   "metadata": {},
   "outputs": [
    {
     "data": {
      "text/plain": [
       "1    1140518\n",
       "0     541914\n",
       "Name: target, dtype: int64"
      ]
     },
     "execution_count": 33,
     "metadata": {},
     "output_type": "execute_result"
    }
   ],
   "source": [
    "val.target.value_counts()"
   ]
  },
  {
   "cell_type": "code",
   "execution_count": 34,
   "id": "46f69bb6-9db8-449c-8a61-702517206bbc",
   "metadata": {},
   "outputs": [
    {
     "data": {
      "text/plain": [
       "1    291980\n",
       "0    280141\n",
       "Name: target, dtype: int64"
      ]
     },
     "execution_count": 34,
     "metadata": {},
     "output_type": "execute_result"
    }
   ],
   "source": [
    "test.target.value_counts()"
   ]
  },
  {
   "cell_type": "code",
   "execution_count": 35,
   "id": "8e15c526-0618-47fe-8d25-96574d404621",
   "metadata": {},
   "outputs": [],
   "source": [
    "train['sample_weight'] = 1.0\n",
    "train.loc[(train.rh == 1) & (train.is_trip_ended == 0), 'sample_weight'] = 0.5"
   ]
  },
  {
   "cell_type": "code",
   "execution_count": 36,
   "id": "0c4365a8-94e0-4b8e-95a8-a33b09dedde0",
   "metadata": {},
   "outputs": [],
   "source": [
    "train_neg = train[train.target == 0]\n",
    "\n",
    "train_pos, _ = train_test_split(\n",
    "    train[train.target == 1],\n",
    "    test_size=0.5,\n",
    "    stratify=train[train.target == 1]['sample_weight'],\n",
    "    random_state=111\n",
    ")\n",
    "\n",
    "train = pd.concat([train_neg, train_pos]).sample(frac=1.0).reset_index(drop=True)"
   ]
  },
  {
   "cell_type": "code",
   "execution_count": 37,
   "id": "edb5231e-3a63-49ae-8fb5-b5f6b3da7357",
   "metadata": {},
   "outputs": [
    {
     "data": {
      "text/plain": [
       "1    2973755\n",
       "0    1888784\n",
       "Name: target, dtype: int64"
      ]
     },
     "execution_count": 37,
     "metadata": {},
     "output_type": "execute_result"
    }
   ],
   "source": [
    "train.target.value_counts()"
   ]
  },
  {
   "cell_type": "code",
   "execution_count": 38,
   "id": "fd4de82e-4e1f-4766-9996-663fbd9aa090",
   "metadata": {},
   "outputs": [],
   "source": [
    "cb_train = cb.Pool(\n",
    "    train.drop(TO_DROP + ['sample_weight'], axis=1),\n",
    "    label=train.target.values,\n",
    "    cat_features=CAT,\n",
    "    weight=train.sample_weight.values\n",
    ")\n",
    "\n",
    "cb_val = cb.Pool(\n",
    "    val.drop(TO_DROP, axis=1),\n",
    "    label=val.target.values,\n",
    "    cat_features=CAT\n",
    ")\n",
    "\n",
    "cb_test = test.drop(TO_DROP, axis=1)\n",
    "cb_test_y = test.target.values"
   ]
  },
  {
   "cell_type": "markdown",
   "id": "dde31df7-9d4e-419b-9620-8a009cc022ef",
   "metadata": {},
   "source": [
    "### Model"
   ]
  },
  {
   "cell_type": "code",
   "execution_count": 39,
   "id": "9ea252b0",
   "metadata": {},
   "outputs": [
    {
     "name": "stdout",
     "output_type": "stream",
     "text": [
      "0:\tlearn: 0.6645525\ttest: 0.6652196\tbest: 0.6652196 (0)\ttotal: 1.48s\tremaining: 18m 27s\n",
      "50:\tlearn: 0.4422505\ttest: 0.4454229\tbest: 0.4454229 (50)\ttotal: 56.5s\tremaining: 12m 54s\n",
      "100:\tlearn: 0.4333286\ttest: 0.4399108\tbest: 0.4399108 (100)\ttotal: 1m 47s\tremaining: 11m 30s\n",
      "150:\tlearn: 0.4287534\ttest: 0.4378090\tbest: 0.4378090 (150)\ttotal: 2m 33s\tremaining: 10m 8s\n",
      "200:\tlearn: 0.4248154\ttest: 0.4360083\tbest: 0.4360083 (200)\ttotal: 3m 17s\tremaining: 8m 59s\n",
      "250:\tlearn: 0.4216544\ttest: 0.4347546\tbest: 0.4347546 (250)\ttotal: 4m 1s\tremaining: 7m 59s\n",
      "300:\tlearn: 0.4184920\ttest: 0.4337414\tbest: 0.4337414 (300)\ttotal: 4m 44s\tremaining: 7m 4s\n",
      "350:\tlearn: 0.4157054\ttest: 0.4329472\tbest: 0.4329472 (350)\ttotal: 5m 26s\tremaining: 6m 10s\n",
      "400:\tlearn: 0.4126267\ttest: 0.4323313\tbest: 0.4323313 (400)\ttotal: 6m 8s\tremaining: 5m 20s\n",
      "450:\tlearn: 0.4096039\ttest: 0.4316773\tbest: 0.4316773 (450)\ttotal: 6m 50s\tremaining: 4m 32s\n",
      "500:\tlearn: 0.4068962\ttest: 0.4312573\tbest: 0.4312573 (500)\ttotal: 7m 31s\tremaining: 3m 44s\n",
      "550:\tlearn: 0.4040900\ttest: 0.4307490\tbest: 0.4307490 (550)\ttotal: 8m 14s\tremaining: 2m 58s\n",
      "600:\tlearn: 0.4014428\ttest: 0.4303277\tbest: 0.4303277 (600)\ttotal: 8m 57s\tremaining: 2m 13s\n",
      "650:\tlearn: 0.3989123\ttest: 0.4299766\tbest: 0.4299762 (649)\ttotal: 9m 39s\tremaining: 1m 28s\n",
      "700:\tlearn: 0.3966121\ttest: 0.4297339\tbest: 0.4297339 (700)\ttotal: 10m 22s\tremaining: 43.5s\n",
      "749:\tlearn: 0.3942496\ttest: 0.4294357\tbest: 0.4294357 (749)\ttotal: 11m 3s\tremaining: 0us\n",
      "\n",
      "bestTest = 0.4294356946\n",
      "bestIteration = 749\n",
      "\n"
     ]
    }
   ],
   "source": [
    "param = {\n",
    "    'learning_rate': 0.05,\n",
    "    'depth': 10,\n",
    "    'l2_leaf_reg': 4.0,\n",
    "    'min_child_samples': 1,\n",
    "    'langevin': True,\n",
    "    'grow_policy': 'Depthwise',\n",
    "    'has_time': False,\n",
    "    'subsample': 0.85\n",
    "}\n",
    "\n",
    "param['iterations'] = 750\n",
    "param['use_best_model'] = True\n",
    "param['od_type'] = 'Iter'\n",
    "param['od_wait'] = 50\n",
    "param['random_state'] = 42\n",
    "param['bootstrap_type']= 'Bernoulli'\n",
    "param['score_function'] = 'L2'\n",
    "param['verbose'] = 50\n",
    "\n",
    "\n",
    "u_model = cb.CatBoostClassifier(**param)\n",
    "\n",
    "u_model.fit(cb_train, eval_set=cb_val, use_best_model=True, early_stopping_rounds=50)\n",
    "u_model.save_model('cb_models/binary_user.cbm')"
   ]
  },
  {
   "cell_type": "raw",
   "id": "344204d0",
   "metadata": {},
   "source": [
    "u_model = cb.CatBoostClassifier().load_model('cb_models/binary_user.cbm')"
   ]
  },
  {
   "cell_type": "code",
   "execution_count": 40,
   "id": "24039372-d4fb-453a-901c-5fb75683fe27",
   "metadata": {},
   "outputs": [],
   "source": [
    "u_ppreds = u_model.predict_proba(cb_test)\n",
    "u_preds = u_model.predict(cb_test)"
   ]
  },
  {
   "cell_type": "markdown",
   "id": "b8f852a0-5550-44e1-a303-dd151549e0d7",
   "metadata": {},
   "source": [
    "### Evaluation"
   ]
  },
  {
   "cell_type": "code",
   "execution_count": 41,
   "id": "fde56b0d-fe7c-4572-a642-2393ef36010a",
   "metadata": {},
   "outputs": [
    {
     "data": {
      "text/plain": [
       "0.46828714417611733"
      ]
     },
     "execution_count": 41,
     "metadata": {},
     "output_type": "execute_result"
    }
   ],
   "source": [
    "log_loss(cb_test_y, u_ppreds)"
   ]
  },
  {
   "cell_type": "code",
   "execution_count": 42,
   "id": "5e534d80-76f1-4025-9700-7e51b6fe6be8",
   "metadata": {},
   "outputs": [
    {
     "data": {
      "text/plain": [
       "0.8611060061701009"
      ]
     },
     "execution_count": 42,
     "metadata": {},
     "output_type": "execute_result"
    }
   ],
   "source": [
    "roc_auc_score(cb_test_y, u_ppreds[:, 1])"
   ]
  },
  {
   "cell_type": "code",
   "execution_count": 43,
   "id": "1aedcec8-f042-4d44-a002-84b714b0b039",
   "metadata": {},
   "outputs": [
    {
     "name": "stdout",
     "output_type": "stream",
     "text": [
      "              precision    recall  f1-score   support\n",
      "\n",
      "           0       0.80      0.74      0.77    280141\n",
      "           1       0.77      0.83      0.80    291980\n",
      "\n",
      "    accuracy                           0.78    572121\n",
      "   macro avg       0.79      0.78      0.78    572121\n",
      "weighted avg       0.79      0.78      0.78    572121\n",
      "\n"
     ]
    }
   ],
   "source": [
    "print(classification_report(cb_test_y, u_preds))"
   ]
  },
  {
   "cell_type": "code",
   "execution_count": 44,
   "id": "2ecd988a",
   "metadata": {},
   "outputs": [
    {
     "data": {
      "text/plain": [
       "{'latitude': 4.249576542344971,\n",
       " 'longitude': 3.63948144912636,\n",
       " 'quantile': 1.883292816162945,\n",
       " 'min_dist_to_known_loc': 3.050009720933944,\n",
       " 'known_loc_occ': 2.251948792190772,\n",
       " 'dist_to_most_freq': 4.0716395948963635,\n",
       " 'weekday': 0.9307726072701388,\n",
       " 'minutes_sin': 5.75948162608809,\n",
       " 'minutes_cos': 3.4148298609963494,\n",
       " 'rh_frac': 53.26745042143963,\n",
       " 'norm_week': 2.3271654289699444,\n",
       " 'norm_hour': 15.154351139580506}"
      ]
     },
     "execution_count": 44,
     "metadata": {},
     "output_type": "execute_result"
    }
   ],
   "source": [
    "dict(zip(u_model.feature_names_, u_model.get_feature_importance()))"
   ]
  },
  {
   "cell_type": "code",
   "execution_count": 45,
   "id": "e11ec317",
   "metadata": {},
   "outputs": [
    {
     "name": "stdout",
     "output_type": "stream",
     "text": [
      "0.8499155321819466\n",
      "0.4246318240975409\n"
     ]
    }
   ],
   "source": [
    "target_thresh, expected_recall = get_optimal_threshold(cb_test_y, u_ppreds[:, 1], 0.9)\n",
    "\n",
    "print(target_thresh)\n",
    "print(expected_recall)"
   ]
  },
  {
   "cell_type": "code",
   "execution_count": 46,
   "id": "8d287872-544b-426e-9ff9-b518fbf20cd3",
   "metadata": {},
   "outputs": [
    {
     "data": {
      "image/png": "[encoded data removed]",
      "text/plain": [
       "<Figure size 640x480 with 2 Axes>"
      ]
     },
     "metadata": {},
     "output_type": "display_data"
    }
   ],
   "source": [
    "threshold = target_thresh\n",
    "\n",
    "cm = confusion_matrix(cb_test_y, np.where(u_ppreds[:, 1] > threshold, 1, 0))\n",
    "cm_display = ConfusionMatrixDisplay(cm).plot()"
   ]
  },
  {
   "cell_type": "code",
   "execution_count": 47,
   "id": "14d0541c-0630-4a67-9822-7c85a83ed8dd",
   "metadata": {},
   "outputs": [
    {
     "data": {
      "image/png": "[encoded data removed]",
      "text/plain": [
       "<Figure size 640x480 with 1 Axes>"
      ]
     },
     "metadata": {},
     "output_type": "display_data"
    }
   ],
   "source": [
    "display = PrecisionRecallDisplay.from_predictions(cb_test_y, u_ppreds[:, 1], name=\"Catboost\")\n",
    "_ = display.ax_.set_title(\"2-class Precision-Recall curve (RH vs. Rest)\")"
   ]
  },
  {
   "cell_type": "code",
   "execution_count": 48,
   "id": "6520950d-d970-40d2-8e55-551e0cff14f0",
   "metadata": {},
   "outputs": [
    {
     "data": {
      "image/png": "[encoded data removed]",
      "text/plain": [
       "<Figure size 640x480 with 1 Axes>"
      ]
     },
     "metadata": {},
     "output_type": "display_data"
    }
   ],
   "source": [
    "display = RocCurveDisplay.from_predictions(cb_test_y, u_ppreds[:, 1], name=\"Catboost\")\n",
    "_ = display.ax_.set_title(\"ROC curve (RH vs. Rest)\")"
   ]
  },
  {
   "cell_type": "markdown",
   "id": "7b0bb010",
   "metadata": {},
   "source": [
    "#### \"Bad\" users"
   ]
  },
  {
   "cell_type": "code",
   "execution_count": 49,
   "id": "d111d8b8-f855-4dad-a545-6330d9ca0629",
   "metadata": {},
   "outputs": [
    {
     "data": {
      "text/html": [
       "<div>\n",
       "<style scoped>\n",
       "    .dataframe tbody tr th:only-of-type {\n",
       "        vertical-align: middle;\n",
       "    }\n",
       "\n",
       "    .dataframe tbody tr th {\n",
       "        vertical-align: top;\n",
       "    }\n",
       "\n",
       "    .dataframe thead th {\n",
       "        text-align: right;\n",
       "    }\n",
       "</style>\n",
       "<table border=\"1\" class=\"dataframe\">\n",
       "  <thead>\n",
       "    <tr style=\"text-align: right;\">\n",
       "      <th></th>\n",
       "      <th>customer_id</th>\n",
       "      <th>loss</th>\n",
       "    </tr>\n",
       "  </thead>\n",
       "  <tbody>\n",
       "    <tr>\n",
       "      <th>40107</th>\n",
       "      <td>52673893</td>\n",
       "      <td>4.624765</td>\n",
       "    </tr>\n",
       "    <tr>\n",
       "      <th>63502</th>\n",
       "      <td>60104648</td>\n",
       "      <td>4.106798</td>\n",
       "    </tr>\n",
       "    <tr>\n",
       "      <th>71742</th>\n",
       "      <td>62049327</td>\n",
       "      <td>4.058340</td>\n",
       "    </tr>\n",
       "    <tr>\n",
       "      <th>47720</th>\n",
       "      <td>55426133</td>\n",
       "      <td>4.045803</td>\n",
       "    </tr>\n",
       "    <tr>\n",
       "      <th>57703</th>\n",
       "      <td>58748436</td>\n",
       "      <td>3.794964</td>\n",
       "    </tr>\n",
       "    <tr>\n",
       "      <th>42091</th>\n",
       "      <td>53323263</td>\n",
       "      <td>3.786470</td>\n",
       "    </tr>\n",
       "    <tr>\n",
       "      <th>62741</th>\n",
       "      <td>59893245</td>\n",
       "      <td>3.775129</td>\n",
       "    </tr>\n",
       "    <tr>\n",
       "      <th>5086</th>\n",
       "      <td>6240853</td>\n",
       "      <td>3.668198</td>\n",
       "    </tr>\n",
       "    <tr>\n",
       "      <th>58151</th>\n",
       "      <td>58855221</td>\n",
       "      <td>3.629358</td>\n",
       "    </tr>\n",
       "    <tr>\n",
       "      <th>22627</th>\n",
       "      <td>41649384</td>\n",
       "      <td>3.618667</td>\n",
       "    </tr>\n",
       "  </tbody>\n",
       "</table>\n",
       "</div>"
      ],
      "text/plain": [
       "       customer_id      loss\n",
       "40107     52673893  4.624765\n",
       "63502     60104648  4.106798\n",
       "71742     62049327  4.058340\n",
       "47720     55426133  4.045803\n",
       "57703     58748436  3.794964\n",
       "42091     53323263  3.786470\n",
       "62741     59893245  3.775129\n",
       "5086       6240853  3.668198\n",
       "58151     58855221  3.629358\n",
       "22627     41649384  3.618667"
      ]
     },
     "execution_count": 49,
     "metadata": {},
     "output_type": "execute_result"
    }
   ],
   "source": [
    "test['preds'] = u_ppreds[:, 1]\n",
    "test['loss'] = -(test['target'] * np.log(test['preds']) + (1 - test['target'])*np.log(1 - test['preds']))\n",
    "\n",
    "test_g = test[['customer_id', 'loss']].groupby('customer_id', as_index=False).mean()\\\n",
    "    .sort_values('loss', ascending=False)\n",
    "\n",
    "test_g.head(10)"
   ]
  },
  {
   "cell_type": "code",
   "execution_count": 50,
   "id": "31ddd221-070a-4151-b8d6-598b5f8eb7d1",
   "metadata": {},
   "outputs": [
    {
     "data": {
      "text/plain": [
       "<AxesSubplot: ylabel='Density'>"
      ]
     },
     "execution_count": 50,
     "metadata": {},
     "output_type": "execute_result"
    },
    {
     "data": {
      "image/png": "[encoded data removed]",
      "text/plain": [
       "<Figure size 640x480 with 1 Axes>"
      ]
     },
     "metadata": {},
     "output_type": "display_data"
    }
   ],
   "source": [
    "test_g.loss.plot(kind='kde')"
   ]
  },
  {
   "cell_type": "code",
   "execution_count": 51,
   "id": "52bb6094-3c18-4f3e-a717-4f84e28d3177",
   "metadata": {},
   "outputs": [
    {
     "data": {
      "text/html": [
       "<div>\n",
       "<style scoped>\n",
       "    .dataframe tbody tr th:only-of-type {\n",
       "        vertical-align: middle;\n",
       "    }\n",
       "\n",
       "    .dataframe tbody tr th {\n",
       "        vertical-align: top;\n",
       "    }\n",
       "\n",
       "    .dataframe thead th {\n",
       "        text-align: right;\n",
       "    }\n",
       "</style>\n",
       "<table border=\"1\" class=\"dataframe\">\n",
       "  <thead>\n",
       "    <tr style=\"text-align: right;\">\n",
       "      <th></th>\n",
       "      <th>customer_id</th>\n",
       "      <th>loss</th>\n",
       "    </tr>\n",
       "  </thead>\n",
       "  <tbody>\n",
       "    <tr>\n",
       "      <th>34336</th>\n",
       "      <td>49463265</td>\n",
       "      <td>3.126964</td>\n",
       "    </tr>\n",
       "    <tr>\n",
       "      <th>11391</th>\n",
       "      <td>21137735</td>\n",
       "      <td>2.769525</td>\n",
       "    </tr>\n",
       "    <tr>\n",
       "      <th>6485</th>\n",
       "      <td>9220324</td>\n",
       "      <td>2.669016</td>\n",
       "    </tr>\n",
       "    <tr>\n",
       "      <th>13156</th>\n",
       "      <td>25635560</td>\n",
       "      <td>2.528004</td>\n",
       "    </tr>\n",
       "    <tr>\n",
       "      <th>596</th>\n",
       "      <td>116000</td>\n",
       "      <td>2.420255</td>\n",
       "    </tr>\n",
       "    <tr>\n",
       "      <th>45693</th>\n",
       "      <td>54167164</td>\n",
       "      <td>2.368467</td>\n",
       "    </tr>\n",
       "    <tr>\n",
       "      <th>35739</th>\n",
       "      <td>50263484</td>\n",
       "      <td>2.360258</td>\n",
       "    </tr>\n",
       "    <tr>\n",
       "      <th>79217</th>\n",
       "      <td>63565420</td>\n",
       "      <td>2.236780</td>\n",
       "    </tr>\n",
       "    <tr>\n",
       "      <th>40054</th>\n",
       "      <td>52272520</td>\n",
       "      <td>2.212001</td>\n",
       "    </tr>\n",
       "    <tr>\n",
       "      <th>66047</th>\n",
       "      <td>60515725</td>\n",
       "      <td>2.175615</td>\n",
       "    </tr>\n",
       "  </tbody>\n",
       "</table>\n",
       "</div>"
      ],
      "text/plain": [
       "       customer_id      loss\n",
       "34336     49463265  3.126964\n",
       "11391     21137735  2.769525\n",
       "6485       9220324  2.669016\n",
       "13156     25635560  2.528004\n",
       "596         116000  2.420255\n",
       "45693     54167164  2.368467\n",
       "35739     50263484  2.360258\n",
       "79217     63565420  2.236780\n",
       "40054     52272520  2.212001\n",
       "66047     60515725  2.175615"
      ]
     },
     "execution_count": 51,
     "metadata": {},
     "output_type": "execute_result"
    }
   ],
   "source": [
    "val['preds'] = u_model.predict_proba(cb_val)[:, 1]\n",
    "val['loss'] = -(val['target'] * np.log(val['preds']) + (1 - val['target'])*np.log(1 - val['preds']))\n",
    "\n",
    "val_g = val[['customer_id', 'loss']].groupby('customer_id', as_index=False).mean()\\\n",
    "    .sort_values('loss', ascending=False)\n",
    "\n",
    "val_g.head(10)"
   ]
  },
  {
   "cell_type": "code",
   "execution_count": 52,
   "id": "eabedf0d-7246-4bfd-91b2-74a55c1baeba",
   "metadata": {},
   "outputs": [
    {
     "data": {
      "text/plain": [
       "<AxesSubplot: ylabel='Density'>"
      ]
     },
     "execution_count": 52,
     "metadata": {},
     "output_type": "execute_result"
    },
    {
     "data": {
      "image/png": "[encoded data removed]",
      "text/plain": [
       "<Figure size 640x480 with 1 Axes>"
      ]
     },
     "metadata": {},
     "output_type": "display_data"
    }
   ],
   "source": [
    "val_g.loss.plot(kind='kde')"
   ]
  },
  {
   "cell_type": "code",
   "execution_count": 53,
   "id": "57e6034a-fb7f-475c-b41e-e37bb2425e9b",
   "metadata": {},
   "outputs": [
    {
     "data": {
      "text/html": [
       "<div>\n",
       "<style scoped>\n",
       "    .dataframe tbody tr th:only-of-type {\n",
       "        vertical-align: middle;\n",
       "    }\n",
       "\n",
       "    .dataframe tbody tr th {\n",
       "        vertical-align: top;\n",
       "    }\n",
       "\n",
       "    .dataframe thead th {\n",
       "        text-align: right;\n",
       "    }\n",
       "</style>\n",
       "<table border=\"1\" class=\"dataframe\">\n",
       "  <thead>\n",
       "    <tr style=\"text-align: right;\">\n",
       "      <th></th>\n",
       "      <th>customer_id</th>\n",
       "      <th>loss</th>\n",
       "    </tr>\n",
       "  </thead>\n",
       "  <tbody>\n",
       "    <tr>\n",
       "      <th>127244</th>\n",
       "      <td>59257237</td>\n",
       "      <td>4.296490</td>\n",
       "    </tr>\n",
       "    <tr>\n",
       "      <th>59622</th>\n",
       "      <td>45324372</td>\n",
       "      <td>3.628333</td>\n",
       "    </tr>\n",
       "    <tr>\n",
       "      <th>115277</th>\n",
       "      <td>57566077</td>\n",
       "      <td>3.472531</td>\n",
       "    </tr>\n",
       "    <tr>\n",
       "      <th>90682</th>\n",
       "      <td>53219335</td>\n",
       "      <td>3.452891</td>\n",
       "    </tr>\n",
       "    <tr>\n",
       "      <th>14199</th>\n",
       "      <td>9910581</td>\n",
       "      <td>3.233353</td>\n",
       "    </tr>\n",
       "    <tr>\n",
       "      <th>56175</th>\n",
       "      <td>44207201</td>\n",
       "      <td>3.068390</td>\n",
       "    </tr>\n",
       "    <tr>\n",
       "      <th>77789</th>\n",
       "      <td>50761092</td>\n",
       "      <td>2.721518</td>\n",
       "    </tr>\n",
       "    <tr>\n",
       "      <th>90926</th>\n",
       "      <td>53256804</td>\n",
       "      <td>2.701277</td>\n",
       "    </tr>\n",
       "    <tr>\n",
       "      <th>65013</th>\n",
       "      <td>46807371</td>\n",
       "      <td>2.673435</td>\n",
       "    </tr>\n",
       "    <tr>\n",
       "      <th>136078</th>\n",
       "      <td>60464677</td>\n",
       "      <td>2.624440</td>\n",
       "    </tr>\n",
       "  </tbody>\n",
       "</table>\n",
       "</div>"
      ],
      "text/plain": [
       "        customer_id      loss\n",
       "127244     59257237  4.296490\n",
       "59622      45324372  3.628333\n",
       "115277     57566077  3.472531\n",
       "90682      53219335  3.452891\n",
       "14199       9910581  3.233353\n",
       "56175      44207201  3.068390\n",
       "77789      50761092  2.721518\n",
       "90926      53256804  2.701277\n",
       "65013      46807371  2.673435\n",
       "136078     60464677  2.624440"
      ]
     },
     "execution_count": 53,
     "metadata": {},
     "output_type": "execute_result"
    }
   ],
   "source": [
    "train['preds'] = u_model.predict_proba(cb_train)[:, 1]\n",
    "train['loss'] = -(train['target'] * np.log(train['preds']) + (1 - train['target'])*np.log(1 - train['preds']))\n",
    "\n",
    "train_g = train[['customer_id', 'loss']].groupby('customer_id', as_index=False).mean()\\\n",
    "    .sort_values('loss', ascending=False)\n",
    "\n",
    "train_g.head(10)"
   ]
  },
  {
   "cell_type": "code",
   "execution_count": 54,
   "id": "30dcf564-8367-4352-841f-cc8aa8a29b57",
   "metadata": {},
   "outputs": [
    {
     "data": {
      "text/plain": [
       "<AxesSubplot: ylabel='Density'>"
      ]
     },
     "execution_count": 54,
     "metadata": {},
     "output_type": "execute_result"
    },
    {
     "data": {
      "image/png": "[encoded data removed]",
      "text/plain": [
       "<Figure size 640x480 with 1 Axes>"
      ]
     },
     "metadata": {},
     "output_type": "display_data"
    }
   ],
   "source": [
    "train_g.loss.plot(kind='kde')"
   ]
  },
  {
   "cell_type": "markdown",
   "id": "30b216f0-ae4b-4aa2-8519-fdd2a20ea686",
   "metadata": {},
   "source": [
    "### Additional Sanity Check"
   ]
  },
  {
   "cell_type": "code",
   "execution_count": 55,
   "id": "2f1ce0f2-3af1-434c-afbc-22fd68b193bd",
   "metadata": {},
   "outputs": [
    {
     "name": "stderr",
     "output_type": "stream",
     "text": [
      "100%|█████████████████████████████████████████████| 6/6 [00:00<00:00, 26.79it/s]\n"
     ]
    },
    {
     "data": {
      "text/html": [
       "<div>\n",
       "<style scoped>\n",
       "    .dataframe tbody tr th:only-of-type {\n",
       "        vertical-align: middle;\n",
       "    }\n",
       "\n",
       "    .dataframe tbody tr th {\n",
       "        vertical-align: top;\n",
       "    }\n",
       "\n",
       "    .dataframe thead th {\n",
       "        text-align: right;\n",
       "    }\n",
       "</style>\n",
       "<table border=\"1\" class=\"dataframe\">\n",
       "  <thead>\n",
       "    <tr style=\"text-align: right;\">\n",
       "      <th></th>\n",
       "      <th>threshold</th>\n",
       "      <th>sa_coverage</th>\n",
       "      <th>rh_coverage</th>\n",
       "      <th>relevance</th>\n",
       "    </tr>\n",
       "  </thead>\n",
       "  <tbody>\n",
       "    <tr>\n",
       "      <th>0</th>\n",
       "      <td>0.4</td>\n",
       "      <td>0.614227</td>\n",
       "      <td>0.877341</td>\n",
       "      <td>0.357179</td>\n",
       "    </tr>\n",
       "    <tr>\n",
       "      <th>1</th>\n",
       "      <td>0.5</td>\n",
       "      <td>0.547360</td>\n",
       "      <td>0.825454</td>\n",
       "      <td>0.382384</td>\n",
       "    </tr>\n",
       "    <tr>\n",
       "      <th>2</th>\n",
       "      <td>0.6</td>\n",
       "      <td>0.483099</td>\n",
       "      <td>0.762254</td>\n",
       "      <td>0.406153</td>\n",
       "    </tr>\n",
       "    <tr>\n",
       "      <th>3</th>\n",
       "      <td>0.7</td>\n",
       "      <td>0.413683</td>\n",
       "      <td>0.680629</td>\n",
       "      <td>0.432383</td>\n",
       "    </tr>\n",
       "    <tr>\n",
       "      <th>4</th>\n",
       "      <td>0.8</td>\n",
       "      <td>0.319590</td>\n",
       "      <td>0.548020</td>\n",
       "      <td>0.473256</td>\n",
       "    </tr>\n",
       "    <tr>\n",
       "      <th>5</th>\n",
       "      <td>0.9</td>\n",
       "      <td>0.145565</td>\n",
       "      <td>0.265011</td>\n",
       "      <td>0.613165</td>\n",
       "    </tr>\n",
       "  </tbody>\n",
       "</table>\n",
       "</div>"
      ],
      "text/plain": [
       "   threshold  sa_coverage  rh_coverage  relevance\n",
       "0        0.4     0.614227     0.877341   0.357179\n",
       "1        0.5     0.547360     0.825454   0.382384\n",
       "2        0.6     0.483099     0.762254   0.406153\n",
       "3        0.7     0.413683     0.680629   0.432383\n",
       "4        0.8     0.319590     0.548020   0.473256\n",
       "5        0.9     0.145565     0.265011   0.613165"
      ]
     },
     "execution_count": 55,
     "metadata": {},
     "output_type": "execute_result"
    }
   ],
   "source": [
    "res_df = get_conversions(test, cb_test, u_model)\n",
    "\n",
    "res_df"
   ]
  },
  {
   "cell_type": "code",
   "execution_count": 56,
   "id": "b4e0fdb8-0ae7-4748-b11a-eabc75a8716e",
   "metadata": {},
   "outputs": [
    {
     "data": {
      "text/plain": [
       "12194"
      ]
     },
     "execution_count": 56,
     "metadata": {},
     "output_type": "execute_result"
    }
   ],
   "source": [
    "gc.collect()"
   ]
  },
  {
   "cell_type": "code",
   "execution_count": null,
   "id": "f3df08eb",
   "metadata": {},
   "outputs": [],
   "source": []
  }
 ],
 "metadata": {
  "kernelspec": {
   "display_name": "Python [conda env:geo] *",
   "language": "python",
   "name": "conda-env-geo-py"
  },
  "language_info": {
   "codemirror_mode": {
    "name": "ipython",
    "version": 3
   },
   "file_extension": ".py",
   "mimetype": "text/x-python",
   "name": "python",
   "nbconvert_exporter": "python",
   "pygments_lexer": "ipython3",
   "version": "3.8.16"
  }
 },
 "nbformat": 4,
 "nbformat_minor": 5
}
