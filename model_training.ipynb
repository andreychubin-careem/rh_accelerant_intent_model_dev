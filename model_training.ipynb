{
 "cells": [
  {
   "cell_type": "code",
   "execution_count": 1,
   "id": "0e03db19-61bd-4370-8279-c7790a570414",
   "metadata": {},
   "outputs": [],
   "source": [
    "import gc\n",
    "import warnings\n",
    "import numpy as np\n",
    "import pandas as pd\n",
    "import catboost as cb\n",
    "import matplotlib.pyplot as plt\n",
    "import seaborn as sns\n",
    "\n",
    "from tqdm import tqdm\n",
    "\n",
    "from sklearn.model_selection import train_test_split\n",
    "from sklearn.calibration import CalibrationDisplay\n",
    "from sklearn.metrics import (\n",
    "    confusion_matrix,\n",
    "    ConfusionMatrixDisplay,\n",
    "    classification_report,\n",
    "    precision_recall_curve,\n",
    "    roc_auc_score,\n",
    "    PrecisionRecallDisplay,\n",
    "    log_loss,\n",
    "    RocCurveDisplay\n",
    ")\n",
    "\n",
    "from intent_model.preprocessing.targets import rh_vs_rest_target"
   ]
  },
  {
   "cell_type": "code",
   "execution_count": 2,
   "id": "9c5d1ad2-8446-48e6-97f2-fe68c4ac65ef",
   "metadata": {},
   "outputs": [],
   "source": [
    "warnings.filterwarnings('ignore')"
   ]
  },
  {
   "cell_type": "code",
   "execution_count": 3,
   "id": "c0fc5f4f-1a0c-4e38-9809-a8d51ef91349",
   "metadata": {},
   "outputs": [],
   "source": [
    "data = pd.read_parquet('data/dataset_v3/dataset.pq')"
   ]
  },
  {
   "cell_type": "code",
   "execution_count": 4,
   "id": "4959acd5-6b46-46ff-bd65-42403c507382",
   "metadata": {},
   "outputs": [],
   "source": [
    "data['min_dist_to_known_loc'] /= 100"
   ]
  },
  {
   "cell_type": "code",
   "execution_count": 5,
   "id": "2b299616-7bea-4c5b-b890-8ebcb85cc243",
   "metadata": {},
   "outputs": [
    {
     "data": {
      "text/plain": [
       "Index(['valid_date', 'ts', 'sessionuuid', 'customer_id', 'booking_id',\n",
       "       'latitude', 'longitude', 'is_trip_ended', 'quantile', 'weekday',\n",
       "       'minutes_sin', 'minutes_cos', 'rh', 'norm_week', 'norm_hour',\n",
       "       'min_dist_to_known_loc', 'known_loc_occ', 'is_freq',\n",
       "       'dist_to_most_freq', 'rh_frac'],\n",
       "      dtype='object')"
      ]
     },
     "execution_count": 5,
     "metadata": {},
     "output_type": "execute_result"
    }
   ],
   "source": [
    "data.columns"
   ]
  },
  {
   "cell_type": "code",
   "execution_count": 6,
   "id": "3c23fb1b-bd2e-4c01-956a-f77bf4115be0",
   "metadata": {},
   "outputs": [
    {
     "data": {
      "text/html": [
       "<div>\n",
       "<style scoped>\n",
       "    .dataframe tbody tr th:only-of-type {\n",
       "        vertical-align: middle;\n",
       "    }\n",
       "\n",
       "    .dataframe tbody tr th {\n",
       "        vertical-align: top;\n",
       "    }\n",
       "\n",
       "    .dataframe thead th {\n",
       "        text-align: right;\n",
       "    }\n",
       "</style>\n",
       "<table border=\"1\" class=\"dataframe\">\n",
       "  <thead>\n",
       "    <tr style=\"text-align: right;\">\n",
       "      <th></th>\n",
       "      <th>valid_date</th>\n",
       "      <th>ts</th>\n",
       "      <th>sessionuuid</th>\n",
       "      <th>customer_id</th>\n",
       "      <th>booking_id</th>\n",
       "      <th>latitude</th>\n",
       "      <th>longitude</th>\n",
       "      <th>is_trip_ended</th>\n",
       "      <th>quantile</th>\n",
       "      <th>weekday</th>\n",
       "      <th>minutes_sin</th>\n",
       "      <th>minutes_cos</th>\n",
       "      <th>rh</th>\n",
       "      <th>norm_week</th>\n",
       "      <th>norm_hour</th>\n",
       "      <th>min_dist_to_known_loc</th>\n",
       "      <th>known_loc_occ</th>\n",
       "      <th>is_freq</th>\n",
       "      <th>dist_to_most_freq</th>\n",
       "      <th>rh_frac</th>\n",
       "    </tr>\n",
       "  </thead>\n",
       "  <tbody>\n",
       "    <tr>\n",
       "      <th>0</th>\n",
       "      <td>2023-05-23</td>\n",
       "      <td>2023-05-23 08:00:01</td>\n",
       "      <td>502DEA41-AD08-4C0B-9240-9E3840159680</td>\n",
       "      <td>9226442</td>\n",
       "      <td>0</td>\n",
       "      <td>25.160</td>\n",
       "      <td>55.302</td>\n",
       "      <td>0</td>\n",
       "      <td>0.84</td>\n",
       "      <td>2</td>\n",
       "      <td>0.866025</td>\n",
       "      <td>-0.5</td>\n",
       "      <td>0</td>\n",
       "      <td>0.156174</td>\n",
       "      <td>0.000000</td>\n",
       "      <td>0.000870</td>\n",
       "      <td>0.800000</td>\n",
       "      <td>0</td>\n",
       "      <td>0.087006</td>\n",
       "      <td>1.000000</td>\n",
       "    </tr>\n",
       "    <tr>\n",
       "      <th>1</th>\n",
       "      <td>2023-05-23</td>\n",
       "      <td>2023-05-23 08:00:01</td>\n",
       "      <td>1669F369-7554-48CF-B3FF-0550B23F5233</td>\n",
       "      <td>55218057</td>\n",
       "      <td>0</td>\n",
       "      <td>25.110</td>\n",
       "      <td>55.178</td>\n",
       "      <td>0</td>\n",
       "      <td>0.93</td>\n",
       "      <td>2</td>\n",
       "      <td>0.866025</td>\n",
       "      <td>-0.5</td>\n",
       "      <td>0</td>\n",
       "      <td>0.555136</td>\n",
       "      <td>0.212000</td>\n",
       "      <td>0.000000</td>\n",
       "      <td>0.741935</td>\n",
       "      <td>0</td>\n",
       "      <td>0.000000</td>\n",
       "      <td>1.000000</td>\n",
       "    </tr>\n",
       "    <tr>\n",
       "      <th>2</th>\n",
       "      <td>2023-05-23</td>\n",
       "      <td>2023-05-23 08:00:02</td>\n",
       "      <td>71F539C3-B172-418A-BF31-462229124F63</td>\n",
       "      <td>53665656</td>\n",
       "      <td>0</td>\n",
       "      <td>25.228</td>\n",
       "      <td>55.282</td>\n",
       "      <td>0</td>\n",
       "      <td>0.91</td>\n",
       "      <td>2</td>\n",
       "      <td>0.866025</td>\n",
       "      <td>-0.5</td>\n",
       "      <td>0</td>\n",
       "      <td>0.164957</td>\n",
       "      <td>0.000000</td>\n",
       "      <td>0.000000</td>\n",
       "      <td>0.720000</td>\n",
       "      <td>0</td>\n",
       "      <td>0.000000</td>\n",
       "      <td>1.000000</td>\n",
       "    </tr>\n",
       "    <tr>\n",
       "      <th>3</th>\n",
       "      <td>2023-05-23</td>\n",
       "      <td>2023-05-23 08:00:02</td>\n",
       "      <td>c41f4869-1898-4115-b690-b05cc3dafb85</td>\n",
       "      <td>41318473</td>\n",
       "      <td>0</td>\n",
       "      <td>25.202</td>\n",
       "      <td>55.376</td>\n",
       "      <td>0</td>\n",
       "      <td>0.98</td>\n",
       "      <td>2</td>\n",
       "      <td>0.866025</td>\n",
       "      <td>-0.5</td>\n",
       "      <td>0</td>\n",
       "      <td>0.404368</td>\n",
       "      <td>0.112509</td>\n",
       "      <td>0.000036</td>\n",
       "      <td>0.088235</td>\n",
       "      <td>0</td>\n",
       "      <td>0.061205</td>\n",
       "      <td>0.957746</td>\n",
       "    </tr>\n",
       "    <tr>\n",
       "      <th>4</th>\n",
       "      <td>2023-05-23</td>\n",
       "      <td>2023-05-23 08:00:03</td>\n",
       "      <td>8F3FBD54-3CF5-4307-ACCD-D641AD03D8E4</td>\n",
       "      <td>43307496</td>\n",
       "      <td>0</td>\n",
       "      <td>25.158</td>\n",
       "      <td>55.403</td>\n",
       "      <td>0</td>\n",
       "      <td>0.80</td>\n",
       "      <td>2</td>\n",
       "      <td>0.866025</td>\n",
       "      <td>-0.5</td>\n",
       "      <td>0</td>\n",
       "      <td>0.486664</td>\n",
       "      <td>0.000000</td>\n",
       "      <td>0.001363</td>\n",
       "      <td>0.416667</td>\n",
       "      <td>0</td>\n",
       "      <td>0.139846</td>\n",
       "      <td>1.000000</td>\n",
       "    </tr>\n",
       "  </tbody>\n",
       "</table>\n",
       "</div>"
      ],
      "text/plain": [
       "   valid_date                  ts                           sessionuuid  \\\n",
       "0  2023-05-23 2023-05-23 08:00:01  502DEA41-AD08-4C0B-9240-9E3840159680   \n",
       "1  2023-05-23 2023-05-23 08:00:01  1669F369-7554-48CF-B3FF-0550B23F5233   \n",
       "2  2023-05-23 2023-05-23 08:00:02  71F539C3-B172-418A-BF31-462229124F63   \n",
       "3  2023-05-23 2023-05-23 08:00:02  c41f4869-1898-4115-b690-b05cc3dafb85   \n",
       "4  2023-05-23 2023-05-23 08:00:03  8F3FBD54-3CF5-4307-ACCD-D641AD03D8E4   \n",
       "\n",
       "   customer_id  booking_id  latitude  longitude  is_trip_ended  quantile  \\\n",
       "0      9226442           0    25.160     55.302              0      0.84   \n",
       "1     55218057           0    25.110     55.178              0      0.93   \n",
       "2     53665656           0    25.228     55.282              0      0.91   \n",
       "3     41318473           0    25.202     55.376              0      0.98   \n",
       "4     43307496           0    25.158     55.403              0      0.80   \n",
       "\n",
       "   weekday  minutes_sin  minutes_cos  rh  norm_week  norm_hour  \\\n",
       "0        2     0.866025         -0.5   0   0.156174   0.000000   \n",
       "1        2     0.866025         -0.5   0   0.555136   0.212000   \n",
       "2        2     0.866025         -0.5   0   0.164957   0.000000   \n",
       "3        2     0.866025         -0.5   0   0.404368   0.112509   \n",
       "4        2     0.866025         -0.5   0   0.486664   0.000000   \n",
       "\n",
       "   min_dist_to_known_loc  known_loc_occ  is_freq  dist_to_most_freq   rh_frac  \n",
       "0               0.000870       0.800000        0           0.087006  1.000000  \n",
       "1               0.000000       0.741935        0           0.000000  1.000000  \n",
       "2               0.000000       0.720000        0           0.000000  1.000000  \n",
       "3               0.000036       0.088235        0           0.061205  0.957746  \n",
       "4               0.001363       0.416667        0           0.139846  1.000000  "
      ]
     },
     "execution_count": 6,
     "metadata": {},
     "output_type": "execute_result"
    }
   ],
   "source": [
    "data.head()"
   ]
  },
  {
   "cell_type": "code",
   "execution_count": 7,
   "id": "dad496ff-a5eb-4bb6-acd1-a094ff63ac92",
   "metadata": {},
   "outputs": [],
   "source": [
    "data = rh_vs_rest_target(data)"
   ]
  },
  {
   "cell_type": "code",
   "execution_count": 8,
   "id": "7dd1e212-4651-430d-b751-fb618604db73",
   "metadata": {},
   "outputs": [],
   "source": [
    "CAT = ['weekday']\n",
    "\n",
    "TO_DROP = [\n",
    "    'valid_date', 'ts', 'sessionuuid', 'customer_id', 'booking_id',\n",
    "    'is_trip_ended', 'rh', 'is_freq', 'target'\n",
    "]"
   ]
  },
  {
   "cell_type": "markdown",
   "id": "f8aaff26-64e7-4c83-93db-bf0b5acee7b8",
   "metadata": {
    "tags": []
   },
   "source": [
    "## Time-based Split"
   ]
  },
  {
   "cell_type": "code",
   "execution_count": 9,
   "id": "4315ad5f-efe7-4a06-b729-6a38596ef723",
   "metadata": {},
   "outputs": [],
   "source": [
    "dates = np.sort(data.valid_date.unique())\n",
    "\n",
    "train = data[data.valid_date.isin(dates[:60])].copy()\n",
    "val = data[data.valid_date.isin(dates[60:75])].copy()\n",
    "test = data[data.valid_date.isin(dates[75:])].copy()"
   ]
  },
  {
   "cell_type": "code",
   "execution_count": 10,
   "id": "5af9cc14-cd1f-493d-b3f4-abbf5da40286",
   "metadata": {},
   "outputs": [
    {
     "data": {
      "text/plain": [
       "1    4881536\n",
       "0    1753027\n",
       "Name: target, dtype: int64"
      ]
     },
     "execution_count": 10,
     "metadata": {},
     "output_type": "execute_result"
    }
   ],
   "source": [
    "train.target.value_counts()"
   ]
  },
  {
   "cell_type": "code",
   "execution_count": 11,
   "id": "a09ea70b-08f2-4d03-8366-f2d69b8a6f02",
   "metadata": {},
   "outputs": [],
   "source": [
    "train['sample_weight'] = 1.0\n",
    "train.loc[(train.rh == 1) & (train.is_trip_ended == 0), 'sample_weight'] = 0.5"
   ]
  },
  {
   "cell_type": "code",
   "execution_count": 12,
   "id": "5c1a5bce-8a36-4f0d-ba02-6a4d28a5d45e",
   "metadata": {},
   "outputs": [],
   "source": [
    "train_neg = train[train.target == 0]\n",
    "\n",
    "train_pos, _ = train_test_split(\n",
    "    train[train.target == 1],\n",
    "    test_size=0.5,\n",
    "    stratify=train[train.target == 1]['sample_weight'],\n",
    "    random_state=111\n",
    ")\n",
    "\n",
    "train = pd.concat([train_neg, train_pos]).sample(frac=1.0).reset_index(drop=True)"
   ]
  },
  {
   "cell_type": "code",
   "execution_count": 13,
   "id": "30c38211-2701-4f10-875d-aa8aa7469816",
   "metadata": {},
   "outputs": [
    {
     "data": {
      "text/plain": [
       "1    2440768\n",
       "0    1753027\n",
       "Name: target, dtype: int64"
      ]
     },
     "execution_count": 13,
     "metadata": {},
     "output_type": "execute_result"
    }
   ],
   "source": [
    "train.target.value_counts()"
   ]
  },
  {
   "cell_type": "code",
   "execution_count": 14,
   "id": "dc0ddb75-8b26-4c60-99e3-249ecbe457c7",
   "metadata": {},
   "outputs": [],
   "source": [
    "cb_train = cb.Pool(\n",
    "    train.drop(TO_DROP + ['sample_weight'], axis=1),\n",
    "    label=train.target.values,\n",
    "    cat_features=CAT,\n",
    "    weight=train.sample_weight.values\n",
    ")\n",
    "\n",
    "cb_val = cb.Pool(\n",
    "    val.drop(TO_DROP, axis=1),\n",
    "    label=val.target.values,\n",
    "    cat_features=CAT\n",
    ")\n",
    "\n",
    "cb_test = test.drop(TO_DROP, axis=1)\n",
    "cb_test_y = test.target.values"
   ]
  },
  {
   "cell_type": "markdown",
   "id": "6647ed7f-b3d1-4905-9777-f256cb1d22e6",
   "metadata": {},
   "source": [
    "### Model"
   ]
  },
  {
   "cell_type": "code",
   "execution_count": 15,
   "id": "f8f8f71b",
   "metadata": {},
   "outputs": [
    {
     "name": "stdout",
     "output_type": "stream",
     "text": [
      "0:\tlearn: 0.6689365\ttest: 0.6672073\tbest: 0.6672073 (0)\ttotal: 1.36s\tremaining: 17m\n",
      "50:\tlearn: 0.4702856\ttest: 0.4506742\tbest: 0.4506742 (50)\ttotal: 48.7s\tremaining: 11m 7s\n",
      "100:\tlearn: 0.4612138\ttest: 0.4432942\tbest: 0.4432942 (100)\ttotal: 1m 32s\tremaining: 9m 52s\n",
      "150:\tlearn: 0.4555711\ttest: 0.4395291\tbest: 0.4395291 (150)\ttotal: 2m 12s\tremaining: 8m 43s\n",
      "200:\tlearn: 0.4518903\ttest: 0.4374076\tbest: 0.4374076 (200)\ttotal: 2m 50s\tremaining: 7m 44s\n",
      "250:\tlearn: 0.4486431\ttest: 0.4356643\tbest: 0.4356643 (250)\ttotal: 3m 28s\tremaining: 6m 53s\n",
      "300:\tlearn: 0.4455661\ttest: 0.4341250\tbest: 0.4341250 (300)\ttotal: 4m 5s\tremaining: 6m 6s\n",
      "350:\tlearn: 0.4419491\ttest: 0.4326918\tbest: 0.4326918 (350)\ttotal: 4m 42s\tremaining: 5m 21s\n",
      "400:\tlearn: 0.4383853\ttest: 0.4314286\tbest: 0.4314286 (400)\ttotal: 5m 19s\tremaining: 4m 37s\n",
      "450:\tlearn: 0.4350108\ttest: 0.4302852\tbest: 0.4302852 (450)\ttotal: 5m 56s\tremaining: 3m 56s\n",
      "500:\tlearn: 0.4319356\ttest: 0.4293046\tbest: 0.4293046 (500)\ttotal: 6m 32s\tremaining: 3m 15s\n",
      "550:\tlearn: 0.4288517\ttest: 0.4283213\tbest: 0.4283213 (550)\ttotal: 7m 9s\tremaining: 2m 35s\n",
      "600:\tlearn: 0.4258437\ttest: 0.4274104\tbest: 0.4274104 (600)\ttotal: 7m 46s\tremaining: 1m 55s\n",
      "650:\tlearn: 0.4229836\ttest: 0.4266173\tbest: 0.4266173 (650)\ttotal: 8m 23s\tremaining: 1m 16s\n",
      "700:\tlearn: 0.4201822\ttest: 0.4258980\tbest: 0.4258980 (700)\ttotal: 9m\tremaining: 37.8s\n",
      "749:\tlearn: 0.4175588\ttest: 0.4252157\tbest: 0.4252157 (749)\ttotal: 9m 36s\tremaining: 0us\n",
      "\n",
      "bestTest = 0.4252156557\n",
      "bestIteration = 749\n",
      "\n"
     ]
    }
   ],
   "source": [
    "param = {\n",
    "    'learning_rate': 0.05,\n",
    "    'depth': 10,\n",
    "    'l2_leaf_reg': 4.0,\n",
    "    'min_child_samples': 1,\n",
    "    'langevin': True,\n",
    "    'grow_policy': 'Depthwise',\n",
    "    'has_time': False,\n",
    "    'subsample': 0.85\n",
    "}\n",
    "\n",
    "param['iterations'] = 750\n",
    "param['use_best_model'] = True\n",
    "param['od_type'] = 'Iter'\n",
    "param['od_wait'] = 50\n",
    "param['random_state'] = 42\n",
    "param['bootstrap_type']= 'Bernoulli'\n",
    "param['score_function'] = 'L2'\n",
    "param['verbose'] = 50\n",
    "\n",
    "\n",
    "model = cb.CatBoostClassifier(**param)\n",
    "\n",
    "model.fit(cb_train, eval_set=cb_val, use_best_model=True, early_stopping_rounds=50)\n",
    "model.save_model('cb_models/binary_time.cbm')"
   ]
  },
  {
   "cell_type": "raw",
   "id": "612af002",
   "metadata": {},
   "source": [
    "model = cb.CatBoostClassifier().load_model('cb_models/binary_time.cbm')"
   ]
  },
  {
   "cell_type": "code",
   "execution_count": 16,
   "id": "b931e6ad-7056-4aa2-9778-b5566ce39838",
   "metadata": {},
   "outputs": [],
   "source": [
    "ppreds = model.predict_proba(cb_test)\n",
    "preds = model.predict(cb_test)"
   ]
  },
  {
   "cell_type": "markdown",
   "id": "86245e9a-e31a-48f1-945b-148d807a4fbd",
   "metadata": {},
   "source": [
    "### Evaluation"
   ]
  },
  {
   "cell_type": "code",
   "execution_count": 17,
   "id": "526f21ba",
   "metadata": {},
   "outputs": [],
   "source": [
    "from intent_model.functions import get_optimal_threshold"
   ]
  },
  {
   "cell_type": "code",
   "execution_count": 18,
   "id": "d43ff93b-19ce-426b-a566-034b6946ffac",
   "metadata": {},
   "outputs": [
    {
     "data": {
      "text/plain": [
       "0.4274513902681196"
      ]
     },
     "execution_count": 18,
     "metadata": {},
     "output_type": "execute_result"
    }
   ],
   "source": [
    "log_loss(cb_test_y, ppreds)"
   ]
  },
  {
   "cell_type": "code",
   "execution_count": 19,
   "id": "0f8b2cb3-02f2-4f01-85fa-32a4bf81486f",
   "metadata": {},
   "outputs": [
    {
     "data": {
      "text/plain": [
       "0.8666950941422817"
      ]
     },
     "execution_count": 19,
     "metadata": {},
     "output_type": "execute_result"
    }
   ],
   "source": [
    "roc_auc_score(cb_test_y, ppreds[:, 1])"
   ]
  },
  {
   "cell_type": "code",
   "execution_count": 20,
   "id": "ef89c24c-7f17-4ba9-a78d-6f2546190eaa",
   "metadata": {},
   "outputs": [
    {
     "name": "stdout",
     "output_type": "stream",
     "text": [
      "              precision    recall  f1-score   support\n",
      "\n",
      "           0       0.63      0.75      0.68    486594\n",
      "           1       0.89      0.83      0.86   1238338\n",
      "\n",
      "    accuracy                           0.80   1724932\n",
      "   macro avg       0.76      0.79      0.77   1724932\n",
      "weighted avg       0.82      0.80      0.81   1724932\n",
      "\n"
     ]
    }
   ],
   "source": [
    "print(classification_report(cb_test_y, preds))"
   ]
  },
  {
   "cell_type": "code",
   "execution_count": 21,
   "id": "bcbfe54e",
   "metadata": {},
   "outputs": [
    {
     "data": {
      "text/plain": [
       "{'latitude': 5.361521461060319,\n",
       " 'longitude': 4.733216182159135,\n",
       " 'quantile': 3.447642757017909,\n",
       " 'weekday': 1.233233683551941,\n",
       " 'minutes_sin': 3.4282952917007408,\n",
       " 'minutes_cos': 7.7854858801125735,\n",
       " 'norm_week': 2.727400874083827,\n",
       " 'norm_hour': 2.2320993851582904,\n",
       " 'min_dist_to_known_loc': 2.3327190511024645,\n",
       " 'known_loc_occ': 2.5339150881939365,\n",
       " 'dist_to_most_freq': 5.355695882370784,\n",
       " 'rh_frac': 58.82877446348807}"
      ]
     },
     "execution_count": 21,
     "metadata": {},
     "output_type": "execute_result"
    }
   ],
   "source": [
    "dict(zip(model.feature_names_, model.get_feature_importance()))"
   ]
  },
  {
   "cell_type": "code",
   "execution_count": 22,
   "id": "745c570a",
   "metadata": {},
   "outputs": [
    {
     "name": "stdout",
     "output_type": "stream",
     "text": [
      "0.5335348888873943\n",
      "0.8066892883849159\n"
     ]
    }
   ],
   "source": [
    "target_thresh, expected_recall = get_optimal_threshold(cb_test_y, ppreds[:, 1], 0.9)\n",
    "\n",
    "print(target_thresh)\n",
    "print(expected_recall)"
   ]
  },
  {
   "cell_type": "code",
   "execution_count": 23,
   "id": "8c7258a0-efca-413e-8e3c-0ef3ac1cbe66",
   "metadata": {},
   "outputs": [
    {
     "data": {
      "image/png": "[encoded data removed]",
      "text/plain": [
       "<Figure size 640x480 with 2 Axes>"
      ]
     },
     "metadata": {},
     "output_type": "display_data"
    }
   ],
   "source": [
    "threshold = target_thresh\n",
    "\n",
    "cm = confusion_matrix(cb_test_y, np.where(ppreds[:, 1] > threshold, 1, 0))\n",
    "cm_display = ConfusionMatrixDisplay(cm).plot()"
   ]
  },
  {
   "cell_type": "code",
   "execution_count": 24,
   "id": "54ca0898-bd27-475d-a0fb-bc00976d785b",
   "metadata": {},
   "outputs": [
    {
     "data": {
      "image/png": "[encoded data removed]",
      "text/plain": [
       "<Figure size 640x480 with 1 Axes>"
      ]
     },
     "metadata": {},
     "output_type": "display_data"
    }
   ],
   "source": [
    "display = PrecisionRecallDisplay.from_predictions(cb_test_y, ppreds[:, 1], name=\"Catboost\")\n",
    "_ = display.ax_.set_title(\"2-class Precision-Recall curve (RH vs. Rest)\")"
   ]
  },
  {
   "cell_type": "code",
   "execution_count": 25,
   "id": "e17f7789-31c3-40a5-8f85-e551be9606a4",
   "metadata": {},
   "outputs": [
    {
     "data": {
      "image/png": "[encoded data removed]",
      "text/plain": [
       "<Figure size 640x480 with 1 Axes>"
      ]
     },
     "metadata": {},
     "output_type": "display_data"
    }
   ],
   "source": [
    "display = RocCurveDisplay.from_predictions(cb_test_y, ppreds[:, 1], name=\"Catboost\")\n",
    "_ = display.ax_.set_title(\"ROC curve (RH vs. Rest)\")"
   ]
  },
  {
   "cell_type": "code",
   "execution_count": 26,
   "id": "cf6bd6af",
   "metadata": {},
   "outputs": [
    {
     "data": {
      "image/png": "[encoded data removed]",
      "text/plain": [
       "<Figure size 640x480 with 1 Axes>"
      ]
     },
     "metadata": {},
     "output_type": "display_data"
    }
   ],
   "source": [
    "display = CalibrationDisplay.from_predictions(cb_test_y, ppreds[:, 1], name=\"Catboost\")\n",
    "_ = display.ax_.set_title(\"Calibration curve (RH vs. Rest)\")"
   ]
  },
  {
   "cell_type": "markdown",
   "id": "9c6e2729-86a7-434a-a685-33284f386873",
   "metadata": {},
   "source": [
    "### Additional Sanity Check"
   ]
  },
  {
   "cell_type": "code",
   "execution_count": 27,
   "id": "62e82866",
   "metadata": {},
   "outputs": [],
   "source": [
    "from intent_model.functions import get_conversions"
   ]
  },
  {
   "cell_type": "code",
   "execution_count": 28,
   "id": "ab19bebe-ca0e-499e-98a5-e20c35b111a1",
   "metadata": {},
   "outputs": [
    {
     "name": "stderr",
     "output_type": "stream",
     "text": [
      "100%|█████████████████████████████████████████████| 6/6 [00:01<00:00,  5.25it/s]\n"
     ]
    },
    {
     "data": {
      "text/html": [
       "<div>\n",
       "<style scoped>\n",
       "    .dataframe tbody tr th:only-of-type {\n",
       "        vertical-align: middle;\n",
       "    }\n",
       "\n",
       "    .dataframe tbody tr th {\n",
       "        vertical-align: top;\n",
       "    }\n",
       "\n",
       "    .dataframe thead th {\n",
       "        text-align: right;\n",
       "    }\n",
       "</style>\n",
       "<table border=\"1\" class=\"dataframe\">\n",
       "  <thead>\n",
       "    <tr style=\"text-align: right;\">\n",
       "      <th></th>\n",
       "      <th>threshold</th>\n",
       "      <th>sa_coverage</th>\n",
       "      <th>rh_coverage</th>\n",
       "      <th>relevance</th>\n",
       "    </tr>\n",
       "  </thead>\n",
       "  <tbody>\n",
       "    <tr>\n",
       "      <th>0</th>\n",
       "      <td>0.4</td>\n",
       "      <td>0.728368</td>\n",
       "      <td>0.880521</td>\n",
       "      <td>0.573454</td>\n",
       "    </tr>\n",
       "    <tr>\n",
       "      <th>1</th>\n",
       "      <td>0.5</td>\n",
       "      <td>0.664699</td>\n",
       "      <td>0.826543</td>\n",
       "      <td>0.596377</td>\n",
       "    </tr>\n",
       "    <tr>\n",
       "      <th>2</th>\n",
       "      <td>0.6</td>\n",
       "      <td>0.599309</td>\n",
       "      <td>0.762620</td>\n",
       "      <td>0.617269</td>\n",
       "    </tr>\n",
       "    <tr>\n",
       "      <th>3</th>\n",
       "      <td>0.7</td>\n",
       "      <td>0.523618</td>\n",
       "      <td>0.679964</td>\n",
       "      <td>0.638440</td>\n",
       "    </tr>\n",
       "    <tr>\n",
       "      <th>4</th>\n",
       "      <td>0.8</td>\n",
       "      <td>0.419284</td>\n",
       "      <td>0.554939</td>\n",
       "      <td>0.668424</td>\n",
       "    </tr>\n",
       "    <tr>\n",
       "      <th>5</th>\n",
       "      <td>0.9</td>\n",
       "      <td>0.236568</td>\n",
       "      <td>0.320019</td>\n",
       "      <td>0.745478</td>\n",
       "    </tr>\n",
       "  </tbody>\n",
       "</table>\n",
       "</div>"
      ],
      "text/plain": [
       "   threshold  sa_coverage  rh_coverage  relevance\n",
       "0        0.4     0.728368     0.880521   0.573454\n",
       "1        0.5     0.664699     0.826543   0.596377\n",
       "2        0.6     0.599309     0.762620   0.617269\n",
       "3        0.7     0.523618     0.679964   0.638440\n",
       "4        0.8     0.419284     0.554939   0.668424\n",
       "5        0.9     0.236568     0.320019   0.745478"
      ]
     },
     "execution_count": 28,
     "metadata": {},
     "output_type": "execute_result"
    }
   ],
   "source": [
    "res_df = get_conversions(test, cb_test, model)\n",
    "\n",
    "res_df"
   ]
  },
  {
   "cell_type": "code",
   "execution_count": 29,
   "id": "9d88b900-a821-45ff-a6fd-37a5a56e75c7",
   "metadata": {},
   "outputs": [
    {
     "data": {
      "text/plain": [
       "6995"
      ]
     },
     "execution_count": 29,
     "metadata": {},
     "output_type": "execute_result"
    }
   ],
   "source": [
    "gc.collect()"
   ]
  },
  {
   "cell_type": "markdown",
   "id": "d478ae4b-736d-4425-a1d4-6c1d4fcd4cbe",
   "metadata": {},
   "source": [
    "## User-based Split"
   ]
  },
  {
   "cell_type": "code",
   "execution_count": 30,
   "id": "3c507483-969a-447c-9b5a-544eaeed3d9f",
   "metadata": {},
   "outputs": [],
   "source": [
    "users = data.customer_id.unique()\n",
    "n = len(users)\n",
    "\n",
    "train = data[data.customer_id.isin(users[:int(0.5*n)])].copy()\n",
    "val = data[data.customer_id.isin(users[int(0.5*n):int(0.75*n)])].copy()\n",
    "test = data[data.customer_id.isin(users[int(0.75*n):])].copy()"
   ]
  },
  {
   "cell_type": "code",
   "execution_count": 31,
   "id": "66edefa9-b9bf-45c5-8584-5dbf6d32a32c",
   "metadata": {},
   "outputs": [
    {
     "name": "stdout",
     "output_type": "stream",
     "text": [
      "6196427\n",
      "1351348\n",
      "2541822\n"
     ]
    }
   ],
   "source": [
    "print(len(train))\n",
    "print(len(val))\n",
    "print(len(test))"
   ]
  },
  {
   "cell_type": "code",
   "execution_count": 32,
   "id": "366805d1-6f1b-4399-a32f-a4f9ba009775",
   "metadata": {},
   "outputs": [
    {
     "data": {
      "text/plain": [
       "1    4571784\n",
       "0    1624643\n",
       "Name: target, dtype: int64"
      ]
     },
     "execution_count": 32,
     "metadata": {},
     "output_type": "execute_result"
    }
   ],
   "source": [
    "train.target.value_counts()"
   ]
  },
  {
   "cell_type": "code",
   "execution_count": 33,
   "id": "8e6ea9be-4d25-4d7a-8211-bb3e3e67f48c",
   "metadata": {},
   "outputs": [
    {
     "data": {
      "text/plain": [
       "1    1017350\n",
       "0     333998\n",
       "Name: target, dtype: int64"
      ]
     },
     "execution_count": 33,
     "metadata": {},
     "output_type": "execute_result"
    }
   ],
   "source": [
    "val.target.value_counts()"
   ]
  },
  {
   "cell_type": "code",
   "execution_count": 34,
   "id": "46f69bb6-9db8-449c-8a61-702517206bbc",
   "metadata": {},
   "outputs": [
    {
     "data": {
      "text/plain": [
       "1    1789857\n",
       "0     751965\n",
       "Name: target, dtype: int64"
      ]
     },
     "execution_count": 34,
     "metadata": {},
     "output_type": "execute_result"
    }
   ],
   "source": [
    "test.target.value_counts()"
   ]
  },
  {
   "cell_type": "code",
   "execution_count": 35,
   "id": "8e15c526-0618-47fe-8d25-96574d404621",
   "metadata": {},
   "outputs": [],
   "source": [
    "train['sample_weight'] = 1.0\n",
    "train.loc[(train.rh == 1) & (train.is_trip_ended == 0), 'sample_weight'] = 0.5"
   ]
  },
  {
   "cell_type": "code",
   "execution_count": 36,
   "id": "0c4365a8-94e0-4b8e-95a8-a33b09dedde0",
   "metadata": {},
   "outputs": [],
   "source": [
    "train_neg = train[train.target == 0]\n",
    "\n",
    "train_pos, _ = train_test_split(\n",
    "    train[train.target == 1],\n",
    "    test_size=0.5,\n",
    "    stratify=train[train.target == 1]['sample_weight'],\n",
    "    random_state=111\n",
    ")\n",
    "\n",
    "train = pd.concat([train_neg, train_pos]).sample(frac=1.0).reset_index(drop=True)"
   ]
  },
  {
   "cell_type": "code",
   "execution_count": 37,
   "id": "edb5231e-3a63-49ae-8fb5-b5f6b3da7357",
   "metadata": {},
   "outputs": [
    {
     "data": {
      "text/plain": [
       "1    2285892\n",
       "0    1624643\n",
       "Name: target, dtype: int64"
      ]
     },
     "execution_count": 37,
     "metadata": {},
     "output_type": "execute_result"
    }
   ],
   "source": [
    "train.target.value_counts()"
   ]
  },
  {
   "cell_type": "code",
   "execution_count": 38,
   "id": "fd4de82e-4e1f-4766-9996-663fbd9aa090",
   "metadata": {},
   "outputs": [],
   "source": [
    "cb_train = cb.Pool(\n",
    "    train.drop(TO_DROP + ['sample_weight'], axis=1),\n",
    "    label=train.target.values,\n",
    "    cat_features=CAT,\n",
    "    weight=train.sample_weight.values\n",
    ")\n",
    "\n",
    "cb_val = cb.Pool(\n",
    "    val.drop(TO_DROP, axis=1),\n",
    "    label=val.target.values,\n",
    "    cat_features=CAT\n",
    ")\n",
    "\n",
    "cb_test = test.drop(TO_DROP, axis=1)\n",
    "cb_test_y = test.target.values"
   ]
  },
  {
   "cell_type": "markdown",
   "id": "dde31df7-9d4e-419b-9620-8a009cc022ef",
   "metadata": {},
   "source": [
    "### Model"
   ]
  },
  {
   "cell_type": "code",
   "execution_count": 39,
   "id": "9ea252b0",
   "metadata": {},
   "outputs": [
    {
     "name": "stdout",
     "output_type": "stream",
     "text": [
      "0:\tlearn: 0.6670855\ttest: 0.6680359\tbest: 0.6680359 (0)\ttotal: 1.23s\tremaining: 15m 19s\n",
      "50:\tlearn: 0.4566192\ttest: 0.4543129\tbest: 0.4543129 (50)\ttotal: 45s\tremaining: 10m 16s\n",
      "100:\tlearn: 0.4471687\ttest: 0.4502584\tbest: 0.4502584 (100)\ttotal: 1m 25s\tremaining: 9m 12s\n",
      "150:\tlearn: 0.4412687\ttest: 0.4482215\tbest: 0.4482215 (150)\ttotal: 2m 3s\tremaining: 8m 9s\n",
      "200:\tlearn: 0.4363700\ttest: 0.4461501\tbest: 0.4461501 (200)\ttotal: 2m 38s\tremaining: 7m 12s\n",
      "250:\tlearn: 0.4327648\ttest: 0.4447613\tbest: 0.4447613 (250)\ttotal: 3m 14s\tremaining: 6m 25s\n",
      "300:\tlearn: 0.4292365\ttest: 0.4435274\tbest: 0.4435274 (300)\ttotal: 3m 49s\tremaining: 5m 43s\n",
      "350:\tlearn: 0.4254299\ttest: 0.4423629\tbest: 0.4423629 (350)\ttotal: 4m 23s\tremaining: 5m\n",
      "400:\tlearn: 0.4218995\ttest: 0.4415298\tbest: 0.4415298 (400)\ttotal: 4m 57s\tremaining: 4m 19s\n",
      "450:\tlearn: 0.4185837\ttest: 0.4407502\tbest: 0.4407502 (450)\ttotal: 5m 31s\tremaining: 3m 39s\n",
      "500:\tlearn: 0.4150226\ttest: 0.4398633\tbest: 0.4398633 (500)\ttotal: 6m 6s\tremaining: 3m 2s\n",
      "550:\tlearn: 0.4118271\ttest: 0.4392337\tbest: 0.4392337 (550)\ttotal: 6m 40s\tremaining: 2m 24s\n",
      "600:\tlearn: 0.4089267\ttest: 0.4387490\tbest: 0.4387490 (600)\ttotal: 7m 14s\tremaining: 1m 47s\n",
      "650:\tlearn: 0.4060980\ttest: 0.4382288\tbest: 0.4382288 (650)\ttotal: 7m 50s\tremaining: 1m 11s\n",
      "700:\tlearn: 0.4032513\ttest: 0.4377086\tbest: 0.4377086 (700)\ttotal: 8m 25s\tremaining: 35.3s\n",
      "749:\tlearn: 0.4007022\ttest: 0.4373103\tbest: 0.4373097 (748)\ttotal: 8m 57s\tremaining: 0us\n",
      "\n",
      "bestTest = 0.4373097021\n",
      "bestIteration = 748\n",
      "\n",
      "Shrink model to first 749 iterations.\n"
     ]
    }
   ],
   "source": [
    "param = {\n",
    "    'learning_rate': 0.05,\n",
    "    'depth': 10,\n",
    "    'l2_leaf_reg': 4.0,\n",
    "    'min_child_samples': 1,\n",
    "    'langevin': True,\n",
    "    'grow_policy': 'Depthwise',\n",
    "    'has_time': False,\n",
    "    'subsample': 0.85\n",
    "}\n",
    "\n",
    "param['iterations'] = 750\n",
    "param['use_best_model'] = True\n",
    "param['od_type'] = 'Iter'\n",
    "param['od_wait'] = 50\n",
    "param['random_state'] = 42\n",
    "param['bootstrap_type']= 'Bernoulli'\n",
    "param['score_function'] = 'L2'\n",
    "param['verbose'] = 50\n",
    "\n",
    "\n",
    "u_model = cb.CatBoostClassifier(**param)\n",
    "\n",
    "u_model.fit(cb_train, eval_set=cb_val, use_best_model=True, early_stopping_rounds=50)\n",
    "u_model.save_model('cb_models/binary_user.cbm')"
   ]
  },
  {
   "cell_type": "raw",
   "id": "344204d0",
   "metadata": {},
   "source": [
    "u_model = cb.CatBoostClassifier().load_model('cb_models/binary_user.cbm')"
   ]
  },
  {
   "cell_type": "code",
   "execution_count": 40,
   "id": "24039372-d4fb-453a-901c-5fb75683fe27",
   "metadata": {},
   "outputs": [],
   "source": [
    "u_ppreds = u_model.predict_proba(cb_test)\n",
    "u_preds = u_model.predict(cb_test)"
   ]
  },
  {
   "cell_type": "markdown",
   "id": "b8f852a0-5550-44e1-a303-dd151549e0d7",
   "metadata": {},
   "source": [
    "### Evaluation"
   ]
  },
  {
   "cell_type": "code",
   "execution_count": 41,
   "id": "fde56b0d-fe7c-4572-a642-2393ef36010a",
   "metadata": {},
   "outputs": [
    {
     "data": {
      "text/plain": [
       "0.48122902823197505"
      ]
     },
     "execution_count": 41,
     "metadata": {},
     "output_type": "execute_result"
    }
   ],
   "source": [
    "log_loss(cb_test_y, u_ppreds)"
   ]
  },
  {
   "cell_type": "code",
   "execution_count": 42,
   "id": "5e534d80-76f1-4025-9700-7e51b6fe6be8",
   "metadata": {},
   "outputs": [
    {
     "data": {
      "text/plain": [
       "0.8189949362100647"
      ]
     },
     "execution_count": 42,
     "metadata": {},
     "output_type": "execute_result"
    }
   ],
   "source": [
    "roc_auc_score(cb_test_y, u_ppreds[:, 1])"
   ]
  },
  {
   "cell_type": "code",
   "execution_count": 43,
   "id": "1aedcec8-f042-4d44-a002-84b714b0b039",
   "metadata": {},
   "outputs": [
    {
     "name": "stdout",
     "output_type": "stream",
     "text": [
      "              precision    recall  f1-score   support\n",
      "\n",
      "           0       0.61      0.64      0.63    751965\n",
      "           1       0.85      0.83      0.84   1789857\n",
      "\n",
      "    accuracy                           0.77   2541822\n",
      "   macro avg       0.73      0.73      0.73   2541822\n",
      "weighted avg       0.78      0.77      0.78   2541822\n",
      "\n"
     ]
    }
   ],
   "source": [
    "print(classification_report(cb_test_y, u_preds))"
   ]
  },
  {
   "cell_type": "code",
   "execution_count": 44,
   "id": "2ecd988a",
   "metadata": {},
   "outputs": [
    {
     "data": {
      "text/plain": [
       "{'latitude': 4.60442089124777,\n",
       " 'longitude': 4.52319613866467,\n",
       " 'quantile': 3.1845803763339804,\n",
       " 'weekday': 1.554781214966519,\n",
       " 'minutes_sin': 2.942587149213016,\n",
       " 'minutes_cos': 7.798385748720093,\n",
       " 'norm_week': 2.7714372735262267,\n",
       " 'norm_hour': 1.9482153193294307,\n",
       " 'min_dist_to_known_loc': 2.378949166729688,\n",
       " 'known_loc_occ': 2.43113484146206,\n",
       " 'dist_to_most_freq': 4.560924067222278,\n",
       " 'rh_frac': 61.301387812584274}"
      ]
     },
     "execution_count": 44,
     "metadata": {},
     "output_type": "execute_result"
    }
   ],
   "source": [
    "dict(zip(u_model.feature_names_, u_model.get_feature_importance()))"
   ]
  },
  {
   "cell_type": "code",
   "execution_count": 45,
   "id": "e11ec317",
   "metadata": {},
   "outputs": [
    {
     "name": "stdout",
     "output_type": "stream",
     "text": [
      "0.7130031112763732\n",
      "0.6358787322115678\n"
     ]
    }
   ],
   "source": [
    "target_thresh, expected_recall = get_optimal_threshold(cb_test_y, u_ppreds[:, 1], 0.9)\n",
    "\n",
    "print(target_thresh)\n",
    "print(expected_recall)"
   ]
  },
  {
   "cell_type": "code",
   "execution_count": 46,
   "id": "8d287872-544b-426e-9ff9-b518fbf20cd3",
   "metadata": {},
   "outputs": [
    {
     "data": {
      "image/png": "[encoded data removed]",
      "text/plain": [
       "<Figure size 640x480 with 2 Axes>"
      ]
     },
     "metadata": {},
     "output_type": "display_data"
    }
   ],
   "source": [
    "threshold = target_thresh\n",
    "\n",
    "cm = confusion_matrix(cb_test_y, np.where(u_ppreds[:, 1] > threshold, 1, 0))\n",
    "cm_display = ConfusionMatrixDisplay(cm).plot()"
   ]
  },
  {
   "cell_type": "code",
   "execution_count": 47,
   "id": "14d0541c-0630-4a67-9822-7c85a83ed8dd",
   "metadata": {},
   "outputs": [
    {
     "data": {
      "image/png": "[encoded data removed]",
      "text/plain": [
       "<Figure size 640x480 with 1 Axes>"
      ]
     },
     "metadata": {},
     "output_type": "display_data"
    }
   ],
   "source": [
    "display = PrecisionRecallDisplay.from_predictions(cb_test_y, u_ppreds[:, 1], name=\"Catboost\")\n",
    "_ = display.ax_.set_title(\"2-class Precision-Recall curve (RH vs. Rest)\")"
   ]
  },
  {
   "cell_type": "code",
   "execution_count": 48,
   "id": "6520950d-d970-40d2-8e55-551e0cff14f0",
   "metadata": {},
   "outputs": [
    {
     "data": {
      "image/png": "[encoded data removed]",
      "text/plain": [
       "<Figure size 640x480 with 1 Axes>"
      ]
     },
     "metadata": {},
     "output_type": "display_data"
    }
   ],
   "source": [
    "display = RocCurveDisplay.from_predictions(cb_test_y, u_ppreds[:, 1], name=\"Catboost\")\n",
    "_ = display.ax_.set_title(\"ROC curve (RH vs. Rest)\")"
   ]
  },
  {
   "cell_type": "markdown",
   "id": "7b0bb010",
   "metadata": {},
   "source": [
    "#### \"Bad\" users"
   ]
  },
  {
   "cell_type": "code",
   "execution_count": 49,
   "id": "d111d8b8-f855-4dad-a545-6330d9ca0629",
   "metadata": {},
   "outputs": [
    {
     "data": {
      "text/html": [
       "<div>\n",
       "<style scoped>\n",
       "    .dataframe tbody tr th:only-of-type {\n",
       "        vertical-align: middle;\n",
       "    }\n",
       "\n",
       "    .dataframe tbody tr th {\n",
       "        vertical-align: top;\n",
       "    }\n",
       "\n",
       "    .dataframe thead th {\n",
       "        text-align: right;\n",
       "    }\n",
       "</style>\n",
       "<table border=\"1\" class=\"dataframe\">\n",
       "  <thead>\n",
       "    <tr style=\"text-align: right;\">\n",
       "      <th></th>\n",
       "      <th>customer_id</th>\n",
       "      <th>loss</th>\n",
       "    </tr>\n",
       "  </thead>\n",
       "  <tbody>\n",
       "    <tr>\n",
       "      <th>58029</th>\n",
       "      <td>56479445</td>\n",
       "      <td>3.816590</td>\n",
       "    </tr>\n",
       "    <tr>\n",
       "      <th>51925</th>\n",
       "      <td>52932478</td>\n",
       "      <td>3.706679</td>\n",
       "    </tr>\n",
       "    <tr>\n",
       "      <th>37998</th>\n",
       "      <td>43395141</td>\n",
       "      <td>3.572993</td>\n",
       "    </tr>\n",
       "    <tr>\n",
       "      <th>37650</th>\n",
       "      <td>42980355</td>\n",
       "      <td>3.570523</td>\n",
       "    </tr>\n",
       "    <tr>\n",
       "      <th>36770</th>\n",
       "      <td>41906030</td>\n",
       "      <td>3.496867</td>\n",
       "    </tr>\n",
       "    <tr>\n",
       "      <th>56126</th>\n",
       "      <td>55394198</td>\n",
       "      <td>3.320927</td>\n",
       "    </tr>\n",
       "    <tr>\n",
       "      <th>6763</th>\n",
       "      <td>6240853</td>\n",
       "      <td>3.254623</td>\n",
       "    </tr>\n",
       "    <tr>\n",
       "      <th>63052</th>\n",
       "      <td>58859635</td>\n",
       "      <td>3.141520</td>\n",
       "    </tr>\n",
       "    <tr>\n",
       "      <th>61932</th>\n",
       "      <td>58404859</td>\n",
       "      <td>3.133453</td>\n",
       "    </tr>\n",
       "    <tr>\n",
       "      <th>35568</th>\n",
       "      <td>40695268</td>\n",
       "      <td>3.117883</td>\n",
       "    </tr>\n",
       "  </tbody>\n",
       "</table>\n",
       "</div>"
      ],
      "text/plain": [
       "       customer_id      loss\n",
       "58029     56479445  3.816590\n",
       "51925     52932478  3.706679\n",
       "37998     43395141  3.572993\n",
       "37650     42980355  3.570523\n",
       "36770     41906030  3.496867\n",
       "56126     55394198  3.320927\n",
       "6763       6240853  3.254623\n",
       "63052     58859635  3.141520\n",
       "61932     58404859  3.133453\n",
       "35568     40695268  3.117883"
      ]
     },
     "execution_count": 49,
     "metadata": {},
     "output_type": "execute_result"
    }
   ],
   "source": [
    "test['preds'] = u_ppreds[:, 1]\n",
    "test['loss'] = -(test['target'] * np.log(test['preds']) + (1 - test['target'])*np.log(1 - test['preds']))\n",
    "\n",
    "test_g = test[['customer_id', 'loss']].groupby('customer_id', as_index=False).mean()\\\n",
    "    .sort_values('loss', ascending=False)\n",
    "\n",
    "test_g.head(10)"
   ]
  },
  {
   "cell_type": "code",
   "execution_count": 50,
   "id": "31ddd221-070a-4151-b8d6-598b5f8eb7d1",
   "metadata": {},
   "outputs": [
    {
     "data": {
      "text/plain": [
       "<AxesSubplot: ylabel='Density'>"
      ]
     },
     "execution_count": 50,
     "metadata": {},
     "output_type": "execute_result"
    },
    {
     "data": {
      "image/png": "[encoded data removed]",
      "text/plain": [
       "<Figure size 640x480 with 1 Axes>"
      ]
     },
     "metadata": {},
     "output_type": "display_data"
    }
   ],
   "source": [
    "test_g.loss.plot(kind='kde')"
   ]
  },
  {
   "cell_type": "code",
   "execution_count": 51,
   "id": "52bb6094-3c18-4f3e-a717-4f84e28d3177",
   "metadata": {},
   "outputs": [
    {
     "data": {
      "text/html": [
       "<div>\n",
       "<style scoped>\n",
       "    .dataframe tbody tr th:only-of-type {\n",
       "        vertical-align: middle;\n",
       "    }\n",
       "\n",
       "    .dataframe tbody tr th {\n",
       "        vertical-align: top;\n",
       "    }\n",
       "\n",
       "    .dataframe thead th {\n",
       "        text-align: right;\n",
       "    }\n",
       "</style>\n",
       "<table border=\"1\" class=\"dataframe\">\n",
       "  <thead>\n",
       "    <tr style=\"text-align: right;\">\n",
       "      <th></th>\n",
       "      <th>customer_id</th>\n",
       "      <th>loss</th>\n",
       "    </tr>\n",
       "  </thead>\n",
       "  <tbody>\n",
       "    <tr>\n",
       "      <th>21015</th>\n",
       "      <td>44733992</td>\n",
       "      <td>3.452492</td>\n",
       "    </tr>\n",
       "    <tr>\n",
       "      <th>65454</th>\n",
       "      <td>61810743</td>\n",
       "      <td>3.424535</td>\n",
       "    </tr>\n",
       "    <tr>\n",
       "      <th>2481</th>\n",
       "      <td>2598184</td>\n",
       "      <td>3.298346</td>\n",
       "    </tr>\n",
       "    <tr>\n",
       "      <th>39877</th>\n",
       "      <td>54675153</td>\n",
       "      <td>3.227494</td>\n",
       "    </tr>\n",
       "    <tr>\n",
       "      <th>28498</th>\n",
       "      <td>49800416</td>\n",
       "      <td>3.144417</td>\n",
       "    </tr>\n",
       "    <tr>\n",
       "      <th>64903</th>\n",
       "      <td>61706007</td>\n",
       "      <td>3.117313</td>\n",
       "    </tr>\n",
       "    <tr>\n",
       "      <th>26375</th>\n",
       "      <td>48296307</td>\n",
       "      <td>3.103640</td>\n",
       "    </tr>\n",
       "    <tr>\n",
       "      <th>36280</th>\n",
       "      <td>53323263</td>\n",
       "      <td>3.063237</td>\n",
       "    </tr>\n",
       "    <tr>\n",
       "      <th>4614</th>\n",
       "      <td>7537300</td>\n",
       "      <td>3.061168</td>\n",
       "    </tr>\n",
       "    <tr>\n",
       "      <th>53239</th>\n",
       "      <td>58991241</td>\n",
       "      <td>2.916689</td>\n",
       "    </tr>\n",
       "  </tbody>\n",
       "</table>\n",
       "</div>"
      ],
      "text/plain": [
       "       customer_id      loss\n",
       "21015     44733992  3.452492\n",
       "65454     61810743  3.424535\n",
       "2481       2598184  3.298346\n",
       "39877     54675153  3.227494\n",
       "28498     49800416  3.144417\n",
       "64903     61706007  3.117313\n",
       "26375     48296307  3.103640\n",
       "36280     53323263  3.063237\n",
       "4614       7537300  3.061168\n",
       "53239     58991241  2.916689"
      ]
     },
     "execution_count": 51,
     "metadata": {},
     "output_type": "execute_result"
    }
   ],
   "source": [
    "val['preds'] = u_model.predict_proba(cb_val)[:, 1]\n",
    "val['loss'] = -(val['target'] * np.log(val['preds']) + (1 - val['target'])*np.log(1 - val['preds']))\n",
    "\n",
    "val_g = val[['customer_id', 'loss']].groupby('customer_id', as_index=False).mean()\\\n",
    "    .sort_values('loss', ascending=False)\n",
    "\n",
    "val_g.head(10)"
   ]
  },
  {
   "cell_type": "code",
   "execution_count": 52,
   "id": "eabedf0d-7246-4bfd-91b2-74a55c1baeba",
   "metadata": {},
   "outputs": [
    {
     "data": {
      "text/plain": [
       "<AxesSubplot: ylabel='Density'>"
      ]
     },
     "execution_count": 52,
     "metadata": {},
     "output_type": "execute_result"
    },
    {
     "data": {
      "image/png": "[encoded data removed]",
      "text/plain": [
       "<Figure size 640x480 with 1 Axes>"
      ]
     },
     "metadata": {},
     "output_type": "display_data"
    }
   ],
   "source": [
    "val_g.loss.plot(kind='kde')"
   ]
  },
  {
   "cell_type": "code",
   "execution_count": 53,
   "id": "57e6034a-fb7f-475c-b41e-e37bb2425e9b",
   "metadata": {},
   "outputs": [
    {
     "data": {
      "text/html": [
       "<div>\n",
       "<style scoped>\n",
       "    .dataframe tbody tr th:only-of-type {\n",
       "        vertical-align: middle;\n",
       "    }\n",
       "\n",
       "    .dataframe tbody tr th {\n",
       "        vertical-align: top;\n",
       "    }\n",
       "\n",
       "    .dataframe thead th {\n",
       "        text-align: right;\n",
       "    }\n",
       "</style>\n",
       "<table border=\"1\" class=\"dataframe\">\n",
       "  <thead>\n",
       "    <tr style=\"text-align: right;\">\n",
       "      <th></th>\n",
       "      <th>customer_id</th>\n",
       "      <th>loss</th>\n",
       "    </tr>\n",
       "  </thead>\n",
       "  <tbody>\n",
       "    <tr>\n",
       "      <th>122881</th>\n",
       "      <td>58748436</td>\n",
       "      <td>3.658791</td>\n",
       "    </tr>\n",
       "    <tr>\n",
       "      <th>129841</th>\n",
       "      <td>59407153</td>\n",
       "      <td>3.612654</td>\n",
       "    </tr>\n",
       "    <tr>\n",
       "      <th>14534</th>\n",
       "      <td>14027070</td>\n",
       "      <td>2.988153</td>\n",
       "    </tr>\n",
       "    <tr>\n",
       "      <th>81922</th>\n",
       "      <td>52682949</td>\n",
       "      <td>2.983386</td>\n",
       "    </tr>\n",
       "    <tr>\n",
       "      <th>24327</th>\n",
       "      <td>29274565</td>\n",
       "      <td>2.978599</td>\n",
       "    </tr>\n",
       "    <tr>\n",
       "      <th>59192</th>\n",
       "      <td>47136634</td>\n",
       "      <td>2.957710</td>\n",
       "    </tr>\n",
       "    <tr>\n",
       "      <th>136058</th>\n",
       "      <td>60104648</td>\n",
       "      <td>2.915993</td>\n",
       "    </tr>\n",
       "    <tr>\n",
       "      <th>5975</th>\n",
       "      <td>2696280</td>\n",
       "      <td>2.893580</td>\n",
       "    </tr>\n",
       "    <tr>\n",
       "      <th>26852</th>\n",
       "      <td>32227799</td>\n",
       "      <td>2.866438</td>\n",
       "    </tr>\n",
       "    <tr>\n",
       "      <th>17837</th>\n",
       "      <td>19059622</td>\n",
       "      <td>2.851659</td>\n",
       "    </tr>\n",
       "  </tbody>\n",
       "</table>\n",
       "</div>"
      ],
      "text/plain": [
       "        customer_id      loss\n",
       "122881     58748436  3.658791\n",
       "129841     59407153  3.612654\n",
       "14534      14027070  2.988153\n",
       "81922      52682949  2.983386\n",
       "24327      29274565  2.978599\n",
       "59192      47136634  2.957710\n",
       "136058     60104648  2.915993\n",
       "5975        2696280  2.893580\n",
       "26852      32227799  2.866438\n",
       "17837      19059622  2.851659"
      ]
     },
     "execution_count": 53,
     "metadata": {},
     "output_type": "execute_result"
    }
   ],
   "source": [
    "train['preds'] = u_model.predict_proba(cb_train)[:, 1]\n",
    "train['loss'] = -(train['target'] * np.log(train['preds']) + (1 - train['target'])*np.log(1 - train['preds']))\n",
    "\n",
    "train_g = train[['customer_id', 'loss']].groupby('customer_id', as_index=False).mean()\\\n",
    "    .sort_values('loss', ascending=False)\n",
    "\n",
    "train_g.head(10)"
   ]
  },
  {
   "cell_type": "code",
   "execution_count": 54,
   "id": "30dcf564-8367-4352-841f-cc8aa8a29b57",
   "metadata": {},
   "outputs": [
    {
     "data": {
      "text/plain": [
       "<AxesSubplot: ylabel='Density'>"
      ]
     },
     "execution_count": 54,
     "metadata": {},
     "output_type": "execute_result"
    },
    {
     "data": {
      "image/png": "[encoded data removed]",
      "text/plain": [
       "<Figure size 640x480 with 1 Axes>"
      ]
     },
     "metadata": {},
     "output_type": "display_data"
    }
   ],
   "source": [
    "train_g.loss.plot(kind='kde')"
   ]
  },
  {
   "cell_type": "markdown",
   "id": "30b216f0-ae4b-4aa2-8519-fdd2a20ea686",
   "metadata": {},
   "source": [
    "### Additional Sanity Check"
   ]
  },
  {
   "cell_type": "code",
   "execution_count": 55,
   "id": "2f1ce0f2-3af1-434c-afbc-22fd68b193bd",
   "metadata": {},
   "outputs": [
    {
     "name": "stderr",
     "output_type": "stream",
     "text": [
      "100%|█████████████████████████████████████████████| 6/6 [00:01<00:00,  4.39it/s]\n"
     ]
    },
    {
     "data": {
      "text/html": [
       "<div>\n",
       "<style scoped>\n",
       "    .dataframe tbody tr th:only-of-type {\n",
       "        vertical-align: middle;\n",
       "    }\n",
       "\n",
       "    .dataframe tbody tr th {\n",
       "        vertical-align: top;\n",
       "    }\n",
       "\n",
       "    .dataframe thead th {\n",
       "        text-align: right;\n",
       "    }\n",
       "</style>\n",
       "<table border=\"1\" class=\"dataframe\">\n",
       "  <thead>\n",
       "    <tr style=\"text-align: right;\">\n",
       "      <th></th>\n",
       "      <th>threshold</th>\n",
       "      <th>sa_coverage</th>\n",
       "      <th>rh_coverage</th>\n",
       "      <th>relevance</th>\n",
       "    </tr>\n",
       "  </thead>\n",
       "  <tbody>\n",
       "    <tr>\n",
       "      <th>0</th>\n",
       "      <td>0.4</td>\n",
       "      <td>0.762981</td>\n",
       "      <td>0.888134</td>\n",
       "      <td>0.543921</td>\n",
       "    </tr>\n",
       "    <tr>\n",
       "      <th>1</th>\n",
       "      <td>0.5</td>\n",
       "      <td>0.692055</td>\n",
       "      <td>0.830800</td>\n",
       "      <td>0.566437</td>\n",
       "    </tr>\n",
       "    <tr>\n",
       "      <th>2</th>\n",
       "      <td>0.6</td>\n",
       "      <td>0.611229</td>\n",
       "      <td>0.755721</td>\n",
       "      <td>0.589456</td>\n",
       "    </tr>\n",
       "    <tr>\n",
       "      <th>3</th>\n",
       "      <td>0.7</td>\n",
       "      <td>0.512375</td>\n",
       "      <td>0.652380</td>\n",
       "      <td>0.614645</td>\n",
       "    </tr>\n",
       "    <tr>\n",
       "      <th>4</th>\n",
       "      <td>0.8</td>\n",
       "      <td>0.377945</td>\n",
       "      <td>0.495435</td>\n",
       "      <td>0.647122</td>\n",
       "    </tr>\n",
       "    <tr>\n",
       "      <th>5</th>\n",
       "      <td>0.9</td>\n",
       "      <td>0.174153</td>\n",
       "      <td>0.235783</td>\n",
       "      <td>0.715264</td>\n",
       "    </tr>\n",
       "  </tbody>\n",
       "</table>\n",
       "</div>"
      ],
      "text/plain": [
       "   threshold  sa_coverage  rh_coverage  relevance\n",
       "0        0.4     0.762981     0.888134   0.543921\n",
       "1        0.5     0.692055     0.830800   0.566437\n",
       "2        0.6     0.611229     0.755721   0.589456\n",
       "3        0.7     0.512375     0.652380   0.614645\n",
       "4        0.8     0.377945     0.495435   0.647122\n",
       "5        0.9     0.174153     0.235783   0.715264"
      ]
     },
     "execution_count": 55,
     "metadata": {},
     "output_type": "execute_result"
    }
   ],
   "source": [
    "res_df = get_conversions(test, cb_test, u_model)\n",
    "\n",
    "res_df"
   ]
  },
  {
   "cell_type": "code",
   "execution_count": 56,
   "id": "b4e0fdb8-0ae7-4748-b11a-eabc75a8716e",
   "metadata": {},
   "outputs": [
    {
     "data": {
      "text/plain": [
       "12611"
      ]
     },
     "execution_count": 56,
     "metadata": {},
     "output_type": "execute_result"
    }
   ],
   "source": [
    "gc.collect()"
   ]
  },
  {
   "cell_type": "code",
   "execution_count": null,
   "id": "f3df08eb",
   "metadata": {},
   "outputs": [],
   "source": []
  }
 ],
 "metadata": {
  "kernelspec": {
   "display_name": "Python [conda env:geo] *",
   "language": "python",
   "name": "conda-env-geo-py"
  },
  "language_info": {
   "codemirror_mode": {
    "name": "ipython",
    "version": 3
   },
   "file_extension": ".py",
   "mimetype": "text/x-python",
   "name": "python",
   "nbconvert_exporter": "python",
   "pygments_lexer": "ipython3",
   "version": "3.8.16"
  }
 },
 "nbformat": 4,
 "nbformat_minor": 5
}
