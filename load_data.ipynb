{
 "cells": [
  {
   "cell_type": "code",
   "execution_count": 1,
   "id": "3f42737c-d4ea-49d5-b3a3-c34ee66af9aa",
   "metadata": {},
   "outputs": [],
   "source": [
    "import warnings\n",
    "import numpy as np\n",
    "import pandas as pd\n",
    "\n",
    "from pyhive import presto\n",
    "\n",
    "from intent_model.dataloader.loader import PrestoLoader, TargetService"
   ]
  },
  {
   "cell_type": "code",
   "execution_count": 2,
   "id": "63c2b517-3357-4c90-80a8-a7a486ba512a",
   "metadata": {},
   "outputs": [],
   "source": [
    "warnings.filterwarnings('ignore')"
   ]
  },
  {
   "cell_type": "markdown",
   "id": "2c5e18c2-7c5f-4917-beda-bbcfe2585a14",
   "metadata": {},
   "source": [
    "### User's data"
   ]
  },
  {
   "cell_type": "code",
   "execution_count": 3,
   "id": "8a6fcd4c-213b-4123-b19a-fb6d7d1aa075",
   "metadata": {},
   "outputs": [
    {
     "name": "stderr",
     "output_type": "stream",
     "text": [
      "100%|█████████████████████████████████████████████| 3/3 [02:38<00:00, 52.78s/it]"
     ]
    },
    {
     "name": "stdout",
     "output_type": "stream",
     "text": [
      "Data written to data/rh/online_evaluation/features and data/rh/online_evaluation/sessions\n"
     ]
    },
    {
     "name": "stderr",
     "output_type": "stream",
     "text": [
      "\n"
     ]
    }
   ],
   "source": [
    "PrestoLoader(\n",
    "    up_to_date='2023-11-06',\n",
    "    days_back=3,\n",
    "    service=TargetService().RH,\n",
    "    history_horizon=90,\n",
    "    percentile=0.8,\n",
    "    path='data/rh/online_evaluation'\n",
    ").load(include_features=False, include_sessions=True)"
   ]
  },
  {
   "cell_type": "code",
   "execution_count": 5,
   "id": "dea9dd8e-4a4a-4585-9537-a385be0b64d3",
   "metadata": {},
   "outputs": [],
   "source": [
    "data = pd.read_parquet('data/rh/online_evaluation/sessions/2023-11-06.pq')"
   ]
  },
  {
   "cell_type": "code",
   "execution_count": 6,
   "id": "a838e05e-f6a0-4784-ad63-8f46b1e230a5",
   "metadata": {},
   "outputs": [
    {
     "data": {
      "text/plain": [
       "46296"
      ]
     },
     "execution_count": 6,
     "metadata": {},
     "output_type": "execute_result"
    }
   ],
   "source": [
    "len(data)"
   ]
  },
  {
   "cell_type": "code",
   "execution_count": null,
   "id": "5906e5e7-6bf0-429e-9e23-c9d03a8f3aa6",
   "metadata": {},
   "outputs": [],
   "source": [
    "data.head(20)"
   ]
  },
  {
   "cell_type": "code",
   "execution_count": null,
   "id": "0d46132f-55c2-4b67-bc9b-ec59f27f077f",
   "metadata": {},
   "outputs": [],
   "source": [
    "type(data['week_stats'].iloc[0])"
   ]
  },
  {
   "cell_type": "code",
   "execution_count": null,
   "id": "5c0ad1f3-6d8a-421a-ab79-56d6b7c9762e",
   "metadata": {},
   "outputs": [],
   "source": []
  }
 ],
 "metadata": {
  "kernelspec": {
   "display_name": "Python [conda env:yoda_tf] *",
   "language": "python",
   "name": "conda-env-yoda_tf-py"
  },
  "language_info": {
   "codemirror_mode": {
    "name": "ipython",
    "version": 3
   },
   "file_extension": ".py",
   "mimetype": "text/x-python",
   "name": "python",
   "nbconvert_exporter": "python",
   "pygments_lexer": "ipython3",
   "version": "3.10.9"
  }
 },
 "nbformat": 4,
 "nbformat_minor": 5
}
