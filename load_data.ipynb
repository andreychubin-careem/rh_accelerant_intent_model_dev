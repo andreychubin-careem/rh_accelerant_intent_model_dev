{
 "cells": [
  {
   "cell_type": "code",
   "execution_count": 1,
   "id": "3f42737c-d4ea-49d5-b3a3-c34ee66af9aa",
   "metadata": {},
   "outputs": [],
   "source": [
    "import warnings\n",
    "import numpy as np\n",
    "import pandas as pd\n",
    "\n",
    "from pyhive import presto\n",
    "\n",
    "from intent_model.dataloader.loader import PrestoLoader"
   ]
  },
  {
   "cell_type": "code",
   "execution_count": 2,
   "id": "63c2b517-3357-4c90-80a8-a7a486ba512a",
   "metadata": {},
   "outputs": [],
   "source": [
    "warnings.filterwarnings('ignore')"
   ]
  },
  {
   "cell_type": "markdown",
   "id": "2c5e18c2-7c5f-4917-beda-bbcfe2585a14",
   "metadata": {},
   "source": [
    "### User's data"
   ]
  },
  {
   "cell_type": "code",
   "execution_count": 3,
   "id": "8a6fcd4c-213b-4123-b19a-fb6d7d1aa075",
   "metadata": {},
   "outputs": [
    {
     "name": "stderr",
     "output_type": "stream",
     "text": [
      "100%|████████████████████████████████████████████| 1/1 [01:56<00:00, 116.12s/it]"
     ]
    },
    {
     "name": "stdout",
     "output_type": "stream",
     "text": [
      "Data written to data/dataset_v2.5_test/features and data/dataset_v2.5_test/sessions\n"
     ]
    },
    {
     "name": "stderr",
     "output_type": "stream",
     "text": [
      "\n"
     ]
    }
   ],
   "source": [
    "PrestoLoader(\n",
    "    up_to_date='2023-09-12',\n",
    "    days_back=1,\n",
    "    history_horizon=90,\n",
    "    percentile=0.8,\n",
    "    path='data/dataset_v2.5_test'\n",
    ").load(include_features=False, include_sessions=True)"
   ]
  },
  {
   "cell_type": "code",
   "execution_count": null,
   "id": "dea9dd8e-4a4a-4585-9537-a385be0b64d3",
   "metadata": {},
   "outputs": [],
   "source": []
  }
 ],
 "metadata": {
  "kernelspec": {
   "display_name": "Python [conda env:geo] *",
   "language": "python",
   "name": "conda-env-geo-py"
  },
  "language_info": {
   "codemirror_mode": {
    "name": "ipython",
    "version": 3
   },
   "file_extension": ".py",
   "mimetype": "text/x-python",
   "name": "python",
   "nbconvert_exporter": "python",
   "pygments_lexer": "ipython3",
   "version": "3.8.16"
  }
 },
 "nbformat": 4,
 "nbformat_minor": 5
}
