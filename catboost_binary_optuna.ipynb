{
 "cells": [
  {
   "cell_type": "code",
   "execution_count": 1,
   "id": "0e03db19-61bd-4370-8279-c7790a570414",
   "metadata": {},
   "outputs": [],
   "source": [
    "import gc\n",
    "import warnings\n",
    "import numpy as np\n",
    "import pandas as pd\n",
    "import catboost as cb\n",
    "import matplotlib.pyplot as plt\n",
    "import seaborn as sns\n",
    "\n",
    "from tqdm import tqdm\n",
    "\n",
    "from sklearn.linear_model import LogisticRegression, RidgeClassifier\n",
    "from sklearn.model_selection import train_test_split\n",
    "from sklearn.metrics import (\n",
    "    confusion_matrix,\n",
    "    ConfusionMatrixDisplay,\n",
    "    classification_report,\n",
    "    precision_recall_curve,\n",
    "    roc_auc_score,\n",
    "    PrecisionRecallDisplay,\n",
    "    log_loss,\n",
    "    RocCurveDisplay\n",
    ")\n",
    "\n",
    "from intent_model.preprocessing.filters import only_successful_trips\n",
    "from intent_model.preprocessing.targets import rh_vs_rest_target"
   ]
  },
  {
   "cell_type": "code",
   "execution_count": 2,
   "id": "9c5d1ad2-8446-48e6-97f2-fe68c4ac65ef",
   "metadata": {},
   "outputs": [],
   "source": [
    "warnings.filterwarnings('ignore')"
   ]
  },
  {
   "cell_type": "code",
   "execution_count": 3,
   "id": "c0fc5f4f-1a0c-4e38-9809-a8d51ef91349",
   "metadata": {},
   "outputs": [],
   "source": [
    "data = pd.read_parquet('dataset_binary_v2.pq')"
   ]
  },
  {
   "cell_type": "code",
   "execution_count": 4,
   "id": "2b299616-7bea-4c5b-b890-8ebcb85cc243",
   "metadata": {},
   "outputs": [
    {
     "data": {
      "text/plain": [
       "Index(['valid_date', 'ts', 'sessionuuid', 'customer_id', 'booking_id',\n",
       "       'latitude', 'longitude', 'is_trip_ended', 'quantile', 'rh',\n",
       "       'min_dist_to_known_loc', 'known_loc_occ', 'is_freq', 'rh_frac',\n",
       "       'norm_week', 'norm_hour', 'dist_to_most_freq', 'weekday', 'time_sin',\n",
       "       'time_cos'],\n",
       "      dtype='object')"
      ]
     },
     "execution_count": 4,
     "metadata": {},
     "output_type": "execute_result"
    }
   ],
   "source": [
    "data.columns"
   ]
  },
  {
   "cell_type": "code",
   "execution_count": 5,
   "id": "3c23fb1b-bd2e-4c01-956a-f77bf4115be0",
   "metadata": {},
   "outputs": [
    {
     "data": {
      "text/html": [
       "<div>\n",
       "<style scoped>\n",
       "    .dataframe tbody tr th:only-of-type {\n",
       "        vertical-align: middle;\n",
       "    }\n",
       "\n",
       "    .dataframe tbody tr th {\n",
       "        vertical-align: top;\n",
       "    }\n",
       "\n",
       "    .dataframe thead th {\n",
       "        text-align: right;\n",
       "    }\n",
       "</style>\n",
       "<table border=\"1\" class=\"dataframe\">\n",
       "  <thead>\n",
       "    <tr style=\"text-align: right;\">\n",
       "      <th></th>\n",
       "      <th>valid_date</th>\n",
       "      <th>ts</th>\n",
       "      <th>sessionuuid</th>\n",
       "      <th>customer_id</th>\n",
       "      <th>booking_id</th>\n",
       "      <th>latitude</th>\n",
       "      <th>longitude</th>\n",
       "      <th>is_trip_ended</th>\n",
       "      <th>quantile</th>\n",
       "      <th>rh</th>\n",
       "      <th>min_dist_to_known_loc</th>\n",
       "      <th>known_loc_occ</th>\n",
       "      <th>is_freq</th>\n",
       "      <th>rh_frac</th>\n",
       "      <th>norm_week</th>\n",
       "      <th>norm_hour</th>\n",
       "      <th>dist_to_most_freq</th>\n",
       "      <th>weekday</th>\n",
       "      <th>time_sin</th>\n",
       "      <th>time_cos</th>\n",
       "    </tr>\n",
       "  </thead>\n",
       "  <tbody>\n",
       "    <tr>\n",
       "      <th>0</th>\n",
       "      <td>2023-07-02</td>\n",
       "      <td>2023-07-02 12:13:03</td>\n",
       "      <td>0000011f-5182-48be-b496-c1a50891655d</td>\n",
       "      <td>53671267</td>\n",
       "      <td>1777558859</td>\n",
       "      <td>25.090</td>\n",
       "      <td>55.175</td>\n",
       "      <td>1</td>\n",
       "      <td>0.95</td>\n",
       "      <td>1</td>\n",
       "      <td>0.000000</td>\n",
       "      <td>0.804878</td>\n",
       "      <td>1</td>\n",
       "      <td>0.286713</td>\n",
       "      <td>0.229039</td>\n",
       "      <td>0.558661</td>\n",
       "      <td>0.000000</td>\n",
       "      <td>6</td>\n",
       "      <td>-0.056693</td>\n",
       "      <td>-0.998392</td>\n",
       "    </tr>\n",
       "    <tr>\n",
       "      <th>1</th>\n",
       "      <td>2023-05-23</td>\n",
       "      <td>2023-05-23 08:23:08</td>\n",
       "      <td>6865AEC9-13A5-4164-B861-B4239FA4CD86</td>\n",
       "      <td>56071529</td>\n",
       "      <td>1757410568</td>\n",
       "      <td>25.207</td>\n",
       "      <td>55.248</td>\n",
       "      <td>1</td>\n",
       "      <td>0.96</td>\n",
       "      <td>1</td>\n",
       "      <td>0.000000</td>\n",
       "      <td>0.888889</td>\n",
       "      <td>0</td>\n",
       "      <td>0.789474</td>\n",
       "      <td>0.217250</td>\n",
       "      <td>0.084819</td>\n",
       "      <td>0.000000</td>\n",
       "      <td>1</td>\n",
       "      <td>0.811574</td>\n",
       "      <td>-0.584250</td>\n",
       "    </tr>\n",
       "    <tr>\n",
       "      <th>2</th>\n",
       "      <td>2023-05-31</td>\n",
       "      <td>2023-05-31 20:57:23</td>\n",
       "      <td>0000014D-935E-4BFB-8582-6107004CCAC5</td>\n",
       "      <td>48719113</td>\n",
       "      <td>1762031191</td>\n",
       "      <td>25.095</td>\n",
       "      <td>55.154</td>\n",
       "      <td>1</td>\n",
       "      <td>0.91</td>\n",
       "      <td>1</td>\n",
       "      <td>0.000000</td>\n",
       "      <td>0.384615</td>\n",
       "      <td>1</td>\n",
       "      <td>0.866667</td>\n",
       "      <td>0.342997</td>\n",
       "      <td>0.615457</td>\n",
       "      <td>0.090510</td>\n",
       "      <td>2</td>\n",
       "      <td>-0.716302</td>\n",
       "      <td>0.697790</td>\n",
       "    </tr>\n",
       "    <tr>\n",
       "      <th>3</th>\n",
       "      <td>2023-05-23</td>\n",
       "      <td>2023-05-23 09:03:47</td>\n",
       "      <td>32d45eed-6a93-4a9b-8df4-34cf8a94a36f</td>\n",
       "      <td>61105461</td>\n",
       "      <td>1757431140</td>\n",
       "      <td>25.247</td>\n",
       "      <td>55.304</td>\n",
       "      <td>1</td>\n",
       "      <td>0.82</td>\n",
       "      <td>1</td>\n",
       "      <td>0.001414</td>\n",
       "      <td>0.769231</td>\n",
       "      <td>1</td>\n",
       "      <td>1.000000</td>\n",
       "      <td>0.780869</td>\n",
       "      <td>0.384111</td>\n",
       "      <td>0.001414</td>\n",
       "      <td>1</td>\n",
       "      <td>0.697790</td>\n",
       "      <td>-0.716302</td>\n",
       "    </tr>\n",
       "    <tr>\n",
       "      <th>4</th>\n",
       "      <td>2023-05-23</td>\n",
       "      <td>2023-05-23 09:31:08</td>\n",
       "      <td>215a96f7-0b0c-4785-8f15-e2f155ea4f13</td>\n",
       "      <td>16459670</td>\n",
       "      <td>1757474445</td>\n",
       "      <td>31.951</td>\n",
       "      <td>35.867</td>\n",
       "      <td>1</td>\n",
       "      <td>0.95</td>\n",
       "      <td>1</td>\n",
       "      <td>0.001000</td>\n",
       "      <td>0.720930</td>\n",
       "      <td>1</td>\n",
       "      <td>1.000000</td>\n",
       "      <td>0.389490</td>\n",
       "      <td>0.885044</td>\n",
       "      <td>0.026000</td>\n",
       "      <td>1</td>\n",
       "      <td>0.605294</td>\n",
       "      <td>-0.796002</td>\n",
       "    </tr>\n",
       "  </tbody>\n",
       "</table>\n",
       "</div>"
      ],
      "text/plain": [
       "   valid_date                  ts                           sessionuuid  \\\n",
       "0  2023-07-02 2023-07-02 12:13:03  0000011f-5182-48be-b496-c1a50891655d   \n",
       "1  2023-05-23 2023-05-23 08:23:08  6865AEC9-13A5-4164-B861-B4239FA4CD86   \n",
       "2  2023-05-31 2023-05-31 20:57:23  0000014D-935E-4BFB-8582-6107004CCAC5   \n",
       "3  2023-05-23 2023-05-23 09:03:47  32d45eed-6a93-4a9b-8df4-34cf8a94a36f   \n",
       "4  2023-05-23 2023-05-23 09:31:08  215a96f7-0b0c-4785-8f15-e2f155ea4f13   \n",
       "\n",
       "   customer_id  booking_id  latitude  longitude  is_trip_ended  quantile  rh  \\\n",
       "0     53671267  1777558859    25.090     55.175              1      0.95   1   \n",
       "1     56071529  1757410568    25.207     55.248              1      0.96   1   \n",
       "2     48719113  1762031191    25.095     55.154              1      0.91   1   \n",
       "3     61105461  1757431140    25.247     55.304              1      0.82   1   \n",
       "4     16459670  1757474445    31.951     35.867              1      0.95   1   \n",
       "\n",
       "   min_dist_to_known_loc  known_loc_occ  is_freq   rh_frac  norm_week  \\\n",
       "0               0.000000       0.804878        1  0.286713   0.229039   \n",
       "1               0.000000       0.888889        0  0.789474   0.217250   \n",
       "2               0.000000       0.384615        1  0.866667   0.342997   \n",
       "3               0.001414       0.769231        1  1.000000   0.780869   \n",
       "4               0.001000       0.720930        1  1.000000   0.389490   \n",
       "\n",
       "   norm_hour  dist_to_most_freq  weekday  time_sin  time_cos  \n",
       "0   0.558661           0.000000        6 -0.056693 -0.998392  \n",
       "1   0.084819           0.000000        1  0.811574 -0.584250  \n",
       "2   0.615457           0.090510        2 -0.716302  0.697790  \n",
       "3   0.384111           0.001414        1  0.697790 -0.716302  \n",
       "4   0.885044           0.026000        1  0.605294 -0.796002  "
      ]
     },
     "execution_count": 5,
     "metadata": {},
     "output_type": "execute_result"
    }
   ],
   "source": [
    "data.head()"
   ]
  },
  {
   "cell_type": "code",
   "execution_count": 6,
   "id": "7dd1e212-4651-430d-b751-fb618604db73",
   "metadata": {},
   "outputs": [],
   "source": [
    "CAT = ['weekday']\n",
    "\n",
    "TO_DROP = [\n",
    "    'valid_date', 'ts', 'sessionuuid', 'customer_id', 'booking_id',\n",
    "    'is_trip_ended', 'rh', 'is_freq', 'target'\n",
    "]"
   ]
  },
  {
   "cell_type": "code",
   "execution_count": 7,
   "id": "d697587e-064e-4bc7-bb25-717b2f177b01",
   "metadata": {},
   "outputs": [],
   "source": [
    "data = rh_vs_rest_target(data)"
   ]
  },
  {
   "cell_type": "code",
   "execution_count": 8,
   "id": "b8991717-b7d0-4a83-bd4d-216c0e0584c4",
   "metadata": {},
   "outputs": [
    {
     "data": {
      "text/plain": [
       "1    7374273\n",
       "0    2709396\n",
       "Name: target, dtype: int64"
      ]
     },
     "execution_count": 8,
     "metadata": {},
     "output_type": "execute_result"
    }
   ],
   "source": [
    "data.target.value_counts()"
   ]
  },
  {
   "cell_type": "markdown",
   "id": "f8aaff26-64e7-4c83-93db-bf0b5acee7b8",
   "metadata": {},
   "source": [
    "### Preparation"
   ]
  },
  {
   "cell_type": "code",
   "execution_count": 9,
   "id": "4315ad5f-efe7-4a06-b729-6a38596ef723",
   "metadata": {},
   "outputs": [],
   "source": [
    "dates = np.sort(data.valid_date.unique())\n",
    "\n",
    "train = data[data.valid_date.isin(dates[:60])]\n",
    "val = data[data.valid_date.isin(dates[60:75])]\n",
    "test = data[data.valid_date.isin(dates[75:])]"
   ]
  },
  {
   "cell_type": "code",
   "execution_count": 10,
   "id": "5af9cc14-cd1f-493d-b3f4-abbf5da40286",
   "metadata": {},
   "outputs": [
    {
     "data": {
      "text/plain": [
       "1    4878116\n",
       "0    1752148\n",
       "Name: target, dtype: int64"
      ]
     },
     "execution_count": 10,
     "metadata": {},
     "output_type": "execute_result"
    }
   ],
   "source": [
    "train.target.value_counts()"
   ]
  },
  {
   "cell_type": "code",
   "execution_count": 11,
   "id": "a09ea70b-08f2-4d03-8366-f2d69b8a6f02",
   "metadata": {},
   "outputs": [],
   "source": [
    "train['sample_weight'] = 1.0\n",
    "train.loc[(train.rh == 1) & (train.is_trip_ended == 0), 'sample_weight'] = 0.5"
   ]
  },
  {
   "cell_type": "code",
   "execution_count": 12,
   "id": "5c1a5bce-8a36-4f0d-ba02-6a4d28a5d45e",
   "metadata": {},
   "outputs": [],
   "source": [
    "train_neg = train[train.target == 0]\n",
    "\n",
    "train_pos, _ = train_test_split(\n",
    "    train[train.target == 1],\n",
    "    test_size=0.5,\n",
    "    stratify=train[train.target == 1]['sample_weight'],\n",
    "    random_state=111\n",
    ")\n",
    "\n",
    "train = pd.concat([train_neg, train_pos]).sample(frac=1.0).reset_index(drop=True)"
   ]
  },
  {
   "cell_type": "code",
   "execution_count": 13,
   "id": "30c38211-2701-4f10-875d-aa8aa7469816",
   "metadata": {},
   "outputs": [
    {
     "data": {
      "text/plain": [
       "1    2439058\n",
       "0    1752148\n",
       "Name: target, dtype: int64"
      ]
     },
     "execution_count": 13,
     "metadata": {},
     "output_type": "execute_result"
    }
   ],
   "source": [
    "train.target.value_counts()"
   ]
  },
  {
   "cell_type": "code",
   "execution_count": 14,
   "id": "dc0ddb75-8b26-4c60-99e3-249ecbe457c7",
   "metadata": {},
   "outputs": [],
   "source": [
    "cb_train = cb.Pool(\n",
    "    train.sort_values(['ts', 'customer_id']).drop(TO_DROP + ['sample_weight'], axis=1),\n",
    "    label=train.sort_values(['ts', 'customer_id']).target.values,\n",
    "    cat_features=CAT,\n",
    "    weight=train.sort_values(['ts', 'customer_id']).sample_weight.values\n",
    ")\n",
    "\n",
    "cb_val = cb.Pool(\n",
    "    val.sort_values(['ts', 'customer_id']).drop(TO_DROP, axis=1),\n",
    "    label=val.sort_values(['ts', 'customer_id']).target.values,\n",
    "    cat_features=CAT\n",
    ")\n",
    "\n",
    "cb_test = test.sort_values(['ts', 'customer_id']).drop(TO_DROP, axis=1)\n",
    "cb_test_y = test.sort_values(['ts', 'customer_id']).target.values"
   ]
  },
  {
   "cell_type": "markdown",
   "id": "6647ed7f-b3d1-4905-9777-f256cb1d22e6",
   "metadata": {},
   "source": [
    "### Model"
   ]
  },
  {
   "cell_type": "code",
   "execution_count": 15,
   "id": "673252d5-251b-44bf-be74-6d098c10d4c0",
   "metadata": {},
   "outputs": [],
   "source": [
    "import optuna"
   ]
  },
  {
   "cell_type": "code",
   "execution_count": 16,
   "id": "bf91415c-8f8d-4abb-adda-c6211128a71a",
   "metadata": {},
   "outputs": [],
   "source": [
    "def check_loss(model: cb.CatBoostClassifier, x: pd.DataFrame, y: np.ndarray) -> float:\n",
    "    pred = model.predict_proba(x)[:, 1]\n",
    "    return log_loss(y, pred)"
   ]
  },
  {
   "cell_type": "code",
   "execution_count": 17,
   "id": "4d6801a7-7375-4f23-846f-ce726d4b90e9",
   "metadata": {},
   "outputs": [],
   "source": [
    "def objective(trial):\n",
    "    param = {}\n",
    "    param['learning_rate'] = trial.suggest_discrete_uniform(\"learning_rate\", 0.01, 0.05, 0.01)\n",
    "    param['depth'] = trial.suggest_int('depth', 4, 10)\n",
    "    param['l2_leaf_reg'] = trial.suggest_discrete_uniform('l2_leaf_reg', 1.0, 10.0, 0.5)\n",
    "    param['min_child_samples'] = trial.suggest_categorical('min_child_samples', [1, 4, 8, 16, 32])\n",
    "    param['langevin'] = trial.suggest_categorical(\"langevin\", [True, False])\n",
    "    param['grow_policy'] = trial.suggest_categorical(\"grow_policy\", ['Depthwise', 'SymmetricTree'])\n",
    "    param['has_time'] = trial.suggest_categorical(\"has_time\", [True, False])\n",
    "        \n",
    "    param['iterations'] = 500\n",
    "    param['use_best_model'] = True\n",
    "    param['od_type'] = 'Iter'\n",
    "    param['od_wait'] = 50\n",
    "    param['random_state'] = 42\n",
    "    param['logging_level'] = 'Silent'\n",
    "    param['bootstrap_type']= 'Bernoulli'\n",
    "    param['score_function'] = 'L2'\n",
    "    \n",
    "    param['subsample'] = trial.suggest_discrete_uniform('subsample', 0.85, 1.0, 0.05)\n",
    "    \n",
    "    clf = cb.CatBoostClassifier(**param)\n",
    "    clf.fit(cb_train, eval_set=cb_val, early_stopping_rounds=50)\n",
    "    return check_loss(clf, cb_test, cb_test_y)"
   ]
  },
  {
   "cell_type": "code",
   "execution_count": 18,
   "id": "e9d14e84-7ab4-4466-88b0-64e302735f7c",
   "metadata": {},
   "outputs": [
    {
     "name": "stderr",
     "output_type": "stream",
     "text": [
      "\u001b[32m[I 2023-09-12 00:37:35,563]\u001b[0m A new study created in memory with name: catboost-seed\u001b[0m\n",
      "\u001b[32m[I 2023-09-12 00:55:04,606]\u001b[0m Trial 3 finished with value: 0.43329403255145665 and parameters: {'learning_rate': 0.02, 'depth': 5, 'l2_leaf_reg': 3.5, 'min_child_samples': 1, 'langevin': False, 'grow_policy': 'SymmetricTree', 'has_time': True, 'subsample': 0.95}. Best is trial 3 with value: 0.43329403255145665.\u001b[0m\n",
      "\u001b[32m[I 2023-09-12 00:56:25,566]\u001b[0m Trial 2 finished with value: 0.4265772071515987 and parameters: {'learning_rate': 0.04, 'depth': 5, 'l2_leaf_reg': 9.5, 'min_child_samples': 32, 'langevin': True, 'grow_policy': 'SymmetricTree', 'has_time': True, 'subsample': 0.9}. Best is trial 2 with value: 0.4265772071515987.\u001b[0m\n",
      "\u001b[32m[I 2023-09-12 00:59:59,570]\u001b[0m Trial 0 finished with value: 0.4269753908281412 and parameters: {'learning_rate': 0.02, 'depth': 7, 'l2_leaf_reg': 2.5, 'min_child_samples': 32, 'langevin': True, 'grow_policy': 'SymmetricTree', 'has_time': True, 'subsample': 0.85}. Best is trial 2 with value: 0.4265772071515987.\u001b[0m\n",
      "\u001b[32m[I 2023-09-12 01:03:35,304]\u001b[0m Trial 6 finished with value: 0.4227653507501901 and parameters: {'learning_rate': 0.03, 'depth': 6, 'l2_leaf_reg': 2.5, 'min_child_samples': 8, 'langevin': True, 'grow_policy': 'Depthwise', 'has_time': True, 'subsample': 0.9}. Best is trial 6 with value: 0.4227653507501901.\u001b[0m\n",
      "\u001b[32m[I 2023-09-12 01:09:19,363]\u001b[0m Trial 1 finished with value: 0.43065692451393023 and parameters: {'learning_rate': 0.02, 'depth': 6, 'l2_leaf_reg': 9.5, 'min_child_samples': 4, 'langevin': False, 'grow_policy': 'SymmetricTree', 'has_time': False, 'subsample': 0.9}. Best is trial 6 with value: 0.4227653507501901.\u001b[0m\n",
      "\u001b[32m[I 2023-09-12 01:10:31,238]\u001b[0m Trial 4 finished with value: 0.434475263875869 and parameters: {'learning_rate': 0.01, 'depth': 4, 'l2_leaf_reg': 6.5, 'min_child_samples': 8, 'langevin': True, 'grow_policy': 'Depthwise', 'has_time': False, 'subsample': 1.0}. Best is trial 6 with value: 0.4227653507501901.\u001b[0m\n",
      "\u001b[32m[I 2023-09-12 01:14:13,656]\u001b[0m Trial 9 finished with value: 0.4309894035015756 and parameters: {'learning_rate': 0.03, 'depth': 4, 'l2_leaf_reg': 3.0, 'min_child_samples': 32, 'langevin': True, 'grow_policy': 'SymmetricTree', 'has_time': True, 'subsample': 0.95}. Best is trial 6 with value: 0.4227653507501901.\u001b[0m\n",
      "\u001b[32m[I 2023-09-12 01:19:51,477]\u001b[0m Trial 10 finished with value: 0.43105295683239464 and parameters: {'learning_rate': 0.02, 'depth': 6, 'l2_leaf_reg': 9.0, 'min_child_samples': 16, 'langevin': False, 'grow_policy': 'SymmetricTree', 'has_time': True, 'subsample': 0.95}. Best is trial 6 with value: 0.4227653507501901.\u001b[0m\n",
      "\u001b[32m[I 2023-09-12 01:20:09,335]\u001b[0m Trial 7 finished with value: 0.4207980955786107 and parameters: {'learning_rate': 0.04, 'depth': 8, 'l2_leaf_reg': 3.5, 'min_child_samples': 32, 'langevin': True, 'grow_policy': 'SymmetricTree', 'has_time': False, 'subsample': 0.85}. Best is trial 7 with value: 0.4207980955786107.\u001b[0m\n",
      "\u001b[32m[I 2023-09-12 01:38:13,952]\u001b[0m Trial 8 finished with value: 0.4261883334990249 and parameters: {'learning_rate': 0.01, 'depth': 8, 'l2_leaf_reg': 4.0, 'min_child_samples': 16, 'langevin': False, 'grow_policy': 'Depthwise', 'has_time': False, 'subsample': 0.95}. Best is trial 7 with value: 0.4207980955786107.\u001b[0m\n",
      "\u001b[32m[I 2023-09-12 01:44:44,451]\u001b[0m Trial 12 finished with value: 0.4253650210447667 and parameters: {'learning_rate': 0.04, 'depth': 5, 'l2_leaf_reg': 8.5, 'min_child_samples': 8, 'langevin': False, 'grow_policy': 'Depthwise', 'has_time': False, 'subsample': 0.95}. Best is trial 7 with value: 0.4207980955786107.\u001b[0m\n",
      "\u001b[32m[I 2023-09-12 01:45:36,441]\u001b[0m Trial 16 finished with value: 0.43460153578729865 and parameters: {'learning_rate': 0.01, 'depth': 7, 'l2_leaf_reg': 1.0, 'min_child_samples': 16, 'langevin': False, 'grow_policy': 'SymmetricTree', 'has_time': True, 'subsample': 0.95}. Best is trial 7 with value: 0.4207980955786107.\u001b[0m\n",
      "\u001b[32m[I 2023-09-12 01:49:18,676]\u001b[0m Trial 13 finished with value: 0.4266677711363574 and parameters: {'learning_rate': 0.03, 'depth': 5, 'l2_leaf_reg': 10.0, 'min_child_samples': 32, 'langevin': False, 'grow_policy': 'Depthwise', 'has_time': False, 'subsample': 0.95}. Best is trial 7 with value: 0.4207980955786107.\u001b[0m\n",
      "\u001b[32m[I 2023-09-12 01:52:48,044]\u001b[0m Trial 11 finished with value: 0.4175908748186313 and parameters: {'learning_rate': 0.05, 'depth': 10, 'l2_leaf_reg': 6.5, 'min_child_samples': 1, 'langevin': True, 'grow_policy': 'SymmetricTree', 'has_time': False, 'subsample': 0.85}. Best is trial 11 with value: 0.4175908748186313.\u001b[0m\n",
      "\u001b[32m[I 2023-09-12 01:55:04,825]\u001b[0m Trial 5 finished with value: 0.42254313615267025 and parameters: {'learning_rate': 0.01, 'depth': 10, 'l2_leaf_reg': 2.5, 'min_child_samples': 1, 'langevin': False, 'grow_policy': 'Depthwise', 'has_time': False, 'subsample': 0.9}. Best is trial 11 with value: 0.4175908748186313.\u001b[0m\n",
      "\u001b[32m[I 2023-09-12 01:57:24,249]\u001b[0m Trial 15 finished with value: 0.4190491262485234 and parameters: {'learning_rate': 0.03, 'depth': 9, 'l2_leaf_reg': 4.0, 'min_child_samples': 16, 'langevin': False, 'grow_policy': 'Depthwise', 'has_time': True, 'subsample': 0.9}. Best is trial 11 with value: 0.4175908748186313.\u001b[0m\n",
      "\u001b[32m[I 2023-09-12 01:57:31,903]\u001b[0m Trial 14 finished with value: 0.4307619832013194 and parameters: {'learning_rate': 0.01, 'depth': 9, 'l2_leaf_reg': 2.0, 'min_child_samples': 32, 'langevin': False, 'grow_policy': 'SymmetricTree', 'has_time': False, 'subsample': 1.0}. Best is trial 11 with value: 0.4175908748186313.\u001b[0m\n",
      "\u001b[32m[I 2023-09-12 02:09:06,422]\u001b[0m Trial 17 finished with value: 0.41574286861105175 and parameters: {'learning_rate': 0.04, 'depth': 10, 'l2_leaf_reg': 2.5, 'min_child_samples': 4, 'langevin': False, 'grow_policy': 'Depthwise', 'has_time': True, 'subsample': 0.95}. Best is trial 17 with value: 0.41574286861105175.\u001b[0m\n",
      "\u001b[32m[I 2023-09-12 02:40:53,105]\u001b[0m Trial 22 finished with value: 0.4175272131802292 and parameters: {'learning_rate': 0.05, 'depth': 10, 'l2_leaf_reg': 6.0, 'min_child_samples': 1, 'langevin': True, 'grow_policy': 'SymmetricTree', 'has_time': False, 'subsample': 0.85}. Best is trial 17 with value: 0.41574286861105175.\u001b[0m\n",
      "\u001b[32m[I 2023-09-12 02:43:51,003]\u001b[0m Trial 23 finished with value: 0.4175272131802292 and parameters: {'learning_rate': 0.05, 'depth': 10, 'l2_leaf_reg': 6.0, 'min_child_samples': 1, 'langevin': True, 'grow_policy': 'SymmetricTree', 'has_time': False, 'subsample': 0.85}. Best is trial 17 with value: 0.41574286861105175.\u001b[0m\n",
      "\u001b[32m[I 2023-09-12 02:44:50,133]\u001b[0m Trial 25 finished with value: 0.41240378428533464 and parameters: {'learning_rate': 0.05, 'depth': 10, 'l2_leaf_reg': 5.5, 'min_child_samples': 1, 'langevin': True, 'grow_policy': 'Depthwise', 'has_time': True, 'subsample': 0.85}. Best is trial 25 with value: 0.41240378428533464.\u001b[0m\n",
      "\u001b[32m[I 2023-09-12 02:46:54,177]\u001b[0m Trial 18 finished with value: 0.41227182300888804 and parameters: {'learning_rate': 0.05, 'depth': 10, 'l2_leaf_reg': 1.0, 'min_child_samples': 4, 'langevin': True, 'grow_policy': 'Depthwise', 'has_time': False, 'subsample': 0.85}. Best is trial 18 with value: 0.41227182300888804.\u001b[0m\n",
      "\u001b[32m[I 2023-09-12 02:54:50,855]\u001b[0m Trial 19 finished with value: 0.412677955787331 and parameters: {'learning_rate': 0.05, 'depth': 10, 'l2_leaf_reg': 1.0, 'min_child_samples': 8, 'langevin': True, 'grow_policy': 'Depthwise', 'has_time': False, 'subsample': 0.85}. Best is trial 18 with value: 0.41227182300888804.\u001b[0m\n",
      "\u001b[32m[I 2023-09-12 02:54:52,447]\u001b[0m Trial 26 finished with value: 0.41271631544750115 and parameters: {'learning_rate': 0.05, 'depth': 10, 'l2_leaf_reg': 5.5, 'min_child_samples': 4, 'langevin': True, 'grow_policy': 'Depthwise', 'has_time': True, 'subsample': 0.85}. Best is trial 18 with value: 0.41227182300888804.\u001b[0m\n",
      "\u001b[32m[I 2023-09-12 02:57:08,612]\u001b[0m Trial 20 finished with value: 0.4122227634409569 and parameters: {'learning_rate': 0.05, 'depth': 10, 'l2_leaf_reg': 5.0, 'min_child_samples': 8, 'langevin': True, 'grow_policy': 'Depthwise', 'has_time': False, 'subsample': 0.85}. Best is trial 20 with value: 0.4122227634409569.\u001b[0m\n",
      "\u001b[32m[I 2023-09-12 02:59:09,665]\u001b[0m Trial 21 finished with value: 0.4123482444003412 and parameters: {'learning_rate': 0.05, 'depth': 10, 'l2_leaf_reg': 5.5, 'min_child_samples': 8, 'langevin': True, 'grow_policy': 'Depthwise', 'has_time': False, 'subsample': 0.85}. Best is trial 20 with value: 0.4122227634409569.\u001b[0m\n",
      "\u001b[32m[I 2023-09-12 03:08:26,647]\u001b[0m Trial 24 finished with value: 0.4115686038710636 and parameters: {'learning_rate': 0.05, 'depth': 10, 'l2_leaf_reg': 6.0, 'min_child_samples': 1, 'langevin': True, 'grow_policy': 'Depthwise', 'has_time': False, 'subsample': 0.85}. Best is trial 24 with value: 0.4115686038710636.\u001b[0m\n",
      "\u001b[32m[I 2023-09-12 03:19:30,537]\u001b[0m Trial 27 finished with value: 0.4144350005612997 and parameters: {'learning_rate': 0.05, 'depth': 9, 'l2_leaf_reg': 5.5, 'min_child_samples': 4, 'langevin': True, 'grow_policy': 'Depthwise', 'has_time': True, 'subsample': 1.0}. Best is trial 24 with value: 0.4115686038710636.\u001b[0m\n",
      "\u001b[32m[I 2023-09-12 03:23:44,197]\u001b[0m Trial 28 finished with value: 0.4142852463911847 and parameters: {'learning_rate': 0.05, 'depth': 9, 'l2_leaf_reg': 5.0, 'min_child_samples': 4, 'langevin': True, 'grow_policy': 'Depthwise', 'has_time': True, 'subsample': 1.0}. Best is trial 24 with value: 0.4115686038710636.\u001b[0m\n",
      "\u001b[32m[I 2023-09-12 03:23:55,179]\u001b[0m Trial 29 finished with value: 0.4142930550484141 and parameters: {'learning_rate': 0.05, 'depth': 9, 'l2_leaf_reg': 5.0, 'min_child_samples': 4, 'langevin': True, 'grow_policy': 'Depthwise', 'has_time': True, 'subsample': 0.85}. Best is trial 24 with value: 0.4115686038710636.\u001b[0m\n",
      "\u001b[32m[I 2023-09-12 03:25:19,155]\u001b[0m Trial 30 finished with value: 0.41458316915738913 and parameters: {'learning_rate': 0.05, 'depth': 9, 'l2_leaf_reg': 1.0, 'min_child_samples': 4, 'langevin': True, 'grow_policy': 'Depthwise', 'has_time': True, 'subsample': 0.85}. Best is trial 24 with value: 0.4115686038710636.\u001b[0m\n",
      "\u001b[32m[I 2023-09-12 03:53:18,264]\u001b[0m Trial 31 finished with value: 0.41363503672904606 and parameters: {'learning_rate': 0.05, 'depth': 9, 'l2_leaf_reg': 1.0, 'min_child_samples': 4, 'langevin': True, 'grow_policy': 'Depthwise', 'has_time': False, 'subsample': 0.85}. Best is trial 24 with value: 0.4115686038710636.\u001b[0m\n",
      "\u001b[32m[I 2023-09-12 03:55:07,334]\u001b[0m Trial 32 finished with value: 0.4137808951409627 and parameters: {'learning_rate': 0.05, 'depth': 9, 'l2_leaf_reg': 1.5, 'min_child_samples': 4, 'langevin': True, 'grow_policy': 'Depthwise', 'has_time': False, 'subsample': 0.85}. Best is trial 24 with value: 0.4115686038710636.\u001b[0m\n",
      "\u001b[32m[I 2023-09-12 03:59:12,676]\u001b[0m Trial 33 finished with value: 0.41358941580435543 and parameters: {'learning_rate': 0.05, 'depth': 9, 'l2_leaf_reg': 7.5, 'min_child_samples': 4, 'langevin': True, 'grow_policy': 'Depthwise', 'has_time': False, 'subsample': 0.85}. Best is trial 24 with value: 0.4115686038710636.\u001b[0m\n",
      "\u001b[32m[I 2023-09-12 04:01:07,094]\u001b[0m Trial 34 finished with value: 0.4146376709376542 and parameters: {'learning_rate': 0.04, 'depth': 9, 'l2_leaf_reg': 8.0, 'min_child_samples': 8, 'langevin': True, 'grow_policy': 'Depthwise', 'has_time': False, 'subsample': 0.9}. Best is trial 24 with value: 0.4115686038710636.\u001b[0m\n",
      "\u001b[32m[I 2023-09-12 04:10:17,280]\u001b[0m Trial 35 finished with value: 0.41423288252325174 and parameters: {'learning_rate': 0.04, 'depth': 9, 'l2_leaf_reg': 7.5, 'min_child_samples': 4, 'langevin': True, 'grow_policy': 'Depthwise', 'has_time': False, 'subsample': 0.9}. Best is trial 24 with value: 0.4115686038710636.\u001b[0m\n",
      "\u001b[32m[I 2023-09-12 04:20:07,064]\u001b[0m Trial 37 finished with value: 0.4163117731256105 and parameters: {'learning_rate': 0.04, 'depth': 8, 'l2_leaf_reg': 8.0, 'min_child_samples': 8, 'langevin': True, 'grow_policy': 'Depthwise', 'has_time': False, 'subsample': 0.9}. Best is trial 24 with value: 0.4115686038710636.\u001b[0m\n",
      "\u001b[32m[I 2023-09-12 04:20:57,557]\u001b[0m Trial 38 finished with value: 0.4162011542954449 and parameters: {'learning_rate': 0.04, 'depth': 8, 'l2_leaf_reg': 8.5, 'min_child_samples': 8, 'langevin': True, 'grow_policy': 'Depthwise', 'has_time': False, 'subsample': 0.9}. Best is trial 24 with value: 0.4115686038710636.\u001b[0m\n",
      "\u001b[32m[I 2023-09-12 04:21:48,109]\u001b[0m Trial 36 finished with value: 0.41434749441740637 and parameters: {'learning_rate': 0.04, 'depth': 9, 'l2_leaf_reg': 8.0, 'min_child_samples': 4, 'langevin': True, 'grow_policy': 'Depthwise', 'has_time': False, 'subsample': 0.9}. Best is trial 24 with value: 0.4115686038710636.\u001b[0m\n",
      "\u001b[32m[I 2023-09-12 04:23:04,483]\u001b[0m Trial 39 finished with value: 0.416212769599827 and parameters: {'learning_rate': 0.04, 'depth': 8, 'l2_leaf_reg': 8.0, 'min_child_samples': 8, 'langevin': True, 'grow_policy': 'Depthwise', 'has_time': False, 'subsample': 0.85}. Best is trial 24 with value: 0.4115686038710636.\u001b[0m\n",
      "\u001b[32m[I 2023-09-12 04:48:24,968]\u001b[0m Trial 40 finished with value: 0.4163117731256105 and parameters: {'learning_rate': 0.04, 'depth': 8, 'l2_leaf_reg': 8.0, 'min_child_samples': 8, 'langevin': True, 'grow_policy': 'Depthwise', 'has_time': False, 'subsample': 0.9}. Best is trial 24 with value: 0.4115686038710636.\u001b[0m\n",
      "\u001b[32m[I 2023-09-12 04:57:32,010]\u001b[0m Trial 42 finished with value: 0.41624501316691914 and parameters: {'learning_rate': 0.04, 'depth': 8, 'l2_leaf_reg': 7.5, 'min_child_samples': 8, 'langevin': True, 'grow_policy': 'Depthwise', 'has_time': False, 'subsample': 0.9}. Best is trial 24 with value: 0.4115686038710636.\u001b[0m\n",
      "\u001b[32m[I 2023-09-12 04:58:59,055]\u001b[0m Trial 43 finished with value: 0.4161863525859418 and parameters: {'learning_rate': 0.04, 'depth': 8, 'l2_leaf_reg': 6.5, 'min_child_samples': 8, 'langevin': True, 'grow_policy': 'Depthwise', 'has_time': False, 'subsample': 0.9}. Best is trial 24 with value: 0.4115686038710636.\u001b[0m\n",
      "\u001b[32m[I 2023-09-12 05:05:21,066]\u001b[0m Trial 41 finished with value: 0.41337614259048716 and parameters: {'learning_rate': 0.04, 'depth': 10, 'l2_leaf_reg': 7.0, 'min_child_samples': 8, 'langevin': True, 'grow_policy': 'Depthwise', 'has_time': False, 'subsample': 0.9}. Best is trial 24 with value: 0.4115686038710636.\u001b[0m\n",
      "\u001b[32m[I 2023-09-12 05:07:18,304]\u001b[0m Trial 44 finished with value: 0.4164063155428871 and parameters: {'learning_rate': 0.04, 'depth': 8, 'l2_leaf_reg': 4.5, 'min_child_samples': 8, 'langevin': True, 'grow_policy': 'Depthwise', 'has_time': False, 'subsample': 0.9}. Best is trial 24 with value: 0.4115686038710636.\u001b[0m\n",
      "\u001b[32m[I 2023-09-12 05:15:41,911]\u001b[0m Trial 45 finished with value: 0.4163762350448807 and parameters: {'learning_rate': 0.04, 'depth': 8, 'l2_leaf_reg': 7.0, 'min_child_samples': 8, 'langevin': True, 'grow_policy': 'Depthwise', 'has_time': False, 'subsample': 0.85}. Best is trial 24 with value: 0.4115686038710636.\u001b[0m\n",
      "\u001b[32m[I 2023-09-12 05:29:44,302]\u001b[0m Trial 46 finished with value: 0.413407453822239 and parameters: {'learning_rate': 0.04, 'depth': 10, 'l2_leaf_reg': 4.5, 'min_child_samples': 8, 'langevin': True, 'grow_policy': 'Depthwise', 'has_time': False, 'subsample': 0.85}. Best is trial 24 with value: 0.4115686038710636.\u001b[0m\n",
      "\u001b[32m[I 2023-09-12 05:32:28,756]\u001b[0m Trial 47 finished with value: 0.41342769248295486 and parameters: {'learning_rate': 0.04, 'depth': 10, 'l2_leaf_reg': 7.0, 'min_child_samples': 8, 'langevin': True, 'grow_policy': 'Depthwise', 'has_time': False, 'subsample': 0.85}. Best is trial 24 with value: 0.4115686038710636.\u001b[0m\n",
      "\u001b[32m[I 2023-09-12 05:33:33,455]\u001b[0m Trial 48 finished with value: 0.4125326322787317 and parameters: {'learning_rate': 0.05, 'depth': 10, 'l2_leaf_reg': 4.5, 'min_child_samples': 8, 'langevin': True, 'grow_policy': 'Depthwise', 'has_time': False, 'subsample': 0.85}. Best is trial 24 with value: 0.4115686038710636.\u001b[0m\n",
      "\u001b[32m[I 2023-09-12 05:55:51,039]\u001b[0m Trial 49 finished with value: 0.41139547599713366 and parameters: {'learning_rate': 0.05, 'depth': 10, 'l2_leaf_reg': 4.5, 'min_child_samples': 1, 'langevin': True, 'grow_policy': 'Depthwise', 'has_time': False, 'subsample': 0.85}. Best is trial 49 with value: 0.41139547599713366.\u001b[0m\n",
      "\u001b[32m[I 2023-09-12 06:05:43,957]\u001b[0m Trial 50 finished with value: 0.41139547599713366 and parameters: {'learning_rate': 0.05, 'depth': 10, 'l2_leaf_reg': 4.5, 'min_child_samples': 1, 'langevin': True, 'grow_policy': 'Depthwise', 'has_time': False, 'subsample': 0.85}. Best is trial 49 with value: 0.41139547599713366.\u001b[0m\n",
      "\u001b[32m[I 2023-09-12 06:09:09,989]\u001b[0m Trial 51 finished with value: 0.41139547599713366 and parameters: {'learning_rate': 0.05, 'depth': 10, 'l2_leaf_reg': 4.5, 'min_child_samples': 1, 'langevin': True, 'grow_policy': 'Depthwise', 'has_time': False, 'subsample': 0.85}. Best is trial 49 with value: 0.41139547599713366.\u001b[0m\n",
      "\u001b[32m[I 2023-09-12 06:16:38,717]\u001b[0m Trial 52 finished with value: 0.41139547599713366 and parameters: {'learning_rate': 0.05, 'depth': 10, 'l2_leaf_reg': 4.5, 'min_child_samples': 1, 'langevin': True, 'grow_policy': 'Depthwise', 'has_time': False, 'subsample': 0.85}. Best is trial 49 with value: 0.41139547599713366.\u001b[0m\n",
      "\u001b[32m[I 2023-09-12 06:17:10,482]\u001b[0m Trial 55 finished with value: 0.4124102648964973 and parameters: {'learning_rate': 0.05, 'depth': 10, 'l2_leaf_reg': 3.5, 'min_child_samples': 1, 'langevin': True, 'grow_policy': 'Depthwise', 'has_time': True, 'subsample': 0.85}. Best is trial 49 with value: 0.41139547599713366.\u001b[0m\n",
      "\u001b[32m[I 2023-09-12 06:19:19,131]\u001b[0m Trial 53 finished with value: 0.41139547599713366 and parameters: {'learning_rate': 0.05, 'depth': 10, 'l2_leaf_reg': 4.5, 'min_child_samples': 1, 'langevin': True, 'grow_policy': 'Depthwise', 'has_time': False, 'subsample': 0.85}. Best is trial 49 with value: 0.41139547599713366.\u001b[0m\n",
      "\u001b[32m[I 2023-09-12 06:21:09,051]\u001b[0m Trial 56 finished with value: 0.4124102648964973 and parameters: {'learning_rate': 0.05, 'depth': 10, 'l2_leaf_reg': 3.5, 'min_child_samples': 1, 'langevin': True, 'grow_policy': 'Depthwise', 'has_time': True, 'subsample': 0.85}. Best is trial 49 with value: 0.41139547599713366.\u001b[0m\n",
      "\u001b[32m[I 2023-09-12 06:23:00,214]\u001b[0m Trial 57 finished with value: 0.41231563058963744 and parameters: {'learning_rate': 0.05, 'depth': 10, 'l2_leaf_reg': 5.0, 'min_child_samples': 1, 'langevin': True, 'grow_policy': 'Depthwise', 'has_time': True, 'subsample': 0.85}. Best is trial 49 with value: 0.41139547599713366.\u001b[0m\n",
      "\u001b[32m[I 2023-09-12 06:31:18,639]\u001b[0m Trial 54 finished with value: 0.41139547599713366 and parameters: {'learning_rate': 0.05, 'depth': 10, 'l2_leaf_reg': 4.5, 'min_child_samples': 1, 'langevin': True, 'grow_policy': 'Depthwise', 'has_time': False, 'subsample': 0.85}. Best is trial 49 with value: 0.41139547599713366.\u001b[0m\n",
      "\u001b[32m[I 2023-09-12 07:05:57,469]\u001b[0m Trial 65 finished with value: 0.43067094735666756 and parameters: {'learning_rate': 0.02, 'depth': 6, 'l2_leaf_reg': 4.0, 'min_child_samples': 1, 'langevin': False, 'grow_policy': 'SymmetricTree', 'has_time': False, 'subsample': 0.85}. Best is trial 49 with value: 0.41139547599713366.\u001b[0m\n",
      "\u001b[32m[I 2023-09-12 07:22:10,002]\u001b[0m Trial 66 finished with value: 0.42873159019015133 and parameters: {'learning_rate': 0.02, 'depth': 7, 'l2_leaf_reg': 4.0, 'min_child_samples': 1, 'langevin': False, 'grow_policy': 'SymmetricTree', 'has_time': False, 'subsample': 0.85}. Best is trial 49 with value: 0.41139547599713366.\u001b[0m\n",
      "\u001b[32m[I 2023-09-12 07:24:02,297]\u001b[0m Trial 58 finished with value: 0.41593367823452276 and parameters: {'learning_rate': 0.02, 'depth': 10, 'l2_leaf_reg': 3.5, 'min_child_samples': 1, 'langevin': True, 'grow_policy': 'Depthwise', 'has_time': False, 'subsample': 0.85}. Best is trial 49 with value: 0.41139547599713366.\u001b[0m\n",
      "\u001b[32m[I 2023-09-12 07:25:11,692]\u001b[0m Trial 63 finished with value: 0.42432662097770596 and parameters: {'learning_rate': 0.02, 'depth': 10, 'l2_leaf_reg': 4.0, 'min_child_samples': 1, 'langevin': False, 'grow_policy': 'SymmetricTree', 'has_time': False, 'subsample': 0.85}. Best is trial 49 with value: 0.41139547599713366.\u001b[0m\n",
      "\u001b[32m[I 2023-09-12 07:26:35,648]\u001b[0m Trial 64 finished with value: 0.42432662097770596 and parameters: {'learning_rate': 0.02, 'depth': 10, 'l2_leaf_reg': 4.0, 'min_child_samples': 1, 'langevin': False, 'grow_policy': 'SymmetricTree', 'has_time': False, 'subsample': 0.85}. Best is trial 49 with value: 0.41139547599713366.\u001b[0m\n",
      "\u001b[32m[I 2023-09-12 07:29:52,049]\u001b[0m Trial 59 finished with value: 0.4115408055683554 and parameters: {'learning_rate': 0.05, 'depth': 10, 'l2_leaf_reg': 3.5, 'min_child_samples': 1, 'langevin': True, 'grow_policy': 'Depthwise', 'has_time': False, 'subsample': 0.85}. Best is trial 49 with value: 0.41139547599713366.\u001b[0m\n",
      "\u001b[32m[I 2023-09-12 07:31:13,612]\u001b[0m Trial 60 finished with value: 0.4115408055683554 and parameters: {'learning_rate': 0.05, 'depth': 10, 'l2_leaf_reg': 3.5, 'min_child_samples': 1, 'langevin': True, 'grow_policy': 'Depthwise', 'has_time': False, 'subsample': 0.85}. Best is trial 49 with value: 0.41139547599713366.\u001b[0m\n",
      "\u001b[32m[I 2023-09-12 07:32:34,183]\u001b[0m Trial 62 finished with value: 0.4113831965454151 and parameters: {'learning_rate': 0.05, 'depth': 10, 'l2_leaf_reg': 4.0, 'min_child_samples': 1, 'langevin': True, 'grow_policy': 'Depthwise', 'has_time': False, 'subsample': 0.85}. Best is trial 62 with value: 0.4113831965454151.\u001b[0m\n",
      "\u001b[32m[I 2023-09-12 07:33:07,049]\u001b[0m Trial 61 finished with value: 0.41593367823452276 and parameters: {'learning_rate': 0.02, 'depth': 10, 'l2_leaf_reg': 3.5, 'min_child_samples': 1, 'langevin': True, 'grow_policy': 'Depthwise', 'has_time': False, 'subsample': 0.85}. Best is trial 62 with value: 0.4113831965454151.\u001b[0m\n"
     ]
    }
   ],
   "source": [
    "study = optuna.create_study(study_name='catboost-seed', direction='minimize')\n",
    "study.optimize(objective, n_jobs=9, timeout=21600)"
   ]
  },
  {
   "cell_type": "code",
   "execution_count": 19,
   "id": "b88c2383-f49b-4752-a8b0-bda7681e5398",
   "metadata": {},
   "outputs": [
    {
     "name": "stdout",
     "output_type": "stream",
     "text": [
      "Best LogLoss: 0.4113831965454151\n"
     ]
    }
   ],
   "source": [
    "print(f'Best LogLoss: {study.best_value}')"
   ]
  },
  {
   "cell_type": "code",
   "execution_count": 20,
   "id": "35302648-2328-4f95-93b6-7beb06ae2668",
   "metadata": {},
   "outputs": [
    {
     "name": "stdout",
     "output_type": "stream",
     "text": [
      "Best params: {'learning_rate': 0.05, 'depth': 10, 'l2_leaf_reg': 4.0, 'min_child_samples': 1, 'langevin': True, 'grow_policy': 'Depthwise', 'has_time': False, 'subsample': 0.85}\n"
     ]
    }
   ],
   "source": [
    "print(f'Best params: {study.best_params}')"
   ]
  },
  {
   "cell_type": "code",
   "execution_count": null,
   "id": "b8624331",
   "metadata": {},
   "outputs": [],
   "source": [
    "3"
   ]
  }
 ],
 "metadata": {
  "kernelspec": {
   "display_name": "Python [conda env:geo] *",
   "language": "python",
   "name": "conda-env-geo-py"
  },
  "language_info": {
   "codemirror_mode": {
    "name": "ipython",
    "version": 3
   },
   "file_extension": ".py",
   "mimetype": "text/x-python",
   "name": "python",
   "nbconvert_exporter": "python",
   "pygments_lexer": "ipython3",
   "version": "3.8.16"
  }
 },
 "nbformat": 4,
 "nbformat_minor": 5
}
