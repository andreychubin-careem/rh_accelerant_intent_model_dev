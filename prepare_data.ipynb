{
 "cells": [
  {
   "cell_type": "code",
   "execution_count": 1,
   "id": "5063e3f7-dc78-4a64-8427-2b9694369ca2",
   "metadata": {},
   "outputs": [
    {
     "name": "stdout",
     "output_type": "stream",
     "text": [
      "INFO: Pandarallel will run on 10 workers.\n",
      "INFO: Pandarallel will use standard multiprocessing data transfer (pipe) to transfer data between the main process and workers.\n"
     ]
    }
   ],
   "source": [
    "import warnings\n",
    "import pandas as pd\n",
    "\n",
    "import matplotlib.pyplot as plt\n",
    "import seaborn as sns\n",
    "\n",
    "from intent_model.preprocessing.preprocess import read_data"
   ]
  },
  {
   "cell_type": "code",
   "execution_count": 2,
   "id": "97d42b6a-5ccf-460f-9e59-ed0d4047e722",
   "metadata": {},
   "outputs": [],
   "source": [
    "warnings.filterwarnings('ignore')"
   ]
  },
  {
   "cell_type": "code",
   "execution_count": 3,
   "id": "da46899f-a607-4aa8-94e0-d2c731cdb785",
   "metadata": {},
   "outputs": [
    {
     "name": "stdout",
     "output_type": "stream",
     "text": [
      "Features: 90; Sessions: 90\n"
     ]
    },
    {
     "name": "stderr",
     "output_type": "stream",
     "text": [
      "Reading and processing data...: 100%|███████████| 90/90 [23:07<00:00, 15.41s/it]\n"
     ]
    },
    {
     "name": "stdout",
     "output_type": "stream",
     "text": [
      "Removing duplicated data...\n",
      "Filling missing \"service_area_id\"...\n",
      "Done.\n"
     ]
    }
   ],
   "source": [
    "PATH = 'data/dataset_v2'\n",
    "\n",
    "data = read_data(PATH, melt_dicts=True, add_last_trip=False)"
   ]
  },
  {
   "cell_type": "code",
   "execution_count": 4,
   "id": "acf6fe18-5e19-4ac9-bdaa-9f30b7851df2",
   "metadata": {},
   "outputs": [
    {
     "data": {
      "text/plain": [
       "10090847"
      ]
     },
     "execution_count": 4,
     "metadata": {},
     "output_type": "execute_result"
    }
   ],
   "source": [
    "len(data)"
   ]
  },
  {
   "cell_type": "code",
   "execution_count": 5,
   "id": "aa30d831-d884-4501-9e4b-7ee01b9dd220",
   "metadata": {},
   "outputs": [
    {
     "data": {
      "text/html": [
       "<div>\n",
       "<style scoped>\n",
       "    .dataframe tbody tr th:only-of-type {\n",
       "        vertical-align: middle;\n",
       "    }\n",
       "\n",
       "    .dataframe tbody tr th {\n",
       "        vertical-align: top;\n",
       "    }\n",
       "\n",
       "    .dataframe thead th {\n",
       "        text-align: right;\n",
       "    }\n",
       "</style>\n",
       "<table border=\"1\" class=\"dataframe\">\n",
       "  <thead>\n",
       "    <tr style=\"text-align: right;\">\n",
       "      <th></th>\n",
       "      <th>valid_date</th>\n",
       "      <th>ts</th>\n",
       "      <th>sessionuuid</th>\n",
       "      <th>customer_id</th>\n",
       "      <th>booking_id</th>\n",
       "      <th>event_source</th>\n",
       "      <th>service_area_id</th>\n",
       "      <th>country_name</th>\n",
       "      <th>latitude</th>\n",
       "      <th>longitude</th>\n",
       "      <th>...</th>\n",
       "      <th>min_dist_to_known_loc</th>\n",
       "      <th>known_loc_occ</th>\n",
       "      <th>is_freq</th>\n",
       "      <th>dist_to_most_freq</th>\n",
       "      <th>weekday</th>\n",
       "      <th>minutes_sin</th>\n",
       "      <th>minutes_cos</th>\n",
       "      <th>rh_frac</th>\n",
       "      <th>norm_week</th>\n",
       "      <th>norm_hour</th>\n",
       "    </tr>\n",
       "  </thead>\n",
       "  <tbody>\n",
       "    <tr>\n",
       "      <th>0</th>\n",
       "      <td>2023-07-02</td>\n",
       "      <td>2023-07-02 12:13:03</td>\n",
       "      <td>0000011f-5182-48be-b496-c1a50891655d</td>\n",
       "      <td>53671267</td>\n",
       "      <td>1777558859</td>\n",
       "      <td>superapp_android</td>\n",
       "      <td>1</td>\n",
       "      <td>United Arab Emirates</td>\n",
       "      <td>25.090</td>\n",
       "      <td>55.175</td>\n",
       "      <td>...</td>\n",
       "      <td>0.000000</td>\n",
       "      <td>0.804878</td>\n",
       "      <td>1</td>\n",
       "      <td>0.000000</td>\n",
       "      <td>6</td>\n",
       "      <td>-0.056693</td>\n",
       "      <td>-0.998392</td>\n",
       "      <td>0.286713</td>\n",
       "      <td>0.229039</td>\n",
       "      <td>0.558661</td>\n",
       "    </tr>\n",
       "    <tr>\n",
       "      <th>1</th>\n",
       "      <td>2023-05-23</td>\n",
       "      <td>2023-05-23 08:23:08</td>\n",
       "      <td>6865AEC9-13A5-4164-B861-B4239FA4CD86</td>\n",
       "      <td>56071529</td>\n",
       "      <td>1757410568</td>\n",
       "      <td>superapp_ios</td>\n",
       "      <td>1</td>\n",
       "      <td>United Arab Emirates</td>\n",
       "      <td>25.207</td>\n",
       "      <td>55.248</td>\n",
       "      <td>...</td>\n",
       "      <td>0.000000</td>\n",
       "      <td>0.888889</td>\n",
       "      <td>0</td>\n",
       "      <td>0.000000</td>\n",
       "      <td>1</td>\n",
       "      <td>0.811574</td>\n",
       "      <td>-0.584250</td>\n",
       "      <td>0.789474</td>\n",
       "      <td>0.217250</td>\n",
       "      <td>0.084819</td>\n",
       "    </tr>\n",
       "    <tr>\n",
       "      <th>2</th>\n",
       "      <td>2023-05-31</td>\n",
       "      <td>2023-05-31 20:57:23</td>\n",
       "      <td>0000014D-935E-4BFB-8582-6107004CCAC5</td>\n",
       "      <td>48719113</td>\n",
       "      <td>1762031191</td>\n",
       "      <td>superapp_ios</td>\n",
       "      <td>1</td>\n",
       "      <td>United Arab Emirates</td>\n",
       "      <td>25.095</td>\n",
       "      <td>55.154</td>\n",
       "      <td>...</td>\n",
       "      <td>0.000000</td>\n",
       "      <td>0.384615</td>\n",
       "      <td>1</td>\n",
       "      <td>0.090510</td>\n",
       "      <td>2</td>\n",
       "      <td>-0.716302</td>\n",
       "      <td>0.697790</td>\n",
       "      <td>0.866667</td>\n",
       "      <td>0.342997</td>\n",
       "      <td>0.615457</td>\n",
       "    </tr>\n",
       "    <tr>\n",
       "      <th>3</th>\n",
       "      <td>2023-05-23</td>\n",
       "      <td>2023-05-23 09:03:47</td>\n",
       "      <td>32d45eed-6a93-4a9b-8df4-34cf8a94a36f</td>\n",
       "      <td>61105461</td>\n",
       "      <td>1757431140</td>\n",
       "      <td>superapp_android</td>\n",
       "      <td>1</td>\n",
       "      <td>United Arab Emirates</td>\n",
       "      <td>25.247</td>\n",
       "      <td>55.304</td>\n",
       "      <td>...</td>\n",
       "      <td>0.001414</td>\n",
       "      <td>0.769231</td>\n",
       "      <td>1</td>\n",
       "      <td>0.001414</td>\n",
       "      <td>1</td>\n",
       "      <td>0.697790</td>\n",
       "      <td>-0.716302</td>\n",
       "      <td>1.000000</td>\n",
       "      <td>0.780869</td>\n",
       "      <td>0.384111</td>\n",
       "    </tr>\n",
       "    <tr>\n",
       "      <th>4</th>\n",
       "      <td>2023-08-16</td>\n",
       "      <td>2023-08-16 11:43:50</td>\n",
       "      <td>000004DB-F6BC-4050-8CD6-4ED5F2B9CA97</td>\n",
       "      <td>54629556</td>\n",
       "      <td>1799288269</td>\n",
       "      <td>superapp_ios</td>\n",
       "      <td>47</td>\n",
       "      <td>Jordan</td>\n",
       "      <td>31.996</td>\n",
       "      <td>35.858</td>\n",
       "      <td>...</td>\n",
       "      <td>0.000000</td>\n",
       "      <td>1.000000</td>\n",
       "      <td>1</td>\n",
       "      <td>0.000000</td>\n",
       "      <td>2</td>\n",
       "      <td>0.074108</td>\n",
       "      <td>-0.997250</td>\n",
       "      <td>0.823529</td>\n",
       "      <td>0.753778</td>\n",
       "      <td>0.000000</td>\n",
       "    </tr>\n",
       "  </tbody>\n",
       "</table>\n",
       "<p>5 rows × 29 columns</p>\n",
       "</div>"
      ],
      "text/plain": [
       "   valid_date                  ts                           sessionuuid  \\\n",
       "0  2023-07-02 2023-07-02 12:13:03  0000011f-5182-48be-b496-c1a50891655d   \n",
       "1  2023-05-23 2023-05-23 08:23:08  6865AEC9-13A5-4164-B861-B4239FA4CD86   \n",
       "2  2023-05-31 2023-05-31 20:57:23  0000014D-935E-4BFB-8582-6107004CCAC5   \n",
       "3  2023-05-23 2023-05-23 09:03:47  32d45eed-6a93-4a9b-8df4-34cf8a94a36f   \n",
       "4  2023-08-16 2023-08-16 11:43:50  000004DB-F6BC-4050-8CD6-4ED5F2B9CA97   \n",
       "\n",
       "   customer_id  booking_id      event_source service_area_id  \\\n",
       "0     53671267  1777558859  superapp_android               1   \n",
       "1     56071529  1757410568      superapp_ios               1   \n",
       "2     48719113  1762031191      superapp_ios               1   \n",
       "3     61105461  1757431140  superapp_android               1   \n",
       "4     54629556  1799288269      superapp_ios              47   \n",
       "\n",
       "           country_name  latitude  longitude  ...  min_dist_to_known_loc  \\\n",
       "0  United Arab Emirates    25.090     55.175  ...               0.000000   \n",
       "1  United Arab Emirates    25.207     55.248  ...               0.000000   \n",
       "2  United Arab Emirates    25.095     55.154  ...               0.000000   \n",
       "3  United Arab Emirates    25.247     55.304  ...               0.001414   \n",
       "4                Jordan    31.996     35.858  ...               0.000000   \n",
       "\n",
       "   known_loc_occ  is_freq  dist_to_most_freq  weekday  minutes_sin  \\\n",
       "0       0.804878        1           0.000000        6    -0.056693   \n",
       "1       0.888889        0           0.000000        1     0.811574   \n",
       "2       0.384615        1           0.090510        2    -0.716302   \n",
       "3       0.769231        1           0.001414        1     0.697790   \n",
       "4       1.000000        1           0.000000        2     0.074108   \n",
       "\n",
       "  minutes_cos   rh_frac  norm_week  norm_hour  \n",
       "0   -0.998392  0.286713   0.229039   0.558661  \n",
       "1   -0.584250  0.789474   0.217250   0.084819  \n",
       "2    0.697790  0.866667   0.342997   0.615457  \n",
       "3   -0.716302  1.000000   0.780869   0.384111  \n",
       "4   -0.997250  0.823529   0.753778   0.000000  \n",
       "\n",
       "[5 rows x 29 columns]"
      ]
     },
     "execution_count": 5,
     "metadata": {},
     "output_type": "execute_result"
    }
   ],
   "source": [
    "data.head()"
   ]
  },
  {
   "cell_type": "code",
   "execution_count": 6,
   "id": "bf1b36c9-51dd-47d4-9717-3b81f8ffa0b3",
   "metadata": {},
   "outputs": [],
   "source": [
    "data.to_parquet('data/dataset_v2/dataset.pq')"
   ]
  },
  {
   "cell_type": "code",
   "execution_count": 7,
   "id": "9fef9e63-253c-404c-9d12-54ae098fee85",
   "metadata": {},
   "outputs": [
    {
     "data": {
      "text/plain": [
       "Index(['valid_date', 'ts', 'sessionuuid', 'customer_id', 'booking_id',\n",
       "       'event_source', 'service_area_id', 'country_name', 'latitude',\n",
       "       'longitude', 'is_trip_ended', 'num_trips', 'quantile', 'user_cr',\n",
       "       'trx_amt', 'recom_freq', 'week_stats_recom', 'hour_stats_recom', 'rh',\n",
       "       'min_dist_to_known_loc', 'known_loc_occ', 'is_freq',\n",
       "       'dist_to_most_freq', 'weekday', 'minutes_sin', 'minutes_cos', 'rh_frac',\n",
       "       'norm_week', 'norm_hour'],\n",
       "      dtype='object')"
      ]
     },
     "execution_count": 7,
     "metadata": {},
     "output_type": "execute_result"
    }
   ],
   "source": [
    "data.columns"
   ]
  },
  {
   "cell_type": "code",
   "execution_count": 8,
   "id": "f1d0db84-f8f8-4167-a7a9-cf2cef81de40",
   "metadata": {},
   "outputs": [],
   "source": [
    "sub = data[['ts']].assign(sessions=1).copy()\n",
    "sub['ts'] = sub['ts'].astype(str).apply(lambda x: x.split(' ')[0])\n",
    "sub = sub.groupby(by='ts').sum()"
   ]
  },
  {
   "cell_type": "code",
   "execution_count": 9,
   "id": "a95e9978-75c8-47a5-bcaa-7b7ecd815a4b",
   "metadata": {},
   "outputs": [
    {
     "data": {
      "image/png": "[encoded data removed]",
      "text/plain": [
       "<Figure size 1500x500 with 1 Axes>"
      ]
     },
     "metadata": {},
     "output_type": "display_data"
    }
   ],
   "source": [
    "plt.figure(figsize=(15, 5))\n",
    "sns.lineplot(data=sub, x='ts', y='sessions')\n",
    "plt.xticks(rotation=90, fontsize=6)\n",
    "plt.show()"
   ]
  },
  {
   "cell_type": "code",
   "execution_count": null,
   "id": "47edd63c-cd69-45ff-9a26-12212f304423",
   "metadata": {},
   "outputs": [],
   "source": []
  }
 ],
 "metadata": {
  "kernelspec": {
   "display_name": "Python [conda env:geo] *",
   "language": "python",
   "name": "conda-env-geo-py"
  },
  "language_info": {
   "codemirror_mode": {
    "name": "ipython",
    "version": 3
   },
   "file_extension": ".py",
   "mimetype": "text/x-python",
   "name": "python",
   "nbconvert_exporter": "python",
   "pygments_lexer": "ipython3",
   "version": "3.8.16"
  }
 },
 "nbformat": 4,
 "nbformat_minor": 5
}
