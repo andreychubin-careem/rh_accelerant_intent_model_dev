{
 "cells": [
  {
   "cell_type": "code",
   "execution_count": 1,
   "id": "5063e3f7-dc78-4a64-8427-2b9694369ca2",
   "metadata": {},
   "outputs": [],
   "source": [
    "import warnings\n",
    "import numpy as np\n",
    "import pandas as pd\n",
    "\n",
    "import matplotlib.pyplot as plt\n",
    "import seaborn as sns\n",
    "\n",
    "from intent_model.preprocessing.preprocess import read_data"
   ]
  },
  {
   "cell_type": "code",
   "execution_count": 2,
   "id": "97d42b6a-5ccf-460f-9e59-ed0d4047e722",
   "metadata": {},
   "outputs": [],
   "source": [
    "warnings.filterwarnings('ignore')"
   ]
  },
  {
   "cell_type": "code",
   "execution_count": 3,
   "id": "69dab50e-ca3e-4910-a722-eb1b8c5049b0",
   "metadata": {},
   "outputs": [
    {
     "name": "stdout",
     "output_type": "stream",
     "text": [
      "Features: 90; Sessions: 90\n"
     ]
    },
    {
     "name": "stderr",
     "output_type": "stream",
     "text": [
      "Reading and processing data...: 100%|███████████| 90/90 [14:38<00:00,  9.76s/it]\n"
     ]
    },
    {
     "name": "stdout",
     "output_type": "stream",
     "text": [
      "Removing duplicated data...\n",
      "Done.\n"
     ]
    }
   ],
   "source": [
    "PATH = 'data/dataset_v3'\n",
    "\n",
    "data = read_data(path=PATH, melt_dicts=True)"
   ]
  },
  {
   "cell_type": "code",
   "execution_count": 4,
   "id": "d8408f21-ade3-478c-a173-f722661f5ac2",
   "metadata": {},
   "outputs": [
    {
     "data": {
      "text/plain": [
       "10089597"
      ]
     },
     "execution_count": 4,
     "metadata": {},
     "output_type": "execute_result"
    }
   ],
   "source": [
    "len(data)"
   ]
  },
  {
   "cell_type": "code",
   "execution_count": 5,
   "id": "2fba724e-1121-4324-8369-af33f352311d",
   "metadata": {},
   "outputs": [
    {
     "name": "stdout",
     "output_type": "stream",
     "text": [
      "<class 'pandas.core.frame.DataFrame'>\n",
      "RangeIndex: 10089597 entries, 0 to 10089596\n",
      "Data columns (total 20 columns):\n",
      " #   Column                 Non-Null Count     Dtype         \n",
      "---  ------                 --------------     -----         \n",
      " 0   valid_date             10089597 non-null  object        \n",
      " 1   ts                     10089597 non-null  datetime64[ns]\n",
      " 2   sessionuuid            10089597 non-null  object        \n",
      " 3   customer_id            10089597 non-null  int64         \n",
      " 4   booking_id             10089597 non-null  int64         \n",
      " 5   latitude               10089597 non-null  float64       \n",
      " 6   longitude              10089597 non-null  float64       \n",
      " 7   is_trip_ended          10089597 non-null  int64         \n",
      " 8   quantile               10089597 non-null  float64       \n",
      " 9   weekday                10089597 non-null  object        \n",
      " 10  minutes_sin            10089597 non-null  float64       \n",
      " 11  minutes_cos            10089597 non-null  float64       \n",
      " 12  rh                     10089597 non-null  int64         \n",
      " 13  norm_week              10089597 non-null  float64       \n",
      " 14  norm_hour              10089597 non-null  float64       \n",
      " 15  min_dist_to_known_loc  10089597 non-null  float64       \n",
      " 16  known_loc_occ          10089597 non-null  float64       \n",
      " 17  is_freq                10089597 non-null  int64         \n",
      " 18  dist_to_most_freq      10089597 non-null  float64       \n",
      " 19  rh_frac                10089597 non-null  float64       \n",
      "dtypes: datetime64[ns](1), float64(11), int64(5), object(3)\n",
      "memory usage: 1.5+ GB\n"
     ]
    }
   ],
   "source": [
    "data.info(show_counts=True)"
   ]
  },
  {
   "cell_type": "code",
   "execution_count": 6,
   "id": "fb6a3ce2-aaa9-440e-939f-f9d410b48faf",
   "metadata": {},
   "outputs": [
    {
     "data": {
      "text/html": [
       "<div>\n",
       "<style scoped>\n",
       "    .dataframe tbody tr th:only-of-type {\n",
       "        vertical-align: middle;\n",
       "    }\n",
       "\n",
       "    .dataframe tbody tr th {\n",
       "        vertical-align: top;\n",
       "    }\n",
       "\n",
       "    .dataframe thead th {\n",
       "        text-align: right;\n",
       "    }\n",
       "</style>\n",
       "<table border=\"1\" class=\"dataframe\">\n",
       "  <thead>\n",
       "    <tr style=\"text-align: right;\">\n",
       "      <th></th>\n",
       "      <th>valid_date</th>\n",
       "      <th>ts</th>\n",
       "      <th>sessionuuid</th>\n",
       "      <th>customer_id</th>\n",
       "      <th>booking_id</th>\n",
       "      <th>latitude</th>\n",
       "      <th>longitude</th>\n",
       "      <th>is_trip_ended</th>\n",
       "      <th>quantile</th>\n",
       "      <th>weekday</th>\n",
       "      <th>minutes_sin</th>\n",
       "      <th>minutes_cos</th>\n",
       "      <th>rh</th>\n",
       "      <th>norm_week</th>\n",
       "      <th>norm_hour</th>\n",
       "      <th>min_dist_to_known_loc</th>\n",
       "      <th>known_loc_occ</th>\n",
       "      <th>is_freq</th>\n",
       "      <th>dist_to_most_freq</th>\n",
       "      <th>rh_frac</th>\n",
       "    </tr>\n",
       "  </thead>\n",
       "  <tbody>\n",
       "    <tr>\n",
       "      <th>0</th>\n",
       "      <td>2023-05-23</td>\n",
       "      <td>2023-05-23 04:00:01</td>\n",
       "      <td>1669F369-7554-48CF-B3FF-0550B23F5233</td>\n",
       "      <td>55218057</td>\n",
       "      <td>0</td>\n",
       "      <td>25.110</td>\n",
       "      <td>55.178</td>\n",
       "      <td>0</td>\n",
       "      <td>0.93</td>\n",
       "      <td>2</td>\n",
       "      <td>0.866025</td>\n",
       "      <td>0.5</td>\n",
       "      <td>0</td>\n",
       "      <td>0.555136</td>\n",
       "      <td>0.000000</td>\n",
       "      <td>0.000000</td>\n",
       "      <td>0.741935</td>\n",
       "      <td>0</td>\n",
       "      <td>0.000000</td>\n",
       "      <td>1.000000</td>\n",
       "    </tr>\n",
       "    <tr>\n",
       "      <th>1</th>\n",
       "      <td>2023-05-23</td>\n",
       "      <td>2023-05-23 04:00:01</td>\n",
       "      <td>502DEA41-AD08-4C0B-9240-9E3840159680</td>\n",
       "      <td>9226442</td>\n",
       "      <td>0</td>\n",
       "      <td>25.160</td>\n",
       "      <td>55.302</td>\n",
       "      <td>0</td>\n",
       "      <td>0.84</td>\n",
       "      <td>2</td>\n",
       "      <td>0.866025</td>\n",
       "      <td>0.5</td>\n",
       "      <td>0</td>\n",
       "      <td>0.156174</td>\n",
       "      <td>0.200000</td>\n",
       "      <td>0.087006</td>\n",
       "      <td>0.800000</td>\n",
       "      <td>0</td>\n",
       "      <td>0.087006</td>\n",
       "      <td>1.000000</td>\n",
       "    </tr>\n",
       "    <tr>\n",
       "      <th>2</th>\n",
       "      <td>2023-05-23</td>\n",
       "      <td>2023-05-23 04:00:02</td>\n",
       "      <td>71F539C3-B172-418A-BF31-462229124F63</td>\n",
       "      <td>53665656</td>\n",
       "      <td>0</td>\n",
       "      <td>25.228</td>\n",
       "      <td>55.282</td>\n",
       "      <td>0</td>\n",
       "      <td>0.91</td>\n",
       "      <td>2</td>\n",
       "      <td>0.866025</td>\n",
       "      <td>0.5</td>\n",
       "      <td>0</td>\n",
       "      <td>0.164957</td>\n",
       "      <td>0.000000</td>\n",
       "      <td>0.000000</td>\n",
       "      <td>0.720000</td>\n",
       "      <td>0</td>\n",
       "      <td>0.000000</td>\n",
       "      <td>1.000000</td>\n",
       "    </tr>\n",
       "    <tr>\n",
       "      <th>3</th>\n",
       "      <td>2023-05-23</td>\n",
       "      <td>2023-05-23 04:00:02</td>\n",
       "      <td>c41f4869-1898-4115-b690-b05cc3dafb85</td>\n",
       "      <td>41318473</td>\n",
       "      <td>0</td>\n",
       "      <td>25.202</td>\n",
       "      <td>55.376</td>\n",
       "      <td>0</td>\n",
       "      <td>0.98</td>\n",
       "      <td>2</td>\n",
       "      <td>0.866025</td>\n",
       "      <td>0.5</td>\n",
       "      <td>0</td>\n",
       "      <td>0.404368</td>\n",
       "      <td>0.056254</td>\n",
       "      <td>0.003606</td>\n",
       "      <td>0.088235</td>\n",
       "      <td>0</td>\n",
       "      <td>0.061205</td>\n",
       "      <td>0.957746</td>\n",
       "    </tr>\n",
       "    <tr>\n",
       "      <th>4</th>\n",
       "      <td>2023-05-23</td>\n",
       "      <td>2023-05-23 04:00:03</td>\n",
       "      <td>E122AAF0-C492-46DE-8E17-83BE3DD63C9C</td>\n",
       "      <td>61907878</td>\n",
       "      <td>0</td>\n",
       "      <td>25.165</td>\n",
       "      <td>55.406</td>\n",
       "      <td>0</td>\n",
       "      <td>0.92</td>\n",
       "      <td>2</td>\n",
       "      <td>0.866025</td>\n",
       "      <td>0.5</td>\n",
       "      <td>0</td>\n",
       "      <td>0.156174</td>\n",
       "      <td>0.262613</td>\n",
       "      <td>0.001000</td>\n",
       "      <td>0.100000</td>\n",
       "      <td>0</td>\n",
       "      <td>0.010000</td>\n",
       "      <td>0.857143</td>\n",
       "    </tr>\n",
       "  </tbody>\n",
       "</table>\n",
       "</div>"
      ],
      "text/plain": [
       "   valid_date                  ts                           sessionuuid  \\\n",
       "0  2023-05-23 2023-05-23 04:00:01  1669F369-7554-48CF-B3FF-0550B23F5233   \n",
       "1  2023-05-23 2023-05-23 04:00:01  502DEA41-AD08-4C0B-9240-9E3840159680   \n",
       "2  2023-05-23 2023-05-23 04:00:02  71F539C3-B172-418A-BF31-462229124F63   \n",
       "3  2023-05-23 2023-05-23 04:00:02  c41f4869-1898-4115-b690-b05cc3dafb85   \n",
       "4  2023-05-23 2023-05-23 04:00:03  E122AAF0-C492-46DE-8E17-83BE3DD63C9C   \n",
       "\n",
       "   customer_id  booking_id  latitude  longitude  is_trip_ended  quantile  \\\n",
       "0     55218057           0    25.110     55.178              0      0.93   \n",
       "1      9226442           0    25.160     55.302              0      0.84   \n",
       "2     53665656           0    25.228     55.282              0      0.91   \n",
       "3     41318473           0    25.202     55.376              0      0.98   \n",
       "4     61907878           0    25.165     55.406              0      0.92   \n",
       "\n",
       "  weekday  minutes_sin  minutes_cos  rh  norm_week  norm_hour  \\\n",
       "0       2     0.866025          0.5   0   0.555136   0.000000   \n",
       "1       2     0.866025          0.5   0   0.156174   0.200000   \n",
       "2       2     0.866025          0.5   0   0.164957   0.000000   \n",
       "3       2     0.866025          0.5   0   0.404368   0.056254   \n",
       "4       2     0.866025          0.5   0   0.156174   0.262613   \n",
       "\n",
       "   min_dist_to_known_loc  known_loc_occ  is_freq  dist_to_most_freq   rh_frac  \n",
       "0               0.000000       0.741935        0           0.000000  1.000000  \n",
       "1               0.087006       0.800000        0           0.087006  1.000000  \n",
       "2               0.000000       0.720000        0           0.000000  1.000000  \n",
       "3               0.003606       0.088235        0           0.061205  0.957746  \n",
       "4               0.001000       0.100000        0           0.010000  0.857143  "
      ]
     },
     "execution_count": 6,
     "metadata": {},
     "output_type": "execute_result"
    }
   ],
   "source": [
    "data.head()"
   ]
  },
  {
   "cell_type": "code",
   "execution_count": 7,
   "id": "bf1b36c9-51dd-47d4-9717-3b81f8ffa0b3",
   "metadata": {},
   "outputs": [],
   "source": [
    "data.to_parquet('data/dataset_v3/dataset.pq')"
   ]
  },
  {
   "cell_type": "code",
   "execution_count": 8,
   "id": "f1d0db84-f8f8-4167-a7a9-cf2cef81de40",
   "metadata": {},
   "outputs": [],
   "source": [
    "sub = data[['ts']].assign(sessions=1).copy()\n",
    "sub['ts'] = sub['ts'].astype(str).apply(lambda x: x.split(' ')[0])\n",
    "sub = sub.groupby(by='ts').sum()"
   ]
  },
  {
   "cell_type": "code",
   "execution_count": 9,
   "id": "a95e9978-75c8-47a5-bcaa-7b7ecd815a4b",
   "metadata": {},
   "outputs": [
    {
     "data": {
      "image/png": "[encoded data removed]",
      "text/plain": [
       "<Figure size 1500x500 with 1 Axes>"
      ]
     },
     "metadata": {},
     "output_type": "display_data"
    }
   ],
   "source": [
    "plt.figure(figsize=(15, 5))\n",
    "sns.lineplot(data=sub, x='ts', y='sessions')\n",
    "plt.xticks(rotation=90, fontsize=6)\n",
    "plt.show()"
   ]
  },
  {
   "cell_type": "code",
   "execution_count": null,
   "id": "360f3960-f976-4abb-98df-1dcfbdf7423a",
   "metadata": {},
   "outputs": [],
   "source": []
  }
 ],
 "metadata": {
  "kernelspec": {
   "display_name": "Python [conda env:geo] *",
   "language": "python",
   "name": "conda-env-geo-py"
  },
  "language_info": {
   "codemirror_mode": {
    "name": "ipython",
    "version": 3
   },
   "file_extension": ".py",
   "mimetype": "text/x-python",
   "name": "python",
   "nbconvert_exporter": "python",
   "pygments_lexer": "ipython3",
   "version": "3.8.16"
  }
 },
 "nbformat": 4,
 "nbformat_minor": 5
}
