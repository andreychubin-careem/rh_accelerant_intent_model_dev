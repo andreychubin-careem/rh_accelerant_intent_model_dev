{
 "cells": [
  {
   "cell_type": "code",
   "execution_count": null,
   "id": "5063e3f7-dc78-4a64-8427-2b9694369ca2",
   "metadata": {},
   "outputs": [],
   "source": [
    "import warnings\n",
    "import numpy as np\n",
    "import pandas as pd\n",
    "\n",
    "import matplotlib.pyplot as plt\n",
    "import seaborn as sns\n",
    "\n",
    "from intent_model.preprocessing.preprocess import read_data"
   ]
  },
  {
   "cell_type": "code",
   "execution_count": null,
   "id": "97d42b6a-5ccf-460f-9e59-ed0d4047e722",
   "metadata": {},
   "outputs": [],
   "source": [
    "pd.set_option('display.max_columns', None)\n",
    "warnings.filterwarnings('ignore')"
   ]
  },
  {
   "cell_type": "code",
   "execution_count": null,
   "id": "69dab50e-ca3e-4910-a722-eb1b8c5049b0",
   "metadata": {},
   "outputs": [],
   "source": [
    "PATH = 'data/rh/dataset_v4'\n",
    "\n",
    "data = read_data(path=PATH, melt_dicts=True, min_index=None, max_index=None)"
   ]
  },
  {
   "cell_type": "code",
   "execution_count": null,
   "id": "895f23be-7b02-4829-8ada-97faeb1306e7",
   "metadata": {},
   "outputs": [],
   "source": [
    "features"
   ]
  },
  {
   "cell_type": "code",
   "execution_count": null,
   "id": "d8408f21-ade3-478c-a173-f722661f5ac2",
   "metadata": {},
   "outputs": [],
   "source": [
    "len(data)"
   ]
  },
  {
   "cell_type": "code",
   "execution_count": null,
   "id": "2fba724e-1121-4324-8369-af33f352311d",
   "metadata": {},
   "outputs": [],
   "source": [
    "data.info(show_counts=True)"
   ]
  },
  {
   "cell_type": "code",
   "execution_count": null,
   "id": "fb6a3ce2-aaa9-440e-939f-f9d410b48faf",
   "metadata": {},
   "outputs": [],
   "source": [
    "data.head()"
   ]
  },
  {
   "cell_type": "code",
   "execution_count": null,
   "id": "bf1b36c9-51dd-47d4-9717-3b81f8ffa0b3",
   "metadata": {},
   "outputs": [],
   "source": [
    "data.to_parquet('data/rh/dataset_v4/dataset_2.pq', index=False)"
   ]
  },
  {
   "cell_type": "code",
   "execution_count": null,
   "id": "f1d0db84-f8f8-4167-a7a9-cf2cef81de40",
   "metadata": {},
   "outputs": [],
   "source": [
    "sub = data[['ts']].assign(sessions=1).copy()\n",
    "sub['ts'] = sub['ts'].astype(str).apply(lambda x: x.split(' ')[0])\n",
    "sub = sub.groupby(by='ts').sum()"
   ]
  },
  {
   "cell_type": "code",
   "execution_count": null,
   "id": "a95e9978-75c8-47a5-bcaa-7b7ecd815a4b",
   "metadata": {},
   "outputs": [],
   "source": [
    "plt.figure(figsize=(15, 5))\n",
    "sns.lineplot(data=sub, x='ts', y='sessions')\n",
    "plt.xticks(rotation=90, fontsize=6)\n",
    "plt.show()"
   ]
  },
  {
   "cell_type": "code",
   "execution_count": null,
   "id": "360f3960-f976-4abb-98df-1dcfbdf7423a",
   "metadata": {},
   "outputs": [],
   "source": [
    "data = pd.read_parquet('data/dataset_v4/dataset.pq')"
   ]
  },
  {
   "cell_type": "code",
   "execution_count": null,
   "id": "c761bf7e-90a2-4af7-8718-5495cd4d4b36",
   "metadata": {},
   "outputs": [],
   "source": [
    "data[(data.customer_id == 54737848) & (data.rh == 1) & (data.is_freq == 1)]"
   ]
  },
  {
   "cell_type": "code",
   "execution_count": null,
   "id": "97dac2f3-9a28-465b-900e-6c72b9dc4887",
   "metadata": {},
   "outputs": [],
   "source": []
  }
 ],
 "metadata": {
  "kernelspec": {
   "display_name": "Python [conda env:yoda_tf] *",
   "language": "python",
   "name": "conda-env-yoda_tf-py"
  },
  "language_info": {
   "codemirror_mode": {
    "name": "ipython",
    "version": 3
   },
   "file_extension": ".py",
   "mimetype": "text/x-python",
   "name": "python",
   "nbconvert_exporter": "python",
   "pygments_lexer": "ipython3",
   "version": "3.10.9"
  }
 },
 "nbformat": 4,
 "nbformat_minor": 5
}
