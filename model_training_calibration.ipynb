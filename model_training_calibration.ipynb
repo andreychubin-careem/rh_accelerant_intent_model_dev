{
 "cells": [
  {
   "cell_type": "code",
   "execution_count": 1,
   "id": "0e03db19-61bd-4370-8279-c7790a570414",
   "metadata": {},
   "outputs": [],
   "source": [
    "import gc\n",
    "import warnings\n",
    "import numpy as np\n",
    "import pandas as pd\n",
    "\n",
    "import tensorflow as tf\n",
    "import tensorflow_decision_forests as tfdf\n",
    "import matplotlib.pyplot as plt\n",
    "import seaborn as sns\n",
    "\n",
    "from tqdm import tqdm\n",
    "\n",
    "from sklearn.model_selection import train_test_split\n",
    "from sklearn.calibration import CalibrationDisplay\n",
    "from sklearn.metrics import (\n",
    "    confusion_matrix,\n",
    "    ConfusionMatrixDisplay,\n",
    "    classification_report,\n",
    "    precision_recall_curve,\n",
    "    roc_auc_score,\n",
    "    PrecisionRecallDisplay,\n",
    "    log_loss,\n",
    "    RocCurveDisplay\n",
    ")\n",
    "\n",
    "from intent_model.preprocessing.targets import rh_vs_rest_target"
   ]
  },
  {
   "cell_type": "code",
   "execution_count": 2,
   "id": "9c5d1ad2-8446-48e6-97f2-fe68c4ac65ef",
   "metadata": {},
   "outputs": [],
   "source": [
    "warnings.filterwarnings('ignore')"
   ]
  },
  {
   "cell_type": "code",
   "execution_count": 3,
   "id": "c0fc5f4f-1a0c-4e38-9809-a8d51ef91349",
   "metadata": {},
   "outputs": [],
   "source": [
    "data = pd.read_parquet('data/rh/dataset_v4/dataset_2.pq')"
   ]
  },
  {
   "cell_type": "code",
   "execution_count": 4,
   "id": "2b299616-7bea-4c5b-b890-8ebcb85cc243",
   "metadata": {},
   "outputs": [
    {
     "data": {
      "text/plain": [
       "Index(['valid_date', 'ts', 'sessionuuid', 'customer_id', 'booking_id',\n",
       "       'latitude', 'longitude', 'is_trip_ended', 'service', 'quantile',\n",
       "       'weekday', 'minutes_sin', 'minutes_cos', 'is_weekend', 'rh',\n",
       "       'norm_week', 'norm_hour', 'norm_hour_denoised', 'min_dist_to_known_loc',\n",
       "       'norm_trips_curr_location', 'is_freq', 'dist_to_most_freq',\n",
       "       'dist_to_second_freq', 'is_home', 'is_work', 'has_saved', 'rh_frac'],\n",
       "      dtype='object')"
      ]
     },
     "execution_count": 4,
     "metadata": {},
     "output_type": "execute_result"
    }
   ],
   "source": [
    "data.columns"
   ]
  },
  {
   "cell_type": "code",
   "execution_count": 5,
   "id": "3c23fb1b-bd2e-4c01-956a-f77bf4115be0",
   "metadata": {},
   "outputs": [
    {
     "data": {
      "text/html": [
       "<div>\n",
       "<style scoped>\n",
       "    .dataframe tbody tr th:only-of-type {\n",
       "        vertical-align: middle;\n",
       "    }\n",
       "\n",
       "    .dataframe tbody tr th {\n",
       "        vertical-align: top;\n",
       "    }\n",
       "\n",
       "    .dataframe thead th {\n",
       "        text-align: right;\n",
       "    }\n",
       "</style>\n",
       "<table border=\"1\" class=\"dataframe\">\n",
       "  <thead>\n",
       "    <tr style=\"text-align: right;\">\n",
       "      <th></th>\n",
       "      <th>valid_date</th>\n",
       "      <th>ts</th>\n",
       "      <th>sessionuuid</th>\n",
       "      <th>customer_id</th>\n",
       "      <th>booking_id</th>\n",
       "      <th>latitude</th>\n",
       "      <th>longitude</th>\n",
       "      <th>is_trip_ended</th>\n",
       "      <th>service</th>\n",
       "      <th>quantile</th>\n",
       "      <th>...</th>\n",
       "      <th>norm_hour_denoised</th>\n",
       "      <th>min_dist_to_known_loc</th>\n",
       "      <th>norm_trips_curr_location</th>\n",
       "      <th>is_freq</th>\n",
       "      <th>dist_to_most_freq</th>\n",
       "      <th>dist_to_second_freq</th>\n",
       "      <th>is_home</th>\n",
       "      <th>is_work</th>\n",
       "      <th>has_saved</th>\n",
       "      <th>rh_frac</th>\n",
       "    </tr>\n",
       "  </thead>\n",
       "  <tbody>\n",
       "    <tr>\n",
       "      <th>0</th>\n",
       "      <td>2023-06-27</td>\n",
       "      <td>2023-06-27 04:00:00</td>\n",
       "      <td>FFE53ECB-C04C-442F-9909-BE79185ECFD4</td>\n",
       "      <td>55350252</td>\n",
       "      <td>1775612463</td>\n",
       "      <td>25.23440</td>\n",
       "      <td>55.26050</td>\n",
       "      <td>1</td>\n",
       "      <td>rh</td>\n",
       "      <td>0.97</td>\n",
       "      <td>...</td>\n",
       "      <td>0.068680</td>\n",
       "      <td>0.067139</td>\n",
       "      <td>0.973248</td>\n",
       "      <td>0</td>\n",
       "      <td>0.067139</td>\n",
       "      <td>4.598149</td>\n",
       "      <td>0</td>\n",
       "      <td>0</td>\n",
       "      <td>1</td>\n",
       "      <td>0.731707</td>\n",
       "    </tr>\n",
       "    <tr>\n",
       "      <th>1</th>\n",
       "      <td>2023-06-27</td>\n",
       "      <td>2023-06-27 04:00:00</td>\n",
       "      <td>3F378D1F-621C-482C-8CB0-2FDF87644D4A</td>\n",
       "      <td>18332590</td>\n",
       "      <td>0</td>\n",
       "      <td>25.04376</td>\n",
       "      <td>55.25076</td>\n",
       "      <td>0</td>\n",
       "      <td>rh</td>\n",
       "      <td>0.98</td>\n",
       "      <td>...</td>\n",
       "      <td>0.015284</td>\n",
       "      <td>6.566052</td>\n",
       "      <td>0.000000</td>\n",
       "      <td>0</td>\n",
       "      <td>7.396961</td>\n",
       "      <td>11.299689</td>\n",
       "      <td>0</td>\n",
       "      <td>0</td>\n",
       "      <td>1</td>\n",
       "      <td>1.000000</td>\n",
       "    </tr>\n",
       "    <tr>\n",
       "      <th>2</th>\n",
       "      <td>2023-06-27</td>\n",
       "      <td>2023-06-27 04:00:00</td>\n",
       "      <td>FF06FA4E-737F-4803-ACAF-9EB15CCACBE5</td>\n",
       "      <td>46610104</td>\n",
       "      <td>0</td>\n",
       "      <td>25.01181</td>\n",
       "      <td>55.29931</td>\n",
       "      <td>0</td>\n",
       "      <td>rh</td>\n",
       "      <td>0.93</td>\n",
       "      <td>...</td>\n",
       "      <td>0.000000</td>\n",
       "      <td>0.037711</td>\n",
       "      <td>0.951034</td>\n",
       "      <td>0</td>\n",
       "      <td>0.037711</td>\n",
       "      <td>2.746468</td>\n",
       "      <td>1</td>\n",
       "      <td>0</td>\n",
       "      <td>1</td>\n",
       "      <td>0.970588</td>\n",
       "    </tr>\n",
       "    <tr>\n",
       "      <th>3</th>\n",
       "      <td>2023-06-27</td>\n",
       "      <td>2023-06-27 04:00:00</td>\n",
       "      <td>C111D52E-D41C-4523-B4A9-F435C27630CA</td>\n",
       "      <td>31738098</td>\n",
       "      <td>0</td>\n",
       "      <td>25.04223</td>\n",
       "      <td>55.25033</td>\n",
       "      <td>0</td>\n",
       "      <td>rh</td>\n",
       "      <td>0.97</td>\n",
       "      <td>...</td>\n",
       "      <td>0.027369</td>\n",
       "      <td>0.041944</td>\n",
       "      <td>0.120313</td>\n",
       "      <td>0</td>\n",
       "      <td>4.114068</td>\n",
       "      <td>13.323311</td>\n",
       "      <td>0</td>\n",
       "      <td>0</td>\n",
       "      <td>1</td>\n",
       "      <td>0.983607</td>\n",
       "    </tr>\n",
       "    <tr>\n",
       "      <th>4</th>\n",
       "      <td>2023-06-27</td>\n",
       "      <td>2023-06-27 04:00:01</td>\n",
       "      <td>977C1A64-F339-4350-A384-73C78A2A3D64</td>\n",
       "      <td>52646559</td>\n",
       "      <td>0</td>\n",
       "      <td>25.20758</td>\n",
       "      <td>55.26808</td>\n",
       "      <td>0</td>\n",
       "      <td>rh</td>\n",
       "      <td>0.86</td>\n",
       "      <td>...</td>\n",
       "      <td>0.000000</td>\n",
       "      <td>0.047390</td>\n",
       "      <td>0.816968</td>\n",
       "      <td>0</td>\n",
       "      <td>0.047390</td>\n",
       "      <td>9.606694</td>\n",
       "      <td>0</td>\n",
       "      <td>0</td>\n",
       "      <td>0</td>\n",
       "      <td>1.000000</td>\n",
       "    </tr>\n",
       "  </tbody>\n",
       "</table>\n",
       "<p>5 rows × 27 columns</p>\n",
       "</div>"
      ],
      "text/plain": [
       "   valid_date                  ts                           sessionuuid  \\\n",
       "0  2023-06-27 2023-06-27 04:00:00  FFE53ECB-C04C-442F-9909-BE79185ECFD4   \n",
       "1  2023-06-27 2023-06-27 04:00:00  3F378D1F-621C-482C-8CB0-2FDF87644D4A   \n",
       "2  2023-06-27 2023-06-27 04:00:00  FF06FA4E-737F-4803-ACAF-9EB15CCACBE5   \n",
       "3  2023-06-27 2023-06-27 04:00:00  C111D52E-D41C-4523-B4A9-F435C27630CA   \n",
       "4  2023-06-27 2023-06-27 04:00:01  977C1A64-F339-4350-A384-73C78A2A3D64   \n",
       "\n",
       "   customer_id  booking_id  latitude  longitude  is_trip_ended service  \\\n",
       "0     55350252  1775612463  25.23440   55.26050              1      rh   \n",
       "1     18332590           0  25.04376   55.25076              0      rh   \n",
       "2     46610104           0  25.01181   55.29931              0      rh   \n",
       "3     31738098           0  25.04223   55.25033              0      rh   \n",
       "4     52646559           0  25.20758   55.26808              0      rh   \n",
       "\n",
       "   quantile  ... norm_hour_denoised  min_dist_to_known_loc  \\\n",
       "0      0.97  ...           0.068680               0.067139   \n",
       "1      0.98  ...           0.015284               6.566052   \n",
       "2      0.93  ...           0.000000               0.037711   \n",
       "3      0.97  ...           0.027369               0.041944   \n",
       "4      0.86  ...           0.000000               0.047390   \n",
       "\n",
       "   norm_trips_curr_location  is_freq  dist_to_most_freq  dist_to_second_freq  \\\n",
       "0                  0.973248        0           0.067139             4.598149   \n",
       "1                  0.000000        0           7.396961            11.299689   \n",
       "2                  0.951034        0           0.037711             2.746468   \n",
       "3                  0.120313        0           4.114068            13.323311   \n",
       "4                  0.816968        0           0.047390             9.606694   \n",
       "\n",
       "   is_home  is_work  has_saved   rh_frac  \n",
       "0        0        0          1  0.731707  \n",
       "1        0        0          1  1.000000  \n",
       "2        1        0          1  0.970588  \n",
       "3        0        0          1  0.983607  \n",
       "4        0        0          0  1.000000  \n",
       "\n",
       "[5 rows x 27 columns]"
      ]
     },
     "execution_count": 5,
     "metadata": {},
     "output_type": "execute_result"
    }
   ],
   "source": [
    "data.head()"
   ]
  },
  {
   "cell_type": "code",
   "execution_count": 6,
   "id": "a18297c5-a778-4dbb-b637-4a7ce317a0c8",
   "metadata": {},
   "outputs": [
    {
     "data": {
      "text/plain": [
       "valid_date                          object\n",
       "ts                          datetime64[ns]\n",
       "sessionuuid                         object\n",
       "customer_id                          int64\n",
       "booking_id                           int64\n",
       "latitude                           float64\n",
       "longitude                          float64\n",
       "is_trip_ended                        int64\n",
       "service                             object\n",
       "quantile                           float64\n",
       "weekday                             object\n",
       "minutes_sin                        float64\n",
       "minutes_cos                        float64\n",
       "is_weekend                           int64\n",
       "rh                                   int64\n",
       "norm_week                          float64\n",
       "norm_hour                          float64\n",
       "norm_hour_denoised                 float64\n",
       "min_dist_to_known_loc              float64\n",
       "norm_trips_curr_location           float64\n",
       "is_freq                              int64\n",
       "dist_to_most_freq                  float64\n",
       "dist_to_second_freq                float64\n",
       "is_home                              int64\n",
       "is_work                              int64\n",
       "has_saved                            int64\n",
       "rh_frac                            float64\n",
       "dtype: object"
      ]
     },
     "execution_count": 6,
     "metadata": {},
     "output_type": "execute_result"
    }
   ],
   "source": [
    "data.dtypes"
   ]
  },
  {
   "cell_type": "code",
   "execution_count": 7,
   "id": "7fa0d47b-56d6-4a07-881e-4f6ab8378e2a",
   "metadata": {},
   "outputs": [
    {
     "data": {
      "text/plain": [
       "array(['2', '3', '4', '5', '6', '7', '1'], dtype=object)"
      ]
     },
     "execution_count": 7,
     "metadata": {},
     "output_type": "execute_result"
    }
   ],
   "source": [
    "data.weekday.unique()"
   ]
  },
  {
   "cell_type": "code",
   "execution_count": 8,
   "id": "1b65f05e-22ff-48a3-a48e-5fe0245f116b",
   "metadata": {},
   "outputs": [
    {
     "data": {
      "text/html": [
       "<div>\n",
       "<style scoped>\n",
       "    .dataframe tbody tr th:only-of-type {\n",
       "        vertical-align: middle;\n",
       "    }\n",
       "\n",
       "    .dataframe tbody tr th {\n",
       "        vertical-align: top;\n",
       "    }\n",
       "\n",
       "    .dataframe thead th {\n",
       "        text-align: right;\n",
       "    }\n",
       "</style>\n",
       "<table border=\"1\" class=\"dataframe\">\n",
       "  <thead>\n",
       "    <tr style=\"text-align: right;\">\n",
       "      <th></th>\n",
       "      <th>ts</th>\n",
       "      <th>weekday</th>\n",
       "    </tr>\n",
       "  </thead>\n",
       "  <tbody>\n",
       "    <tr>\n",
       "      <th>0</th>\n",
       "      <td>2023-06-27 04:00:00</td>\n",
       "      <td>2</td>\n",
       "    </tr>\n",
       "    <tr>\n",
       "      <th>1</th>\n",
       "      <td>2023-06-27 04:00:00</td>\n",
       "      <td>2</td>\n",
       "    </tr>\n",
       "    <tr>\n",
       "      <th>2</th>\n",
       "      <td>2023-06-27 04:00:00</td>\n",
       "      <td>2</td>\n",
       "    </tr>\n",
       "    <tr>\n",
       "      <th>3</th>\n",
       "      <td>2023-06-27 04:00:00</td>\n",
       "      <td>2</td>\n",
       "    </tr>\n",
       "    <tr>\n",
       "      <th>4</th>\n",
       "      <td>2023-06-27 04:00:01</td>\n",
       "      <td>2</td>\n",
       "    </tr>\n",
       "    <tr>\n",
       "      <th>...</th>\n",
       "      <td>...</td>\n",
       "      <td>...</td>\n",
       "    </tr>\n",
       "    <tr>\n",
       "      <th>10525092</th>\n",
       "      <td>2023-09-25 02:58:33</td>\n",
       "      <td>1</td>\n",
       "    </tr>\n",
       "    <tr>\n",
       "      <th>10525093</th>\n",
       "      <td>2023-09-25 02:58:33</td>\n",
       "      <td>1</td>\n",
       "    </tr>\n",
       "    <tr>\n",
       "      <th>10525094</th>\n",
       "      <td>2023-09-25 02:58:34</td>\n",
       "      <td>1</td>\n",
       "    </tr>\n",
       "    <tr>\n",
       "      <th>10525095</th>\n",
       "      <td>2023-09-25 02:59:23</td>\n",
       "      <td>1</td>\n",
       "    </tr>\n",
       "    <tr>\n",
       "      <th>10525096</th>\n",
       "      <td>2023-09-25 02:59:43</td>\n",
       "      <td>1</td>\n",
       "    </tr>\n",
       "  </tbody>\n",
       "</table>\n",
       "<p>10525097 rows × 2 columns</p>\n",
       "</div>"
      ],
      "text/plain": [
       "                          ts weekday\n",
       "0        2023-06-27 04:00:00       2\n",
       "1        2023-06-27 04:00:00       2\n",
       "2        2023-06-27 04:00:00       2\n",
       "3        2023-06-27 04:00:00       2\n",
       "4        2023-06-27 04:00:01       2\n",
       "...                      ...     ...\n",
       "10525092 2023-09-25 02:58:33       1\n",
       "10525093 2023-09-25 02:58:33       1\n",
       "10525094 2023-09-25 02:58:34       1\n",
       "10525095 2023-09-25 02:59:23       1\n",
       "10525096 2023-09-25 02:59:43       1\n",
       "\n",
       "[10525097 rows x 2 columns]"
      ]
     },
     "execution_count": 8,
     "metadata": {},
     "output_type": "execute_result"
    }
   ],
   "source": [
    "data[['ts', 'weekday']]"
   ]
  },
  {
   "cell_type": "code",
   "execution_count": 9,
   "id": "dad496ff-a5eb-4bb6-acd1-a094ff63ac92",
   "metadata": {},
   "outputs": [],
   "source": [
    "data = rh_vs_rest_target(data)"
   ]
  },
  {
   "cell_type": "code",
   "execution_count": 10,
   "id": "0099e78e-56cd-4749-a8ee-37a7c550ec1f",
   "metadata": {},
   "outputs": [
    {
     "data": {
      "text/plain": [
       "0    4424007\n",
       "1    3228468\n",
       "Name: is_freq, dtype: int64"
      ]
     },
     "execution_count": 10,
     "metadata": {},
     "output_type": "execute_result"
    }
   ],
   "source": [
    "data[data.rh == 1].is_freq.value_counts()"
   ]
  },
  {
   "cell_type": "code",
   "execution_count": 11,
   "id": "7dd1e212-4651-430d-b751-fb618604db73",
   "metadata": {},
   "outputs": [],
   "source": [
    "TO_DROP = [\n",
    "    'valid_date', 'ts', 'sessionuuid', 'customer_id', 'booking_id',\n",
    "    'is_trip_ended', 'rh', 'is_freq', 'service', 'is_work', 'has_saved', 'weekday', # 'target'\n",
    "    'norm_hour_denoised',\n",
    "    # 'norm_hour',\n",
    "    # 'quantile',\n",
    "    # 'num_trips', 'trx_amt'\n",
    "]"
   ]
  },
  {
   "cell_type": "code",
   "execution_count": 12,
   "id": "c78d923a-a840-4e0b-a5cd-630357ba0163",
   "metadata": {},
   "outputs": [],
   "source": [
    "CAT = ['is_home', 'is_weekend']\n",
    "\n",
    "for col in CAT:\n",
    "    data[col] = data[col].astype(str)"
   ]
  },
  {
   "cell_type": "markdown",
   "id": "f8aaff26-64e7-4c83-93db-bf0b5acee7b8",
   "metadata": {
    "tags": []
   },
   "source": [
    "## Time-based Split"
   ]
  },
  {
   "cell_type": "code",
   "execution_count": 13,
   "id": "4315ad5f-efe7-4a06-b729-6a38596ef723",
   "metadata": {},
   "outputs": [],
   "source": [
    "dates = np.sort(data.valid_date.unique())\n",
    "\n",
    "train = data[data.valid_date.isin(dates[:60])].copy()\n",
    "val = data[data.valid_date.isin(dates[60:75])].copy()\n",
    "test = data[data.valid_date.isin(dates[75:])].copy()"
   ]
  },
  {
   "cell_type": "code",
   "execution_count": 14,
   "id": "bfdf8688-6f3c-41c5-bfbd-d23017974b39",
   "metadata": {},
   "outputs": [],
   "source": [
    "train['sample_weight'] = 1.0\n",
    "train.loc[(train.rh == 1) & (train.is_freq == 0), 'sample_weight'] = 0.75\n",
    "train.loc[(train.rh == 1) & (train.is_trip_ended == 0), 'sample_weight'] = 0.5"
   ]
  },
  {
   "cell_type": "code",
   "execution_count": 15,
   "id": "5af9cc14-cd1f-493d-b3f4-abbf5da40286",
   "metadata": {},
   "outputs": [
    {
     "data": {
      "text/plain": [
       "1    4745949\n",
       "0    1804466\n",
       "Name: target, dtype: int64"
      ]
     },
     "execution_count": 15,
     "metadata": {},
     "output_type": "execute_result"
    }
   ],
   "source": [
    "train.target.value_counts()"
   ]
  },
  {
   "cell_type": "code",
   "execution_count": 16,
   "id": "3b3c5d32-897f-4195-bcab-7043e1597609",
   "metadata": {},
   "outputs": [],
   "source": [
    "val[\"sample_weight\"] = 1.0"
   ]
  },
  {
   "cell_type": "code",
   "execution_count": 17,
   "id": "dc0ddb75-8b26-4c60-99e3-249ecbe457c7",
   "metadata": {},
   "outputs": [
    {
     "name": "stdout",
     "output_type": "stream",
     "text": [
      "Metal device set to: Apple M1 Pro\n"
     ]
    },
    {
     "name": "stderr",
     "output_type": "stream",
     "text": [
      "2023-10-30 21:02:51.072279: I tensorflow/core/common_runtime/pluggable_device/pluggable_device_factory.cc:303] Could not identify NUMA node of platform GPU ID 0, defaulting to 0. Your kernel may not have been built with NUMA support.\n",
      "2023-10-30 21:02:51.072300: I tensorflow/core/common_runtime/pluggable_device/pluggable_device_factory.cc:269] Created TensorFlow device (/job:localhost/replica:0/task:0/device:GPU:0 with 0 MB memory) -> physical PluggableDevice (device: 0, name: METAL, pci bus id: <undefined>)\n"
     ]
    }
   ],
   "source": [
    "train_ds = tfdf.keras.pd_dataframe_to_tf_dataset(\n",
    "    train.drop(TO_DROP, axis=1),\n",
    "    label=\"target\",\n",
    "    weight=\"sample_weight\",\n",
    "    batch_size=4096\n",
    ")\n",
    "\n",
    "val_ds = tfdf.keras.pd_dataframe_to_tf_dataset(\n",
    "    val.drop(TO_DROP, axis=1),\n",
    "    label=\"target\",\n",
    "    weight=\"sample_weight\",\n",
    "    batch_size=4096\n",
    ")"
   ]
  },
  {
   "cell_type": "code",
   "execution_count": 18,
   "id": "1681112e-95b0-4760-9138-7ab7f895d5f2",
   "metadata": {},
   "outputs": [
    {
     "data": {
      "text/plain": [
       "Index(['latitude', 'longitude', 'quantile', 'minutes_sin', 'minutes_cos',\n",
       "       'is_weekend', 'norm_week', 'norm_hour', 'min_dist_to_known_loc',\n",
       "       'norm_trips_curr_location', 'dist_to_most_freq', 'dist_to_second_freq',\n",
       "       'is_home', 'rh_frac', 'target', 'sample_weight'],\n",
       "      dtype='object')"
      ]
     },
     "execution_count": 18,
     "metadata": {},
     "output_type": "execute_result"
    }
   ],
   "source": [
    "train.drop(TO_DROP, axis=1).columns"
   ]
  },
  {
   "cell_type": "code",
   "execution_count": 19,
   "id": "726fba32-14e9-4e32-8c3a-a57e889524f0",
   "metadata": {},
   "outputs": [
    {
     "data": {
      "text/plain": [
       "<_PrefetchDataset element_spec=({'latitude': TensorSpec(shape=(None,), dtype=tf.float64, name=None), 'longitude': TensorSpec(shape=(None,), dtype=tf.float64, name=None), 'quantile': TensorSpec(shape=(None,), dtype=tf.float64, name=None), 'minutes_sin': TensorSpec(shape=(None,), dtype=tf.float64, name=None), 'minutes_cos': TensorSpec(shape=(None,), dtype=tf.float64, name=None), 'is_weekend': TensorSpec(shape=(None,), dtype=tf.string, name=None), 'norm_week': TensorSpec(shape=(None,), dtype=tf.float64, name=None), 'norm_hour': TensorSpec(shape=(None,), dtype=tf.float64, name=None), 'min_dist_to_known_loc': TensorSpec(shape=(None,), dtype=tf.float64, name=None), 'norm_trips_curr_location': TensorSpec(shape=(None,), dtype=tf.float64, name=None), 'dist_to_most_freq': TensorSpec(shape=(None,), dtype=tf.float64, name=None), 'dist_to_second_freq': TensorSpec(shape=(None,), dtype=tf.float64, name=None), 'is_home': TensorSpec(shape=(None,), dtype=tf.string, name=None), 'rh_frac': TensorSpec(shape=(None,), dtype=tf.float64, name=None)}, TensorSpec(shape=(None,), dtype=tf.int64, name=None), TensorSpec(shape=(None,), dtype=tf.float64, name=None))>"
      ]
     },
     "execution_count": 19,
     "metadata": {},
     "output_type": "execute_result"
    }
   ],
   "source": [
    "train_ds"
   ]
  },
  {
   "cell_type": "markdown",
   "id": "70189d4f-858e-41c7-8e26-273fcf71473c",
   "metadata": {
    "tags": []
   },
   "source": [
    "### Small EDA"
   ]
  },
  {
   "cell_type": "code",
   "execution_count": 20,
   "id": "86d92bc1-e244-457e-9d90-2167d1184016",
   "metadata": {},
   "outputs": [],
   "source": [
    "from statsmodels.stats.outliers_influence import variance_inflation_factor as vif"
   ]
  },
  {
   "cell_type": "code",
   "execution_count": 21,
   "id": "5d06f6e8-a9a9-4bce-8019-3a31e1a2b1bf",
   "metadata": {},
   "outputs": [
    {
     "data": {
      "text/html": [
       "<div>\n",
       "<style scoped>\n",
       "    .dataframe tbody tr th:only-of-type {\n",
       "        vertical-align: middle;\n",
       "    }\n",
       "\n",
       "    .dataframe tbody tr th {\n",
       "        vertical-align: top;\n",
       "    }\n",
       "\n",
       "    .dataframe thead th {\n",
       "        text-align: right;\n",
       "    }\n",
       "</style>\n",
       "<table border=\"1\" class=\"dataframe\">\n",
       "  <thead>\n",
       "    <tr style=\"text-align: right;\">\n",
       "      <th></th>\n",
       "      <th>feature</th>\n",
       "      <th>VIF</th>\n",
       "    </tr>\n",
       "  </thead>\n",
       "  <tbody>\n",
       "    <tr>\n",
       "      <th>0</th>\n",
       "      <td>latitude</td>\n",
       "      <td>117.061375</td>\n",
       "    </tr>\n",
       "    <tr>\n",
       "      <th>1</th>\n",
       "      <td>longitude</td>\n",
       "      <td>58.340624</td>\n",
       "    </tr>\n",
       "    <tr>\n",
       "      <th>2</th>\n",
       "      <td>quantile</td>\n",
       "      <td>286.032500</td>\n",
       "    </tr>\n",
       "    <tr>\n",
       "      <th>3</th>\n",
       "      <td>minutes_sin</td>\n",
       "      <td>1.341943</td>\n",
       "    </tr>\n",
       "    <tr>\n",
       "      <th>4</th>\n",
       "      <td>minutes_cos</td>\n",
       "      <td>1.180259</td>\n",
       "    </tr>\n",
       "    <tr>\n",
       "      <th>5</th>\n",
       "      <td>norm_week</td>\n",
       "      <td>3.993144</td>\n",
       "    </tr>\n",
       "    <tr>\n",
       "      <th>6</th>\n",
       "      <td>norm_hour</td>\n",
       "      <td>2.024605</td>\n",
       "    </tr>\n",
       "    <tr>\n",
       "      <th>7</th>\n",
       "      <td>min_dist_to_known_loc</td>\n",
       "      <td>1.350200</td>\n",
       "    </tr>\n",
       "    <tr>\n",
       "      <th>8</th>\n",
       "      <td>norm_trips_curr_location</td>\n",
       "      <td>3.670982</td>\n",
       "    </tr>\n",
       "    <tr>\n",
       "      <th>9</th>\n",
       "      <td>dist_to_most_freq</td>\n",
       "      <td>1.413320</td>\n",
       "    </tr>\n",
       "    <tr>\n",
       "      <th>10</th>\n",
       "      <td>dist_to_second_freq</td>\n",
       "      <td>1.414104</td>\n",
       "    </tr>\n",
       "    <tr>\n",
       "      <th>11</th>\n",
       "      <td>rh_frac</td>\n",
       "      <td>14.591462</td>\n",
       "    </tr>\n",
       "  </tbody>\n",
       "</table>\n",
       "</div>"
      ],
      "text/plain": [
       "                     feature         VIF\n",
       "0                   latitude  117.061375\n",
       "1                  longitude   58.340624\n",
       "2                   quantile  286.032500\n",
       "3                minutes_sin    1.341943\n",
       "4                minutes_cos    1.180259\n",
       "5                  norm_week    3.993144\n",
       "6                  norm_hour    2.024605\n",
       "7      min_dist_to_known_loc    1.350200\n",
       "8   norm_trips_curr_location    3.670982\n",
       "9          dist_to_most_freq    1.413320\n",
       "10       dist_to_second_freq    1.414104\n",
       "11                   rh_frac   14.591462"
      ]
     },
     "execution_count": 21,
     "metadata": {},
     "output_type": "execute_result"
    }
   ],
   "source": [
    "df = train.drop(TO_DROP + CAT + ['target', 'sample_weight'], axis=1).sample(n=20000)\n",
    "vif_df = pd.DataFrame()\n",
    "vif_df['feature'] = df.columns\n",
    "vif_df['VIF'] = [vif(df.values, i) for i in range(len(df.columns))]\n",
    "vif_df"
   ]
  },
  {
   "cell_type": "markdown",
   "id": "6647ed7f-b3d1-4905-9777-f256cb1d22e6",
   "metadata": {},
   "source": [
    "### Model"
   ]
  },
  {
   "cell_type": "code",
   "execution_count": 22,
   "id": "c0e207a6-65ae-42c4-b2cb-90e41d9072e8",
   "metadata": {},
   "outputs": [
    {
     "name": "stdout",
     "output_type": "stream",
     "text": [
      "Use /var/folders/gz/t4xrdmr90n7gd4ht88yqz2mc0000gn/T/tmpgisff_iw as temporary training directory\n"
     ]
    },
    {
     "name": "stderr",
     "output_type": "stream",
     "text": [
      "[WARNING 23-10-30 21:02:53.0780 +04 gradient_boosted_trees.cc:1818] \"goss_alpha\" set but \"sampling_method\" not equal to \"GOSS\".\n",
      "[WARNING 23-10-30 21:02:53.0824 +04 gradient_boosted_trees.cc:1829] \"goss_beta\" set but \"sampling_method\" not equal to \"GOSS\".\n",
      "[WARNING 23-10-30 21:02:53.0825 +04 gradient_boosted_trees.cc:1843] \"selective_gradient_boosting_ratio\" set but \"sampling_method\" not equal to \"SELGB\".\n"
     ]
    }
   ],
   "source": [
    "model = tfdf.keras.GradientBoostedTreesModel(\n",
    "    task=tfdf.builder.Task.CLASSIFICATION,\n",
    "    num_trees=200,\n",
    "    max_depth=None,\n",
    "    max_num_nodes=64,  # 32\n",
    "    growing_strategy='BEST_FIRST_GLOBAL',\n",
    "    categorical_algorithm='CART',\n",
    "    loss = 'BINARY_FOCAL_LOSS',\n",
    "    subsample=0.9,\n",
    "    validation_ratio=0.1,\n",
    "    random_seed=42\n",
    ")"
   ]
  },
  {
   "cell_type": "code",
   "execution_count": 23,
   "id": "2bbe30c1-c8d1-4a29-8232-2f0c16a87726",
   "metadata": {},
   "outputs": [
    {
     "name": "stderr",
     "output_type": "stream",
     "text": [
      "2023-10-30 21:02:53.408148: I tensorflow/core/grappler/optimizers/custom_graph_optimizer_registry.cc:114] Plugin optimizer for device_type GPU is enabled.\n",
      "[INFO 23-10-30 21:02:53.4103 +04 kernel.cc:1243] Loading model from path models/tfdf_focal_latest/assets/ with prefix d398c437e6614c8c\n",
      "[INFO 23-10-30 21:02:53.4421 +04 abstract_model.cc:1312] Engine \"GradientBoostedTreesQuickScorerExtended\" built\n",
      "[INFO 23-10-30 21:02:53.4421 +04 kernel.cc:1075] Use fast generic engine\n",
      "2023-10-30 21:02:53.448258: I tensorflow/core/grappler/optimizers/custom_graph_optimizer_registry.cc:114] Plugin optimizer for device_type GPU is enabled.\n",
      "2023-10-30 21:02:53.454566: I tensorflow/core/grappler/optimizers/custom_graph_optimizer_registry.cc:114] Plugin optimizer for device_type GPU is enabled.\n"
     ]
    }
   ],
   "source": [
    "model = tf.keras.models.load_model('models/tfdf_focal_latest')"
   ]
  },
  {
   "cell_type": "raw",
   "id": "d3f79dfc-d2d4-4f0d-a082-ee5f66bfac8d",
   "metadata": {
    "tags": []
   },
   "source": [
    "model.fit(train_ds, validation_data=val_ds, verbose=2)"
   ]
  },
  {
   "cell_type": "raw",
   "id": "4ae7dfa0-6894-4561-8f05-67b52bfe5a29",
   "metadata": {},
   "source": [
    "model.save('models/tfdf_focal_latest')"
   ]
  },
  {
   "cell_type": "code",
   "execution_count": 24,
   "id": "fe1b32dc-4a20-4b9a-80a6-989fa5a925ec",
   "metadata": {},
   "outputs": [],
   "source": [
    "test_ds = tfdf.keras.pd_dataframe_to_tf_dataset(test.drop(TO_DROP + ['target'], axis=1), batch_size=4096)"
   ]
  },
  {
   "cell_type": "code",
   "execution_count": 25,
   "id": "b931e6ad-7056-4aa2-9778-b5566ce39838",
   "metadata": {},
   "outputs": [
    {
     "name": "stdout",
     "output_type": "stream",
     "text": [
      "  8/494 [..............................] - ETA: 8s"
     ]
    },
    {
     "name": "stderr",
     "output_type": "stream",
     "text": [
      "2023-10-30 21:02:54.053504: I tensorflow/core/grappler/optimizers/custom_graph_optimizer_registry.cc:114] Plugin optimizer for device_type GPU is enabled.\n"
     ]
    },
    {
     "name": "stdout",
     "output_type": "stream",
     "text": [
      "494/494 [==============================] - 9s 18ms/step\n"
     ]
    }
   ],
   "source": [
    "ppreds = model.predict(test_ds).flatten()\n",
    "preds = np.where(ppreds > 0.5, 1, 0)"
   ]
  },
  {
   "cell_type": "markdown",
   "id": "86245e9a-e31a-48f1-945b-148d807a4fbd",
   "metadata": {},
   "source": [
    "### Evaluation"
   ]
  },
  {
   "cell_type": "code",
   "execution_count": 26,
   "id": "526f21ba",
   "metadata": {},
   "outputs": [],
   "source": [
    "from IPython.core.display import display as idisplay, HTML\n",
    "from intent_model.functions import get_optimal_threshold"
   ]
  },
  {
   "cell_type": "code",
   "execution_count": 27,
   "id": "d6b78d54-1a00-4e00-a9db-8633717f21a3",
   "metadata": {},
   "outputs": [],
   "source": [
    "cb_test_y = test.target.values"
   ]
  },
  {
   "cell_type": "code",
   "execution_count": 28,
   "id": "d43ff93b-19ce-426b-a566-034b6946ffac",
   "metadata": {},
   "outputs": [
    {
     "data": {
      "text/plain": [
       "0.4775253512640443"
      ]
     },
     "execution_count": 28,
     "metadata": {},
     "output_type": "execute_result"
    }
   ],
   "source": [
    "log_loss(cb_test_y, ppreds)"
   ]
  },
  {
   "cell_type": "code",
   "execution_count": 29,
   "id": "0f8b2cb3-02f2-4f01-85fa-32a4bf81486f",
   "metadata": {},
   "outputs": [
    {
     "data": {
      "text/plain": [
       "0.8738268810089538"
      ]
     },
     "execution_count": 29,
     "metadata": {},
     "output_type": "execute_result"
    }
   ],
   "source": [
    "roc_auc_score(cb_test_y, ppreds)"
   ]
  },
  {
   "cell_type": "code",
   "execution_count": 30,
   "id": "ef89c24c-7f17-4ba9-a78d-6f2546190eaa",
   "metadata": {},
   "outputs": [
    {
     "name": "stdout",
     "output_type": "stream",
     "text": [
      "              precision    recall  f1-score   support\n",
      "\n",
      "           0       0.68      0.65      0.67    536095\n",
      "           1       0.88      0.89      0.88   1484287\n",
      "\n",
      "    accuracy                           0.83   2020382\n",
      "   macro avg       0.78      0.77      0.77   2020382\n",
      "weighted avg       0.82      0.83      0.83   2020382\n",
      "\n"
     ]
    }
   ],
   "source": [
    "print(classification_report(cb_test_y, preds))"
   ]
  },
  {
   "cell_type": "code",
   "execution_count": 31,
   "id": "d18f2363-7c15-44a2-8dff-7ff69f3dd2c9",
   "metadata": {},
   "outputs": [
    {
     "name": "stderr",
     "output_type": "stream",
     "text": [
      "2023-10-30 21:03:10.381920: I tensorflow/core/grappler/optimizers/custom_graph_optimizer_registry.cc:114] Plugin optimizer for device_type GPU is enabled.\n"
     ]
    },
    {
     "data": {
      "text/html": [
       "\n",
       "<script src=\"https://d3js.org/d3.v6.min.js\"></script>\n",
       "<div id=\"tree_plot_b20d19c6b9124905972b8ba1cf3c5b56\"></div>\n",
       "<script>\n",
       "/*\n",
       " * Copyright 2021 Google LLC.\n",
       " * Licensed under the Apache License, Version 2.0 (the \"License\");\n",
       " * you may not use this file except in compliance with the License.\n",
       " * You may obtain a copy of the License at\n",
       " *\n",
       " *     https://www.apache.org/licenses/LICENSE-2.0\n",
       " *\n",
       " * Unless required by applicable law or agreed to in writing, software\n",
       " * distributed under the License is distributed on an \"AS IS\" BASIS,\n",
       " * WITHOUT WARRANTIES OR CONDITIONS OF ANY KIND, either express or implied.\n",
       " * See the License for the specific language governing permissions and\n",
       " * limitations under the License.\n",
       " */\n",
       "\n",
       "/**\n",
       " *  Plotting of decision trees generated by TF-DF.\n",
       " *\n",
       " *  A tree is a recursive structure of node objects.\n",
       " *  A node contains one or more of the following components:\n",
       " *\n",
       " *    - A value: Representing the output of the node. If the node is not a leaf,\n",
       " *      the value is only present for analysis i.e. it is not used for\n",
       " *      predictions.\n",
       " *\n",
       " *    - A condition : For non-leaf nodes, the condition (also known as split)\n",
       " *      defines a binary test to branch to the positive or negative child.\n",
       " *\n",
       " *    - An explanation: Generally a plot showing the relation between the label\n",
       " *      and the condition to give insights about the effect of the condition.\n",
       " *\n",
       " *    - Two children : For non-leaf nodes, the children nodes. The first\n",
       " *      children (i.e. \"node.children[0]\") is the negative children (drawn in\n",
       " *      red). The second children is the positive one (drawn in green).\n",
       " *\n",
       " */\n",
       "\n",
       "/**\n",
       " * Plots a single decision tree into a DOM element.\n",
       " * @param {!options} options Dictionary of configurations.\n",
       " * @param {!tree} raw_tree Recursive tree structure.\n",
       " * @param {string} canvas_id Id of the output dom element.\n",
       " */\n",
       "function display_tree(options, raw_tree, canvas_id) {\n",
       "  console.log(options);\n",
       "\n",
       "  // Determine the node placement.\n",
       "  const tree_struct = d3.tree().nodeSize(\n",
       "      [options.node_y_offset, options.node_x_offset])(d3.hierarchy(raw_tree));\n",
       "\n",
       "  // Boundaries of the node placement.\n",
       "  let x_min = Infinity;\n",
       "  let x_max = -x_min;\n",
       "  let y_min = Infinity;\n",
       "  let y_max = -x_min;\n",
       "\n",
       "  tree_struct.each(d => {\n",
       "    if (d.x > x_max) x_max = d.x;\n",
       "    if (d.x < x_min) x_min = d.x;\n",
       "    if (d.y > y_max) y_max = d.y;\n",
       "    if (d.y < y_min) y_min = d.y;\n",
       "  });\n",
       "\n",
       "  // Size of the plot.\n",
       "  const width = y_max - y_min + options.node_x_size + options.margin * 2;\n",
       "  const height = x_max - x_min + options.node_y_size + options.margin * 2 +\n",
       "      options.node_y_offset - options.node_y_size;\n",
       "\n",
       "  const plot = d3.select(canvas_id);\n",
       "\n",
       "  // Tool tip\n",
       "  options.tooltip = plot.append('div')\n",
       "                        .attr('width', 100)\n",
       "                        .attr('height', 100)\n",
       "                        .style('padding', '4px')\n",
       "                        .style('background', '#fff')\n",
       "                        .style('box-shadow', '4px 4px 0px rgba(0,0,0,0.1)')\n",
       "                        .style('border', '1px solid black')\n",
       "                        .style('font-family', 'sans-serif')\n",
       "                        .style('font-size', options.font_size)\n",
       "                        .style('position', 'absolute')\n",
       "                        .style('z-index', '10')\n",
       "                        .attr('pointer-events', 'none')\n",
       "                        .style('display', 'none');\n",
       "\n",
       "  // Create canvas\n",
       "  const svg = plot.append('svg').attr('width', width).attr('height', height);\n",
       "  const graph =\n",
       "      svg.style('overflow', 'visible')\n",
       "          .append('g')\n",
       "          .attr('font-family', 'sans-serif')\n",
       "          .attr('font-size', options.font_size)\n",
       "          .attr(\n",
       "              'transform',\n",
       "              () => `translate(${options.margin},${\n",
       "                  - x_min + options.node_y_offset / 2 + options.margin})`);\n",
       "\n",
       "  // Plot bounding box.\n",
       "  if (options.show_plot_bounding_box) {\n",
       "    svg.append('rect')\n",
       "        .attr('width', width)\n",
       "        .attr('height', height)\n",
       "        .attr('fill', 'none')\n",
       "        .attr('stroke-width', 1.0)\n",
       "        .attr('stroke', 'black');\n",
       "  }\n",
       "\n",
       "  // Draw the edges.\n",
       "  display_edges(options, graph, tree_struct);\n",
       "\n",
       "  // Draw the nodes.\n",
       "  display_nodes(options, graph, tree_struct);\n",
       "}\n",
       "\n",
       "/**\n",
       " * Draw the nodes of the tree.\n",
       " * @param {!options} options Dictionary of configurations.\n",
       " * @param {!graph} graph D3 search handle containing the graph.\n",
       " * @param {!tree_struct} tree_struct Structure of the tree (node placement,\n",
       " *     data, etc.).\n",
       " */\n",
       "function display_nodes(options, graph, tree_struct) {\n",
       "  const nodes = graph.append('g')\n",
       "                    .selectAll('g')\n",
       "                    .data(tree_struct.descendants())\n",
       "                    .join('g')\n",
       "                    .attr('transform', d => `translate(${d.y},${d.x})`);\n",
       "\n",
       "  nodes.append('rect')\n",
       "      .attr('x', 0.5)\n",
       "      .attr('y', 0.5)\n",
       "      .attr('width', options.node_x_size)\n",
       "      .attr('height', options.node_y_size)\n",
       "      .attr('stroke', 'lightgrey')\n",
       "      .attr('stroke-width', 1)\n",
       "      .attr('fill', 'white')\n",
       "      .attr('y', -options.node_y_size / 2);\n",
       "\n",
       "  // Brackets on the right of condition nodes without children.\n",
       "  non_leaf_node_without_children =\n",
       "      nodes.filter(node => node.data.condition != null && node.children == null)\n",
       "          .append('g')\n",
       "          .attr('transform', `translate(${options.node_x_size},0)`);\n",
       "\n",
       "  non_leaf_node_without_children.append('path')\n",
       "      .attr('d', 'M0,0 C 10,0 0,10 10,10')\n",
       "      .attr('fill', 'none')\n",
       "      .attr('stroke-width', 1.0)\n",
       "      .attr('stroke', '#F00');\n",
       "\n",
       "  non_leaf_node_without_children.append('path')\n",
       "      .attr('d', 'M0,0 C 10,0 0,-10 10,-10')\n",
       "      .attr('fill', 'none')\n",
       "      .attr('stroke-width', 1.0)\n",
       "      .attr('stroke', '#0F0');\n",
       "\n",
       "  const node_content = nodes.append('g').attr(\n",
       "      'transform',\n",
       "      `translate(0,${options.node_padding - options.node_y_size / 2})`);\n",
       "\n",
       "  node_content.append(node => create_node_element(options, node));\n",
       "}\n",
       "\n",
       "/**\n",
       " * Creates the D3 content for a single node.\n",
       " * @param {!options} options Dictionary of configurations.\n",
       " * @param {!node} node Node to draw.\n",
       " * @return {!d3} D3 content.\n",
       " */\n",
       "function create_node_element(options, node) {\n",
       "  // Output accumulator.\n",
       "  let output = {\n",
       "    // Content to draw.\n",
       "    content: d3.create('svg:g'),\n",
       "    // Vertical offset to the next element to draw.\n",
       "    vertical_offset: 0\n",
       "  };\n",
       "\n",
       "  // Conditions.\n",
       "  if (node.data.condition != null) {\n",
       "    display_condition(options, node.data.condition, output);\n",
       "  }\n",
       "\n",
       "  // Values.\n",
       "  if (node.data.value != null) {\n",
       "    display_value(options, node.data.value, output);\n",
       "  }\n",
       "\n",
       "  // Explanations.\n",
       "  if (node.data.explanation != null) {\n",
       "    display_explanation(options, node.data.explanation, output);\n",
       "  }\n",
       "\n",
       "  return output.content.node();\n",
       "}\n",
       "\n",
       "\n",
       "/**\n",
       " * Adds a single line of text inside of a node.\n",
       " * @param {!options} options Dictionary of configurations.\n",
       " * @param {string} text Text to display.\n",
       " * @param {!output} output Output display accumulator.\n",
       " */\n",
       "function display_node_text(options, text, output) {\n",
       "  output.content.append('text')\n",
       "      .attr('x', options.node_padding)\n",
       "      .attr('y', output.vertical_offset)\n",
       "      .attr('alignment-baseline', 'hanging')\n",
       "      .text(text);\n",
       "  output.vertical_offset += 10;\n",
       "}\n",
       "\n",
       "/**\n",
       " * Adds a single line of text inside of a node with a tooltip.\n",
       " * @param {!options} options Dictionary of configurations.\n",
       " * @param {string} text Text to display.\n",
       " * @param {string} tooltip Text in the Tooltip.\n",
       " * @param {!output} output Output display accumulator.\n",
       " */\n",
       "function display_node_text_with_tooltip(options, text, tooltip, output) {\n",
       "  const item = output.content.append('text')\n",
       "                   .attr('x', options.node_padding)\n",
       "                   .attr('alignment-baseline', 'hanging')\n",
       "                   .text(text);\n",
       "\n",
       "  add_tooltip(options, item, () => tooltip);\n",
       "  output.vertical_offset += 10;\n",
       "}\n",
       "\n",
       "/**\n",
       " * Adds a tooltip to a dom element.\n",
       " * @param {!options} options Dictionary of configurations.\n",
       " * @param {!dom} target Dom element to equip with a tooltip.\n",
       " * @param {!func} get_content Generates the html content of the tooltip.\n",
       " */\n",
       "function add_tooltip(options, target, get_content) {\n",
       "  function show(d) {\n",
       "    options.tooltip.style('display', 'block');\n",
       "    options.tooltip.html(get_content());\n",
       "  }\n",
       "\n",
       "  function hide(d) {\n",
       "    options.tooltip.style('display', 'none');\n",
       "  }\n",
       "\n",
       "  function move(d) {\n",
       "    options.tooltip.style('display', 'block');\n",
       "    options.tooltip.style('left', (d.pageX + 5) + 'px');\n",
       "    options.tooltip.style('top', d.pageY + 'px');\n",
       "  }\n",
       "\n",
       "  target.on('mouseover', show);\n",
       "  target.on('mouseout', hide);\n",
       "  target.on('mousemove', move);\n",
       "}\n",
       "\n",
       "/**\n",
       " * Adds a condition inside of a node.\n",
       " * @param {!options} options Dictionary of configurations.\n",
       " * @param {!condition} condition Condition to display.\n",
       " * @param {!output} output Output display accumulator.\n",
       " */\n",
       "function display_condition(options, condition, output) {\n",
       "  threshold_format = d3.format('r');\n",
       "\n",
       "  if (condition.type === 'IS_MISSING') {\n",
       "    display_node_text(options, `${condition.attribute} is missing`, output);\n",
       "    return;\n",
       "  }\n",
       "\n",
       "  if (condition.type === 'IS_TRUE') {\n",
       "    display_node_text(options, `${condition.attribute} is true`, output);\n",
       "    return;\n",
       "  }\n",
       "\n",
       "  if (condition.type === 'NUMERICAL_IS_HIGHER_THAN') {\n",
       "    format = d3.format('r');\n",
       "    display_node_text(\n",
       "        options,\n",
       "        `${condition.attribute} >= ${threshold_format(condition.threshold)}`,\n",
       "        output);\n",
       "    return;\n",
       "  }\n",
       "\n",
       "  if (condition.type === 'CATEGORICAL_IS_IN') {\n",
       "    display_node_text_with_tooltip(\n",
       "        options, `${condition.attribute} in [...]`,\n",
       "        `${condition.attribute} in [${condition.mask}]`, output);\n",
       "    return;\n",
       "  }\n",
       "\n",
       "  if (condition.type === 'CATEGORICAL_SET_CONTAINS') {\n",
       "    display_node_text_with_tooltip(\n",
       "        options, `${condition.attribute} intersect [...]`,\n",
       "        `${condition.attribute} intersect [${condition.mask}]`, output);\n",
       "    return;\n",
       "  }\n",
       "\n",
       "  if (condition.type === 'NUMERICAL_SPARSE_OBLIQUE') {\n",
       "    display_node_text_with_tooltip(\n",
       "        options, `Sparse oblique split...`,\n",
       "        `[${condition.attributes}]*[${condition.weights}]>=${\n",
       "            threshold_format(condition.threshold)}`,\n",
       "        output);\n",
       "    return;\n",
       "  }\n",
       "\n",
       "  display_node_text(\n",
       "      options, `Non supported condition ${condition.type}`, output);\n",
       "}\n",
       "\n",
       "/**\n",
       " * Adds a value inside of a node.\n",
       " * @param {!options} options Dictionary of configurations.\n",
       " * @param {!value} value Value to display.\n",
       " * @param {!output} output Output display accumulator.\n",
       " */\n",
       "function display_value(options, value, output) {\n",
       "  if (value.type === 'PROBABILITY') {\n",
       "    const left_margin = 0;\n",
       "    const right_margin = 50;\n",
       "    const plot_width = options.node_x_size - options.node_padding * 2 -\n",
       "        left_margin - right_margin;\n",
       "\n",
       "    let cusum = Array.from(d3.cumsum(value.distribution));\n",
       "    cusum.unshift(0);\n",
       "    const distribution_plot = output.content.append('g').attr(\n",
       "        'transform', `translate(0,${output.vertical_offset + 0.5})`);\n",
       "\n",
       "    distribution_plot.selectAll('rect')\n",
       "        .data(value.distribution)\n",
       "        .join('rect')\n",
       "        .attr('height', 10)\n",
       "        .attr(\n",
       "            'x',\n",
       "            (d, i) =>\n",
       "                (cusum[i] * plot_width + left_margin + options.node_padding))\n",
       "        .attr('width', (d, i) => d * plot_width)\n",
       "        .style('fill', (d, i) => d3.schemeSet1[i]);\n",
       "\n",
       "    const num_examples =\n",
       "        output.content.append('g')\n",
       "            .attr('transform', `translate(0,${output.vertical_offset})`)\n",
       "            .append('text')\n",
       "            .attr('x', options.node_x_size - options.node_padding)\n",
       "            .attr('alignment-baseline', 'hanging')\n",
       "            .attr('text-anchor', 'end')\n",
       "            .text(`(${value.num_examples})`);\n",
       "\n",
       "    const distribution_details = d3.create('ul');\n",
       "    distribution_details.selectAll('li')\n",
       "        .data(value.distribution)\n",
       "        .join('li')\n",
       "        .append('span')\n",
       "        .text(\n",
       "            (d, i) =>\n",
       "                'class ' + i + ': ' + d3.format('.3%')(value.distribution[i]));\n",
       "\n",
       "    add_tooltip(options, distribution_plot, () => distribution_details.html());\n",
       "    add_tooltip(options, num_examples, () => 'Number of examples');\n",
       "\n",
       "    output.vertical_offset += 10;\n",
       "    return;\n",
       "  }\n",
       "\n",
       "  if (value.type === 'REGRESSION') {\n",
       "    display_node_text(\n",
       "        options,\n",
       "        'value: ' + d3.format('r')(value.value) + ` (` +\n",
       "            d3.format('.6')(value.num_examples) + `)`,\n",
       "        output);\n",
       "    return;\n",
       "  }\n",
       "\n",
       "  if (value.type === 'UPLIFT') {\n",
       "    display_node_text(\n",
       "        options,\n",
       "        'effect: ' + d3.format('r')(value.treatment_effect) + ` (` +\n",
       "            d3.format('.6')(value.num_examples) + `)`,\n",
       "        output);\n",
       "    return;\n",
       "  }\n",
       "\n",
       "  display_node_text(options, `Non supported value ${value.type}`, output);\n",
       "}\n",
       "\n",
       "/**\n",
       " * Adds an explanation inside of a node.\n",
       " * @param {!options} options Dictionary of configurations.\n",
       " * @param {!explanation} explanation Explanation to display.\n",
       " * @param {!output} output Output display accumulator.\n",
       " */\n",
       "function display_explanation(options, explanation, output) {\n",
       "  // Margin before the explanation.\n",
       "  output.vertical_offset += 10;\n",
       "\n",
       "  display_node_text(\n",
       "      options, `Non supported explanation ${explanation.type}`, output);\n",
       "}\n",
       "\n",
       "\n",
       "/**\n",
       " * Draw the edges of the tree.\n",
       " * @param {!options} options Dictionary of configurations.\n",
       " * @param {!graph} graph D3 search handle containing the graph.\n",
       " * @param {!tree_struct} tree_struct Structure of the tree (node placement,\n",
       " *     data, etc.).\n",
       " */\n",
       "function display_edges(options, graph, tree_struct) {\n",
       "  // Draw an edge between a parent and a child node with a bezier.\n",
       "  function draw_single_edge(d) {\n",
       "    return 'M' + (d.source.y + options.node_x_size) + ',' + d.source.x + ' C' +\n",
       "        (d.source.y + options.node_x_size + options.edge_rounding) + ',' +\n",
       "        d.source.x + ' ' + (d.target.y - options.edge_rounding) + ',' +\n",
       "        d.target.x + ' ' + d.target.y + ',' + d.target.x;\n",
       "  }\n",
       "\n",
       "  graph.append('g')\n",
       "      .attr('fill', 'none')\n",
       "      .attr('stroke-width', 1.2)\n",
       "      .selectAll('path')\n",
       "      .data(tree_struct.links())\n",
       "      .join('path')\n",
       "      .attr('d', draw_single_edge)\n",
       "      .attr(\n",
       "          'stroke', d => (d.target === d.source.children[0]) ? '#0F0' : '#F00');\n",
       "}\n",
       "\n",
       "display_tree({\"margin\": 10, \"node_x_size\": 160, \"node_y_size\": 28, \"node_x_offset\": 180, \"node_y_offset\": 33, \"font_size\": 10, \"edge_rounding\": 20, \"node_padding\": 2, \"show_plot_bounding_box\": false}, {\"value\": {\"type\": \"REGRESSION\", \"value\": -0.06011847406625748, \"num_examples\": 5243359.5, \"standard_deviation\": 0.17424637573510646}, \"condition\": {\"type\": \"NUMERICAL_IS_HIGHER_THAN\", \"attribute\": \"rh_frac\", \"threshold\": 0.8338816165924072}, \"children\": [{\"value\": {\"type\": \"REGRESSION\", \"value\": -0.012754194438457489, \"num_examples\": 3152031.25, \"standard_deviation\": 0.13018827969990365}, \"condition\": {\"type\": \"NUMERICAL_IS_HIGHER_THAN\", \"attribute\": \"rh_frac\", \"threshold\": 0.9567645788192749}, \"children\": [{\"value\": {\"type\": \"REGRESSION\", \"value\": 0.009338724426925182, \"num_examples\": 2157135.75, \"standard_deviation\": 0.10338939523868046}, \"condition\": {\"type\": \"NUMERICAL_IS_HIGHER_THAN\", \"attribute\": \"norm_hour\", \"threshold\": 0.04014747589826584}, \"children\": [{\"value\": {\"type\": \"REGRESSION\", \"value\": 0.021106023341417313, \"num_examples\": 1600499.0, \"standard_deviation\": 0.08661430274375095}, \"condition\": {\"type\": \"NUMERICAL_IS_HIGHER_THAN\", \"attribute\": \"norm_hour\", \"threshold\": 0.4082649052143097}, \"children\": [{\"value\": {\"type\": \"REGRESSION\", \"value\": 0.03464391082525253, \"num_examples\": 616011.0, \"standard_deviation\": 0.06311426942549124}}, {\"value\": {\"type\": \"REGRESSION\", \"value\": 0.013321367092430592, \"num_examples\": 984488.0, \"standard_deviation\": 0.09796828468810115}, \"condition\": {\"type\": \"NUMERICAL_IS_HIGHER_THAN\", \"attribute\": \"rh_frac\", \"threshold\": 0.982783317565918}, \"children\": [{\"value\": {\"type\": \"REGRESSION\", \"value\": 0.019312560558319092, \"num_examples\": 786239.75, \"standard_deviation\": 0.08933251899934758}}, {\"value\": {\"type\": \"REGRESSION\", \"value\": -0.007836847566068172, \"num_examples\": 198248.25, \"standard_deviation\": 0.12462011808439998}}]}]}, {\"value\": {\"type\": \"REGRESSION\", \"value\": -0.019053490832448006, \"num_examples\": 556636.75, \"standard_deviation\": 0.13704357043769655}, \"condition\": {\"type\": \"NUMERICAL_IS_HIGHER_THAN\", \"attribute\": \"rh_frac\", \"threshold\": 0.987220287322998}, \"children\": [{\"value\": {\"type\": \"REGRESSION\", \"value\": -0.012692323885858059, \"num_examples\": 466962.0, \"standard_deviation\": 0.13011943374877888}, \"condition\": {\"type\": \"CATEGORICAL_IS_IN\", \"attribute\": \"is_home\", \"mask\": [\"<OOD>\", \"0\"]}, \"children\": [{\"value\": {\"type\": \"REGRESSION\", \"value\": -0.007903102785348892, \"num_examples\": 389404.0, \"standard_deviation\": 0.12469647316331078}}, {\"value\": {\"type\": \"REGRESSION\", \"value\": -0.03390464559197426, \"num_examples\": 77558.0, \"standard_deviation\": 0.15205064986993724}, \"condition\": {\"type\": \"NUMERICAL_IS_HIGHER_THAN\", \"attribute\": \"minutes_cos\", \"threshold\": 0.4559321999549866}}]}, {\"value\": {\"type\": \"REGRESSION\", \"value\": -0.046925030648708344, \"num_examples\": 89674.75, \"standard_deviation\": 0.16384440364737546}}]}]}, {\"value\": {\"type\": \"REGRESSION\", \"value\": -0.04892467334866524, \"num_examples\": 994895.5, \"standard_deviation\": 0.16553070744163798}, \"condition\": {\"type\": \"NUMERICAL_IS_HIGHER_THAN\", \"attribute\": \"norm_hour\", \"threshold\": 0.09592482447624207}, \"children\": [{\"value\": {\"type\": \"REGRESSION\", \"value\": -0.026561269536614418, \"num_examples\": 621356.75, \"standard_deviation\": 0.14483001319988015}, \"condition\": {\"type\": \"NUMERICAL_IS_HIGHER_THAN\", \"attribute\": \"minutes_sin\", \"threshold\": 0.36446964740753174}, \"children\": [{\"value\": {\"type\": \"REGRESSION\", \"value\": 0.0133285541087389, \"num_examples\": 157435.0, \"standard_deviation\": 0.0979582896524351}}, {\"value\": {\"type\": \"REGRESSION\", \"value\": -0.037266701459884644, \"num_examples\": 463921.75, \"standard_deviation\": 0.1552237221177282}, \"condition\": {\"type\": \"NUMERICAL_IS_HIGHER_THAN\", \"attribute\": \"dist_to_most_freq\", \"threshold\": 0.5006688237190247}, \"children\": [{\"value\": {\"type\": \"REGRESSION\", \"value\": -0.016714902594685555, \"num_examples\": 241205.0, \"standard_deviation\": 0.1345337107190483}, \"condition\": {\"type\": \"CATEGORICAL_IS_IN\", \"attribute\": \"is_home\", \"mask\": [\"<OOD>\", \"0\"]}}, {\"value\": {\"type\": \"REGRESSION\", \"value\": -0.05545438081026077, \"num_examples\": 222716.75, \"standard_deviation\": 0.17077395763404862}, \"condition\": {\"type\": \"NUMERICAL_IS_HIGHER_THAN\", \"attribute\": \"norm_hour\", \"threshold\": 0.3780200481414795}}]}]}, {\"value\": {\"type\": \"REGRESSION\", \"value\": -0.07686153799295425, \"num_examples\": 373538.75, \"standard_deviation\": 0.18427978518183966}, \"condition\": {\"type\": \"NUMERICAL_IS_HIGHER_THAN\", \"attribute\": \"norm_trips_curr_location\", \"threshold\": 0.09929047524929047}, \"children\": [{\"value\": {\"type\": \"REGRESSION\", \"value\": -0.08556082099676132, \"num_examples\": 263840.5, \"standard_deviation\": 0.18740720708729616}, \"condition\": {\"type\": \"NUMERICAL_IS_HIGHER_THAN\", \"attribute\": \"minutes_cos\", \"threshold\": 0.5243562459945679}, \"children\": [{\"value\": {\"type\": \"REGRESSION\", \"value\": -0.10399570316076279, \"num_examples\": 68907.75, \"standard_deviation\": 0.18567611710977328}, \"condition\": {\"type\": \"NUMERICAL_IS_HIGHER_THAN\", \"attribute\": \"latitude\", \"threshold\": 31.819740295410156}}, {\"value\": {\"type\": \"REGRESSION\", \"value\": -0.07766681164503098, \"num_examples\": 194932.75, \"standard_deviation\": 0.18464177583461902}, \"condition\": {\"type\": \"NUMERICAL_IS_HIGHER_THAN\", \"attribute\": \"minutes_sin\", \"threshold\": 0.28610581159591675}}]}, {\"value\": {\"type\": \"REGRESSION\", \"value\": -0.05086148902773857, \"num_examples\": 109698.25, \"standard_deviation\": 0.167129151689825}, \"condition\": {\"type\": \"CATEGORICAL_IS_IN\", \"attribute\": \"is_home\", \"mask\": [\"<OOD>\", \"0\"]}, \"children\": [{\"value\": {\"type\": \"REGRESSION\", \"value\": -0.04567291960120201, \"num_examples\": 101867.0, \"standard_deviation\": 0.1627704833751904}}, {\"value\": {\"type\": \"REGRESSION\", \"value\": -0.09876178205013275, \"num_examples\": 7831.25, \"standard_deviation\": 0.18772969064412184}}]}]}]}]}, {\"value\": {\"type\": \"REGRESSION\", \"value\": -0.10198795795440674, \"num_examples\": 2091328.25, \"standard_deviation\": 0.18665105970273693}, \"condition\": {\"type\": \"NUMERICAL_IS_HIGHER_THAN\", \"attribute\": \"norm_hour\", \"threshold\": 0.27737730741500854}, \"children\": [{\"value\": {\"type\": \"REGRESSION\", \"value\": -0.07287880033254623, \"num_examples\": 576143.75, \"standard_deviation\": 0.18230340110058177}, \"condition\": {\"type\": \"NUMERICAL_IS_HIGHER_THAN\", \"attribute\": \"rh_frac\", \"threshold\": 0.4909364581108093}, \"children\": [{\"value\": {\"type\": \"REGRESSION\", \"value\": -0.05576401948928833, \"num_examples\": 414556.75, \"standard_deviation\": 0.17101191804459606}, \"condition\": {\"type\": \"NUMERICAL_IS_HIGHER_THAN\", \"attribute\": \"minutes_sin\", \"threshold\": 0.33174875378608704}, \"children\": [{\"value\": {\"type\": \"REGRESSION\", \"value\": -0.005221701692789793, \"num_examples\": 128290.75, \"standard_deviation\": 0.12157601875168658}, \"condition\": {\"type\": \"NUMERICAL_IS_HIGHER_THAN\", \"attribute\": \"norm_hour\", \"threshold\": 0.5774338245391846}, \"children\": [{\"value\": {\"type\": \"REGRESSION\", \"value\": 0.013658818788826466, \"num_examples\": 78798.25, \"standard_deviation\": 0.09749812624493191}}, {\"value\": {\"type\": \"REGRESSION\", \"value\": -0.029878754168748856, \"num_examples\": 49492.5, \"standard_deviation\": 0.14814065821622252}}]}, {\"value\": {\"type\": \"REGRESSION\", \"value\": -0.071675144135952, \"num_examples\": 286266.0, \"standard_deviation\": 0.18164927891970153}, \"condition\": {\"type\": \"NUMERICAL_IS_HIGHER_THAN\", \"attribute\": \"dist_to_most_freq\", \"threshold\": 0.600766658782959}, \"children\": [{\"value\": {\"type\": \"REGRESSION\", \"value\": -0.04552517831325531, \"num_examples\": 135582.25, \"standard_deviation\": 0.16264287110454947}, \"condition\": {\"type\": \"CATEGORICAL_IS_IN\", \"attribute\": \"is_home\", \"mask\": [\"<OOD>\", \"0\"]}}, {\"value\": {\"type\": \"REGRESSION\", \"value\": -0.0895455926656723, \"num_examples\": 150683.75, \"standard_deviation\": 0.18816674699044186}, \"condition\": {\"type\": \"NUMERICAL_IS_HIGHER_THAN\", \"attribute\": \"norm_hour\", \"threshold\": 0.6325153112411499}}]}]}, {\"value\": {\"type\": \"REGRESSION\", \"value\": -0.10442297905683517, \"num_examples\": 161587.0, \"standard_deviation\": 0.18543557246430137}, \"condition\": {\"type\": \"NUMERICAL_IS_HIGHER_THAN\", \"attribute\": \"minutes_sin\", \"threshold\": 0.4559321999549866}, \"children\": [{\"value\": {\"type\": \"REGRESSION\", \"value\": -0.060201406478881836, \"num_examples\": 30170.25, \"standard_deviation\": 0.17430586582265808}, \"condition\": {\"type\": \"NUMERICAL_IS_HIGHER_THAN\", \"attribute\": \"norm_hour\", \"threshold\": 0.6327171921730042}, \"children\": [{\"value\": {\"type\": \"REGRESSION\", \"value\": -0.03161211684346199, \"num_examples\": 15124.25, \"standard_deviation\": 0.14983868255741495}}, {\"value\": {\"type\": \"REGRESSION\", \"value\": -0.08163963258266449, \"num_examples\": 15046.0, \"standard_deviation\": 0.18622196352138953}}]}, {\"value\": {\"type\": \"REGRESSION\", \"value\": -0.11148293316364288, \"num_examples\": 131416.75, \"standard_deviation\": 0.17945802210313302}, \"condition\": {\"type\": \"NUMERICAL_IS_HIGHER_THAN\", \"attribute\": \"dist_to_most_freq\", \"threshold\": 0.884965181350708}, \"children\": [{\"value\": {\"type\": \"REGRESSION\", \"value\": -0.09495044499635696, \"num_examples\": 48548.75, \"standard_deviation\": 0.1883348439396094}, \"condition\": {\"type\": \"CATEGORICAL_IS_IN\", \"attribute\": \"is_home\", \"mask\": [\"<OOD>\", \"0\"]}}, {\"value\": {\"type\": \"REGRESSION\", \"value\": -0.11939647048711777, \"num_examples\": 82868.0, \"standard_deviation\": 0.166573003891104}, \"condition\": {\"type\": \"NUMERICAL_IS_HIGHER_THAN\", \"attribute\": \"rh_frac\", \"threshold\": 0.34225204586982727}}]}]}]}, {\"value\": {\"type\": \"REGRESSION\", \"value\": -0.11038970202207565, \"num_examples\": 1515184.5, \"standard_deviation\": 0.18066221428563636}, \"condition\": {\"type\": \"NUMERICAL_IS_HIGHER_THAN\", \"attribute\": \"rh_frac\", \"threshold\": 0.5719428062438965}, \"children\": [{\"value\": {\"type\": \"REGRESSION\", \"value\": -0.09885068237781525, \"num_examples\": 801914.5, \"standard_deviation\": 0.1877073623468741}, \"condition\": {\"type\": \"NUMERICAL_IS_HIGHER_THAN\", \"attribute\": \"norm_trips_curr_location\", \"threshold\": 0.1341366022825241}, \"children\": [{\"value\": {\"type\": \"REGRESSION\", \"value\": -0.10543426126241684, \"num_examples\": 580135.5, \"standard_deviation\": 0.18481712750098228}, \"condition\": {\"type\": \"NUMERICAL_IS_HIGHER_THAN\", \"attribute\": \"norm_hour\", \"threshold\": 0.08427830785512924}, \"children\": [{\"value\": {\"type\": \"REGRESSION\", \"value\": -0.0929054319858551, \"num_examples\": 242629.75, \"standard_deviation\": 0.18840060812732667}, \"condition\": {\"type\": \"NUMERICAL_IS_HIGHER_THAN\", \"attribute\": \"minutes_sin\", \"threshold\": 0.4867154359817505}}, {\"value\": {\"type\": \"REGRESSION\", \"value\": -0.11310029029846191, \"num_examples\": 337505.75, \"standard_deviation\": 0.17745490953793855}, \"condition\": {\"type\": \"NUMERICAL_IS_HIGHER_THAN\", \"attribute\": \"minutes_cos\", \"threshold\": 0.4520444869995117}}]}, {\"value\": {\"type\": \"REGRESSION\", \"value\": -0.07775823026895523, \"num_examples\": 221779.0, \"standard_deviation\": 0.1846820261407142}, \"condition\": {\"type\": \"CATEGORICAL_IS_IN\", \"attribute\": \"is_home\", \"mask\": [\"<OOD>\", \"0\"]}, \"children\": [{\"value\": {\"type\": \"REGRESSION\", \"value\": -0.07181372493505478, \"num_examples\": 195845.5, \"standard_deviation\": 0.1817258609829751}, \"condition\": {\"type\": \"NUMERICAL_IS_HIGHER_THAN\", \"attribute\": \"dist_to_most_freq\", \"threshold\": 0.6381791830062866}}, {\"value\": {\"type\": \"REGRESSION\", \"value\": -0.11133227497339249, \"num_examples\": 25933.5, \"standard_deviation\": 0.17963088985909023}}]}]}, {\"value\": {\"type\": \"REGRESSION\", \"value\": -0.12113410234451294, \"num_examples\": 713270.0, \"standard_deviation\": 0.16248285010976982}, \"condition\": {\"type\": \"NUMERICAL_IS_HIGHER_THAN\", \"attribute\": \"min_dist_to_known_loc\", \"threshold\": 0.6321527361869812}, \"children\": [{\"value\": {\"type\": \"REGRESSION\", \"value\": -0.10475198179483414, \"num_examples\": 110268.5, \"standard_deviation\": 0.18524204766180555}, \"condition\": {\"type\": \"NUMERICAL_IS_HIGHER_THAN\", \"attribute\": \"rh_frac\", \"threshold\": 0.37889349460601807}, \"children\": [{\"value\": {\"type\": \"REGRESSION\", \"value\": -0.09495346993207932, \"num_examples\": 61558.0, \"standard_deviation\": 0.1883346203533346}, \"condition\": {\"type\": \"CATEGORICAL_IS_IN\", \"attribute\": \"is_home\", \"mask\": [\"<OOD>\", \"0\"]}}, {\"value\": {\"type\": \"REGRESSION\", \"value\": -0.11525347083806992, \"num_examples\": 48710.5, \"standard_deviation\": 0.17433308823550933}}]}, {\"value\": {\"type\": \"REGRESSION\", \"value\": -0.12367204576730728, \"num_examples\": 603001.5, \"standard_deviation\": 0.15539769799525577}, \"condition\": {\"type\": \"NUMERICAL_IS_HIGHER_THAN\", \"attribute\": \"rh_frac\", \"threshold\": 0.3788137435913086}, \"children\": [{\"value\": {\"type\": \"REGRESSION\", \"value\": -0.11941365152597427, \"num_examples\": 343952.5, \"standard_deviation\": 0.1665352678132645}, \"condition\": {\"type\": \"NUMERICAL_IS_HIGHER_THAN\", \"attribute\": \"norm_hour\", \"threshold\": 0.06566895544528961}}, {\"value\": {\"type\": \"REGRESSION\", \"value\": -0.1288379579782486, \"num_examples\": 259049.0, \"standard_deviation\": 0.1354203490738671}}]}]}]}]}]}, \"#tree_plot_b20d19c6b9124905972b8ba1cf3c5b56\")\n",
       "</script>\n"
      ],
      "text/plain": [
       "<IPython.core.display.HTML object>"
      ]
     },
     "metadata": {},
     "output_type": "display_data"
    }
   ],
   "source": [
    "idisplay(HTML(tfdf.model_plotter.plot_model(model, tree_idx=0, max_depth=5)))"
   ]
  },
  {
   "cell_type": "raw",
   "id": "bcdaa188-0d48-4c3b-b3d6-7af36d167e7e",
   "metadata": {},
   "source": [
    "inspector = model.make_inspector()\n",
    "\n",
    "inspector.variable_importances()['SUM_SCORE']"
   ]
  },
  {
   "cell_type": "code",
   "execution_count": 32,
   "id": "745c570a",
   "metadata": {},
   "outputs": [
    {
     "name": "stdout",
     "output_type": "stream",
     "text": [
      "0.5434836\n",
      "0.8403893586617682\n"
     ]
    }
   ],
   "source": [
    "target_thresh, expected_recall = get_optimal_threshold(cb_test_y, ppreds, 0.9)\n",
    "\n",
    "print(target_thresh)\n",
    "print(expected_recall)"
   ]
  },
  {
   "cell_type": "code",
   "execution_count": 33,
   "id": "8c7258a0-efca-413e-8e3c-0ef3ac1cbe66",
   "metadata": {},
   "outputs": [
    {
     "data": {
      "image/png": "[encoded data removed]",
      "text/plain": [
       "<Figure size 640x480 with 2 Axes>"
      ]
     },
     "metadata": {},
     "output_type": "display_data"
    }
   ],
   "source": [
    "threshold = target_thresh\n",
    "\n",
    "cm = confusion_matrix(cb_test_y, np.where(ppreds > threshold, 1, 0))\n",
    "cm_display = ConfusionMatrixDisplay(cm).plot()"
   ]
  },
  {
   "cell_type": "code",
   "execution_count": 34,
   "id": "11bfcfcd-4af7-4dda-be0b-0850063e60fb",
   "metadata": {},
   "outputs": [
    {
     "name": "stdout",
     "output_type": "stream",
     "text": [
      "              precision    recall  f1-score   support\n",
      "\n",
      "           0       0.63      0.74      0.68    536095\n",
      "           1       0.90      0.84      0.87   1484287\n",
      "\n",
      "    accuracy                           0.81   2020382\n",
      "   macro avg       0.76      0.79      0.77   2020382\n",
      "weighted avg       0.83      0.81      0.82   2020382\n",
      "\n"
     ]
    }
   ],
   "source": [
    "print(classification_report(cb_test_y, np.where(ppreds > threshold, 1, 0)))"
   ]
  },
  {
   "cell_type": "code",
   "execution_count": 35,
   "id": "54ca0898-bd27-475d-a0fb-bc00976d785b",
   "metadata": {},
   "outputs": [
    {
     "data": {
      "image/png": "[encoded data removed]",
      "text/plain": [
       "<Figure size 640x480 with 1 Axes>"
      ]
     },
     "metadata": {},
     "output_type": "display_data"
    }
   ],
   "source": [
    "display = PrecisionRecallDisplay.from_predictions(cb_test_y, ppreds, name=\"TFGB\")\n",
    "_ = display.ax_.set_title(\"2-class Precision-Recall curve (RH vs. Rest)\")"
   ]
  },
  {
   "cell_type": "code",
   "execution_count": 36,
   "id": "e17f7789-31c3-40a5-8f85-e551be9606a4",
   "metadata": {},
   "outputs": [
    {
     "data": {
      "image/png": "[encoded data removed]",
      "text/plain": [
       "<Figure size 640x480 with 1 Axes>"
      ]
     },
     "metadata": {},
     "output_type": "display_data"
    }
   ],
   "source": [
    "display = RocCurveDisplay.from_predictions(cb_test_y, ppreds, name=\"TFGB\")\n",
    "_ = display.ax_.set_title(\"ROC curve (RH vs. Rest)\")"
   ]
  },
  {
   "cell_type": "code",
   "execution_count": 37,
   "id": "cf6bd6af",
   "metadata": {},
   "outputs": [
    {
     "data": {
      "image/png": "[encoded data removed]",
      "text/plain": [
       "<Figure size 640x480 with 1 Axes>"
      ]
     },
     "metadata": {},
     "output_type": "display_data"
    }
   ],
   "source": [
    "display = CalibrationDisplay.from_predictions(cb_test_y, ppreds, name=\"TFGB\")\n",
    "_ = display.ax_.set_title(\"Calibration curve (RH vs. Rest)\")"
   ]
  },
  {
   "cell_type": "markdown",
   "id": "eacd5f80-2a77-493d-87ed-8ba7aaa78e0f",
   "metadata": {
    "tags": []
   },
   "source": [
    "### Calibration"
   ]
  },
  {
   "cell_type": "code",
   "execution_count": 198,
   "id": "36b96699-f3b1-4a31-bb39-b87d7306fe82",
   "metadata": {},
   "outputs": [
    {
     "data": {
      "text/plain": [
       "<module 'tf_isotonic' from '/Users/andreychubin/Desktop/DS/SA/MS-Intent/tf_isotonic.py'>"
      ]
     },
     "execution_count": 198,
     "metadata": {},
     "output_type": "execute_result"
    }
   ],
   "source": [
    "import importlib\n",
    "import tf_isotonic\n",
    "\n",
    "importlib.reload(tf_isotonic)"
   ]
  },
  {
   "cell_type": "code",
   "execution_count": 199,
   "id": "4bcbca78-dbe2-40b1-8246-660025da9154",
   "metadata": {},
   "outputs": [],
   "source": [
    "from tf_isotonic import TFIsotonicRegression"
   ]
  },
  {
   "cell_type": "code",
   "execution_count": 154,
   "id": "4f877d97-a85b-45af-abee-7d69a0ed1d54",
   "metadata": {},
   "outputs": [],
   "source": [
    "def expected_calibration_error(samples, true_labels, M=3):\n",
    "    # uniform binning approach with M number of bins\n",
    "    bin_boundaries = np.linspace(0, 1, M + 1)\n",
    "    bin_lowers = bin_boundaries[:-1]\n",
    "    bin_uppers = bin_boundaries[1:]\n",
    "\n",
    "   # keep confidences / predicted \"probabilities\" as they are\n",
    "    confidences = samples\n",
    "    # get binary class predictions from confidences\n",
    "    predicted_label = (samples>0.5).astype(float)\n",
    "\n",
    "    # get a boolean list of correct/false predictions\n",
    "    accuracies = predicted_label==true_labels\n",
    "\n",
    "    ece = np.zeros(1)\n",
    "    for bin_lower, bin_upper in zip(bin_lowers, bin_uppers):\n",
    "        # determine if sample is in bin m (between bin lower & upper)\n",
    "        in_bin = np.logical_and(confidences > bin_lower.item(), confidences <= bin_upper.item())\n",
    "        # can calculate the empirical probability of a sample falling into bin m: (|Bm|/n)\n",
    "        prop_in_bin = in_bin.astype(float).mean()\n",
    "\n",
    "        if prop_in_bin.item() > 0:\n",
    "            # get the accuracy of bin m: acc(Bm)\n",
    "            accuracy_in_bin = accuracies[in_bin].astype(float).mean()\n",
    "            # get the average confidence of bin m: conf(Bm)\n",
    "            avg_confidence_in_bin = confidences[in_bin].mean()\n",
    "            # calculate |acc(Bm) - conf(Bm)| * (|Bm|/n) for bin m and add to the total ECE\n",
    "            ece += np.abs(avg_confidence_in_bin - accuracy_in_bin) * prop_in_bin\n",
    "    return ece"
   ]
  },
  {
   "cell_type": "code",
   "execution_count": 91,
   "id": "43dc5cc8-a934-44b7-ad3a-7a4733a31780",
   "metadata": {},
   "outputs": [
    {
     "name": "stdout",
     "output_type": "stream",
     "text": [
      "1600/1600 [==============================] - 32s 20ms/step\n"
     ]
    }
   ],
   "source": [
    "iso_ds = train[['target']].values.flatten()\n",
    "train_preds = model.predict(train_ds).flatten()"
   ]
  },
  {
   "cell_type": "code",
   "execution_count": 200,
   "id": "4d13290b-b710-499a-b72a-8f0d344f888a",
   "metadata": {},
   "outputs": [],
   "source": [
    "iso = TFIsotonicRegression(y_min=0.0, y_max=1.0, increasing=True, approximation=7)"
   ]
  },
  {
   "cell_type": "code",
   "execution_count": 202,
   "id": "11339238-b00e-4c57-966a-ec9cc5a566ce",
   "metadata": {},
   "outputs": [
    {
     "name": "stderr",
     "output_type": "stream",
     "text": [
      "2023-10-31 17:25:21.923819: I tensorflow/core/grappler/optimizers/custom_graph_optimizer_registry.cc:114] Plugin optimizer for device_type GPU is enabled.\n",
      "2023-10-31 17:25:21.926427: W tensorflow/core/grappler/optimizers/loop_optimizer.cc:933] Skipping loop optimization for Merge node with control input: assert_equal_1/Assert/AssertGuard/branch_executed/_9\n"
     ]
    },
    {
     "name": "stdout",
     "output_type": "stream",
     "text": [
      "Progress: [____________________]  [2/65]"
     ]
    },
    {
     "name": "stderr",
     "output_type": "stream",
     "text": [
      "2023-10-31 17:25:22.155165: I tensorflow/core/grappler/optimizers/custom_graph_optimizer_registry.cc:114] Plugin optimizer for device_type GPU is enabled.\n"
     ]
    },
    {
     "name": "stdout",
     "output_type": "stream",
     "text": [
      "Progress: [▩▩▩▩▩▩▩▩▩▩▩▩▩▩▩▩▩▩▩_]  [63/65]"
     ]
    },
    {
     "name": "stderr",
     "output_type": "stream",
     "text": [
      "2023-10-31 17:25:28.455464: I tensorflow/core/grappler/optimizers/custom_graph_optimizer_registry.cc:114] Plugin optimizer for device_type GPU is enabled.\n"
     ]
    },
    {
     "name": "stdout",
     "output_type": "stream",
     "text": [
      "Progress: [▩▩▩▩▩▩▩▩▩▩▩▩▩▩▩▩▩▩▩▩]  [64/65]"
     ]
    },
    {
     "name": "stderr",
     "output_type": "stream",
     "text": [
      "2023-10-31 17:25:30.410735: I tensorflow/core/grappler/optimizers/custom_graph_optimizer_registry.cc:114] Plugin optimizer for device_type GPU is enabled.\n",
      "2023-10-31 17:25:30.441029: I tensorflow/core/grappler/optimizers/custom_graph_optimizer_registry.cc:114] Plugin optimizer for device_type GPU is enabled.\n",
      "2023-10-31 17:25:33.009270: I tensorflow/core/grappler/optimizers/custom_graph_optimizer_registry.cc:114] Plugin optimizer for device_type GPU is enabled.\n"
     ]
    },
    {
     "name": "stdout",
     "output_type": "stream",
     "text": [
      "Progress: [▩▩▩▩▩▩▩▩▩▩▩▩▩▩▩▩▩▩▩▩]  [65/65]"
     ]
    },
    {
     "name": "stderr",
     "output_type": "stream",
     "text": [
      "2023-10-31 17:25:37.387241: I tensorflow/core/grappler/optimizers/custom_graph_optimizer_registry.cc:114] Plugin optimizer for device_type GPU is enabled.\n"
     ]
    },
    {
     "data": {
      "text/plain": [
       "TFIsotonicRegression(y_min=0.0, y_max=1.0, increasing=True, approximation=7)"
      ]
     },
     "execution_count": 202,
     "metadata": {},
     "output_type": "execute_result"
    }
   ],
   "source": [
    "iso.fit(x=train_preds, y=iso_ds, batch_size=100000, verbose=True)"
   ]
  },
  {
   "cell_type": "code",
   "execution_count": 203,
   "id": "e4149822-f908-4494-b1fe-b5f22fb4a63d",
   "metadata": {},
   "outputs": [
    {
     "name": "stdout",
     "output_type": "stream",
     "text": [
      "21/21 [==============================] - 0s 5ms/step\n"
     ]
    },
    {
     "name": "stderr",
     "output_type": "stream",
     "text": [
      "2023-10-31 17:25:46.889954: I tensorflow/core/grappler/optimizers/custom_graph_optimizer_registry.cc:114] Plugin optimizer for device_type GPU is enabled.\n",
      "2023-10-31 17:25:46.893414: W tensorflow/core/grappler/optimizers/loop_optimizer.cc:933] Skipping loop optimization for Merge node with control input: tf_isotonic_regression_6/StatefulPartitionedCall/StatefulPartitionedCall/assert_equal_1/Assert/AssertGuard/branch_executed/_24\n"
     ]
    }
   ],
   "source": [
    "ppreds_scaled = iso.predict(ppreds, batch_size=100000)"
   ]
  },
  {
   "cell_type": "code",
   "execution_count": 204,
   "id": "ed249023-a273-4946-943c-3a5245ade937",
   "metadata": {},
   "outputs": [],
   "source": [
    "iso.save('models/isotonic')"
   ]
  },
  {
   "cell_type": "code",
   "execution_count": 205,
   "id": "2ab1af2c-dbae-47eb-99a0-19a8c3f9870e",
   "metadata": {},
   "outputs": [],
   "source": [
    "iso_l = tf.keras.models.load_model('models/isotonic')"
   ]
  },
  {
   "cell_type": "code",
   "execution_count": 207,
   "id": "6eda471e-057e-44bf-a3e4-bcea913e853a",
   "metadata": {},
   "outputs": [],
   "source": [
    "ppreds_scaled = iso.predict(ppreds[:2], verbose=False)#.numpy().flatten().astype(np.float64)"
   ]
  },
  {
   "cell_type": "code",
   "execution_count": 208,
   "id": "5d1c2c98-2191-482a-88e3-e25f743942a6",
   "metadata": {},
   "outputs": [
    {
     "data": {
      "text/plain": [
       "array([0.8423905 , 0.62082064], dtype=float32)"
      ]
     },
     "execution_count": 208,
     "metadata": {},
     "output_type": "execute_result"
    }
   ],
   "source": [
    "ppreds_scaled"
   ]
  },
  {
   "cell_type": "code",
   "execution_count": 183,
   "id": "f1abbcbd-a4ef-49e1-8e75-6a08508211be",
   "metadata": {},
   "outputs": [
    {
     "name": "stderr",
     "output_type": "stream",
     "text": [
      "2023-10-31 13:28:25.018785: I tensorflow/core/grappler/optimizers/custom_graph_optimizer_registry.cc:114] Plugin optimizer for device_type GPU is enabled.\n"
     ]
    },
    {
     "data": {
      "text/plain": [
       "<tf.Tensor: shape=(2020382,), dtype=float32, numpy=\n",
       "array([0.8423905 , 0.62082064, 0.6671446 , ..., 0.32947975, 0.9355774 ,\n",
       "       0.        ], dtype=float32)>"
      ]
     },
     "execution_count": 183,
     "metadata": {},
     "output_type": "execute_result"
    }
   ],
   "source": [
    "iso.call(ppreds)"
   ]
  },
  {
   "cell_type": "code",
   "execution_count": 184,
   "id": "23233a08-64ac-4ad7-bc79-cee044085379",
   "metadata": {},
   "outputs": [
    {
     "data": {
      "text/plain": [
       "<tf.Tensor: shape=(2020382,), dtype=float32, numpy=\n",
       "array([0.8423905 , 0.62082064, 0.6671446 , ..., 0.32947975, 0.9355774 ,\n",
       "       0.        ], dtype=float32)>"
      ]
     },
     "execution_count": 184,
     "metadata": {},
     "output_type": "execute_result"
    }
   ],
   "source": [
    "iso(ppreds)"
   ]
  },
  {
   "cell_type": "code",
   "execution_count": 136,
   "id": "5c4b29e0-ce31-4eb5-aa99-177dea28eab8",
   "metadata": {},
   "outputs": [
    {
     "data": {
      "text/plain": [
       "<tf.Tensor: shape=(2020382,), dtype=float32, numpy=\n",
       "array([0.8423905 , 0.62082064, 0.6671446 , ..., 0.32947975, 0.9355774 ,\n",
       "       0.        ], dtype=float32)>"
      ]
     },
     "execution_count": 136,
     "metadata": {},
     "output_type": "execute_result"
    }
   ],
   "source": [
    "ppreds_scaled"
   ]
  },
  {
   "cell_type": "code",
   "execution_count": 140,
   "id": "da58463e-ceac-4e07-9f0a-7b11272dcd1d",
   "metadata": {},
   "outputs": [
    {
     "data": {
      "text/plain": [
       "True"
      ]
     },
     "execution_count": 140,
     "metadata": {},
     "output_type": "execute_result"
    }
   ],
   "source": [
    "isinstance(iso, tf.Module)"
   ]
  },
  {
   "cell_type": "code",
   "execution_count": 122,
   "id": "132c13a3-d90d-4272-a433-40b99ac97894",
   "metadata": {},
   "outputs": [
    {
     "data": {
      "text/plain": [
       "array([0.20905042])"
      ]
     },
     "execution_count": 122,
     "metadata": {},
     "output_type": "execute_result"
    }
   ],
   "source": [
    "expected_calibration_error(ppreds, cb_test_y, M=500)"
   ]
  },
  {
   "cell_type": "code",
   "execution_count": 127,
   "id": "619e1699-432b-462a-8f65-6ba314de488e",
   "metadata": {},
   "outputs": [
    {
     "data": {
      "text/plain": [
       "array([0.10184085])"
      ]
     },
     "execution_count": 127,
     "metadata": {},
     "output_type": "execute_result"
    }
   ],
   "source": [
    "expected_calibration_error(ppreds_scaled, cb_test_y, M=500)"
   ]
  },
  {
   "cell_type": "code",
   "execution_count": 109,
   "id": "aefaa309-7768-4450-a75d-8ae3afc13ab7",
   "metadata": {},
   "outputs": [
    {
     "data": {
      "image/png": "[encoded data removed]",
      "text/plain": [
       "<Figure size 640x480 with 1 Axes>"
      ]
     },
     "metadata": {},
     "output_type": "display_data"
    }
   ],
   "source": [
    "display = CalibrationDisplay.from_predictions(cb_test_y, ppreds_scaled, name=\"TFGB_Calibrated\")\n",
    "_ = display.ax_.set_title(\"Calibration curve (RH vs. Rest)\")"
   ]
  },
  {
   "cell_type": "code",
   "execution_count": 98,
   "id": "fedaa140-037c-4cff-b988-19bbda93470b",
   "metadata": {},
   "outputs": [
    {
     "data": {
      "image/png": "[encoded data removed]",
      "text/plain": [
       "<Figure size 640x480 with 1 Axes>"
      ]
     },
     "metadata": {},
     "output_type": "display_data"
    }
   ],
   "source": [
    "display = PrecisionRecallDisplay.from_predictions(cb_test_y, ppreds_scaled, name=\"TFGB_Calibrated\")\n",
    "_ = display.ax_.set_title(\"2-class Precision-Recall curve (RH vs. Rest)\")"
   ]
  },
  {
   "cell_type": "code",
   "execution_count": 99,
   "id": "9806d176-e39e-4da5-b3e6-e208ab78e621",
   "metadata": {},
   "outputs": [
    {
     "name": "stdout",
     "output_type": "stream",
     "text": [
      "0.6527366042137146\n",
      "0.8349658792403356\n"
     ]
    }
   ],
   "source": [
    "c_target_thresh, c_expected_recall = get_optimal_threshold(cb_test_y, ppreds_scaled, 0.9)\n",
    "\n",
    "print(c_target_thresh)\n",
    "print(c_expected_recall)"
   ]
  },
  {
   "cell_type": "code",
   "execution_count": 128,
   "id": "bed5edc2-69a4-409c-84fe-e1151fb4e812",
   "metadata": {},
   "outputs": [
    {
     "data": {
      "text/plain": [
       "0.38119057136831674"
      ]
     },
     "execution_count": 128,
     "metadata": {},
     "output_type": "execute_result"
    }
   ],
   "source": [
    "log_loss(cb_test_y, ppreds_scaled)"
   ]
  },
  {
   "cell_type": "code",
   "execution_count": 101,
   "id": "42fd6395-320a-4dee-9c2c-85858ee7c46b",
   "metadata": {},
   "outputs": [
    {
     "data": {
      "text/plain": [
       "0.8737299210631879"
      ]
     },
     "execution_count": 101,
     "metadata": {},
     "output_type": "execute_result"
    }
   ],
   "source": [
    "roc_auc_score(cb_test_y, ppreds_scaled)"
   ]
  },
  {
   "cell_type": "code",
   "execution_count": 102,
   "id": "485f80ab-7bb7-4445-8262-73cecdc65329",
   "metadata": {},
   "outputs": [
    {
     "data": {
      "image/png": "[encoded data removed]",
      "text/plain": [
       "<Figure size 640x480 with 2 Axes>"
      ]
     },
     "metadata": {},
     "output_type": "display_data"
    }
   ],
   "source": [
    "threshold = c_target_thresh\n",
    "\n",
    "cm = confusion_matrix(cb_test_y, np.where(ppreds_scaled > threshold, 1, 0))\n",
    "cm_display = ConfusionMatrixDisplay(cm).plot()"
   ]
  },
  {
   "cell_type": "markdown",
   "id": "cde4740c-87d1-4262-9397-c5d88afcfd2b",
   "metadata": {
    "jp-MarkdownHeadingCollapsed": true,
    "tags": []
   },
   "source": [
    "### Linear adj"
   ]
  },
  {
   "cell_type": "code",
   "execution_count": null,
   "id": "4d677cfd-585e-4f9b-a8e1-4192bc43a4c5",
   "metadata": {},
   "outputs": [],
   "source": [
    "from sklearn.linear_model import LinearRegression"
   ]
  },
  {
   "cell_type": "code",
   "execution_count": null,
   "id": "2e34b0aa-8529-4393-b020-9062e79c440e",
   "metadata": {},
   "outputs": [],
   "source": [
    "lin_train = train[['ts', 'is_work', 'target']].copy()\n",
    "lin_train['is_evening'] = (pd.to_datetime(lin_train['ts']).dt.hour > 16).astype(int)\n",
    "lin_train['score'] = train_preds.flatten()\n",
    "lin_train = lin_train[lin_train.is_work == 1]\n",
    "print(len(lin_train))\n",
    "\n",
    "lin_test = test[['ts', 'is_work', 'target']].copy()\n",
    "lin_test['is_evening'] = (pd.to_datetime(lin_test['ts']).dt.hour > 16).astype(int)\n",
    "lin_test['score'] = ppreds\n",
    "lin_test = lin_test[lin_test.is_work == 1]\n",
    "print(len(lin_test))"
   ]
  },
  {
   "cell_type": "code",
   "execution_count": null,
   "id": "3eeec53b-9422-465c-b37d-24bd9bb75d13",
   "metadata": {},
   "outputs": [],
   "source": [
    "log_loss(lin_test.target.values, lin_test.score.values)"
   ]
  },
  {
   "cell_type": "code",
   "execution_count": null,
   "id": "9b694432-3765-4fe1-95c2-2ee84cff492e",
   "metadata": {},
   "outputs": [],
   "source": [
    "roc_auc_score(lin_test.target.values, lin_test.score.values)"
   ]
  },
  {
   "cell_type": "code",
   "execution_count": null,
   "id": "1a268fa2-6242-4eee-8c48-4edd5edf7973",
   "metadata": {},
   "outputs": [],
   "source": [
    "lin = LinearRegression(positive=True, n_jobs=-1)\n",
    "\n",
    "lin.fit(X=lin_train[['score', 'is_evening']].values, y=lin_train.target.values)"
   ]
  },
  {
   "cell_type": "code",
   "execution_count": null,
   "id": "61efd176-0740-40c4-bbb4-eee4d18f70fe",
   "metadata": {},
   "outputs": [],
   "source": [
    "ppreds_adj = iso.predict(lin.predict(lin_test[['score', 'is_evening']].values))"
   ]
  },
  {
   "cell_type": "code",
   "execution_count": null,
   "id": "397e8c37-08ab-4ab2-976a-559fa4a6222d",
   "metadata": {},
   "outputs": [],
   "source": [
    "log_loss(lin_test.target.values, ppreds_adj)"
   ]
  },
  {
   "cell_type": "code",
   "execution_count": null,
   "id": "4869b1de-acff-47c9-8a2a-9fa409787ecf",
   "metadata": {},
   "outputs": [],
   "source": [
    "roc_auc_score(lin_test.target.values, ppreds_adj)"
   ]
  },
  {
   "cell_type": "code",
   "execution_count": null,
   "id": "3f366cd6-ac46-49bd-8666-da0eef5136b3",
   "metadata": {},
   "outputs": [],
   "source": [
    "lin.coef_"
   ]
  },
  {
   "cell_type": "code",
   "execution_count": null,
   "id": "9397ec5f-4dbc-46a2-8900-bb63ceabbc34",
   "metadata": {},
   "outputs": [],
   "source": [
    "lin.intercept_"
   ]
  },
  {
   "cell_type": "code",
   "execution_count": null,
   "id": "29e7ced8-0ed2-41ca-9727-06b426d6eff7",
   "metadata": {},
   "outputs": [],
   "source": [
    "iso.predict(lin.predict(np.array([[0.6, 1.0]])))"
   ]
  },
  {
   "cell_type": "code",
   "execution_count": null,
   "id": "4e3f377c-70bd-4414-af3d-ecc600d4ef67",
   "metadata": {},
   "outputs": [],
   "source": [
    "display = CalibrationDisplay.from_predictions(lin_test.target.values, np.clip(ppreds_adj, 0.0, 1.0), name=\"Lin\")\n",
    "_ = display.ax_.set_title(\"Calibration curve (RH vs. Rest)\")"
   ]
  },
  {
   "cell_type": "markdown",
   "id": "4ad3daaa-bd2d-41c0-9180-05a4cc640bdb",
   "metadata": {
    "tags": []
   },
   "source": [
    "### SHAP"
   ]
  },
  {
   "cell_type": "code",
   "execution_count": null,
   "id": "e61c8a31-3246-44ad-a175-4009f6789376",
   "metadata": {},
   "outputs": [],
   "source": [
    "import shap\n",
    "\n",
    "shap.__version__"
   ]
  },
  {
   "cell_type": "code",
   "execution_count": null,
   "id": "0ae1c650-854c-4bf0-bc9c-82446aad601c",
   "metadata": {},
   "outputs": [],
   "source": [
    "shap.initjs()"
   ]
  },
  {
   "cell_type": "code",
   "execution_count": null,
   "id": "20322681-40d7-409d-9e08-4953390b0ff2",
   "metadata": {},
   "outputs": [],
   "source": [
    "ds_test = test.drop(TO_DROP + ['target'], axis=1)"
   ]
  },
  {
   "cell_type": "code",
   "execution_count": null,
   "id": "5265a744-64d8-4590-9fa1-a1be41c787da",
   "metadata": {},
   "outputs": [],
   "source": [
    "len(ds_test)"
   ]
  },
  {
   "cell_type": "code",
   "execution_count": null,
   "id": "8531af2a-cc5b-4ca5-91eb-734771cc6634",
   "metadata": {},
   "outputs": [],
   "source": [
    "def f(X: np.ndarray):\n",
    "    ds = pd.DataFrame(data=X, columns=ds_test.columns)\n",
    "    ds = tfdf.keras.pd_dataframe_to_tf_dataset(ds)\n",
    "    return model.predict(ds, verbose=0).flatten()\n",
    "\n",
    "\n",
    "def f_calibrated(X: np.ndarray):\n",
    "    preds = f(X)\n",
    "    return iso.predict(preds).flatten()"
   ]
  },
  {
   "cell_type": "code",
   "execution_count": null,
   "id": "de70c455-309a-4fe1-89fd-3b89422ef25d",
   "metadata": {},
   "outputs": [],
   "source": [
    "explainer = shap.KernelExplainer(f, ds_test.iloc[:10], feature_names=ds_test.columns)"
   ]
  },
  {
   "cell_type": "raw",
   "id": "eb38f075-8681-4c55-98be-1b76fa88a819",
   "metadata": {},
   "source": [
    "index = 7274447\n",
    "\n",
    "shap_values = explainer.shap_values(ds_test.loc[index,:], nsamples=500)\n",
    "shap.force_plot(explainer.expected_value, shap_values, ds_test.loc[index,:])"
   ]
  },
  {
   "cell_type": "code",
   "execution_count": null,
   "id": "45365ee9-c993-4f7a-8217-bbd882e3cd9b",
   "metadata": {
    "scrolled": true,
    "tags": []
   },
   "outputs": [],
   "source": [
    "_, shap_data = train_test_split(test, test_size=2000, stratify=test[['target', 'is_freq', 'is_home']])\n",
    "shap_data = shap_data.drop(TO_DROP + ['target'], axis=1)\n",
    "\n",
    "shap_values = explainer.shap_values(shap_data, nsamples=100, silent=True)"
   ]
  },
  {
   "cell_type": "code",
   "execution_count": null,
   "id": "36b15d2f-47aa-4a18-a8a4-3d11847625ef",
   "metadata": {},
   "outputs": [],
   "source": [
    "shap.plots.beeswarm(shap.Explanation(shap_values, feature_names=ds_test.columns, data=shap_data), max_display=20)"
   ]
  },
  {
   "cell_type": "markdown",
   "id": "9c6e2729-86a7-434a-a685-33284f386873",
   "metadata": {},
   "source": [
    "### Additional Sanity Check"
   ]
  },
  {
   "cell_type": "code",
   "execution_count": null,
   "id": "62e82866",
   "metadata": {},
   "outputs": [],
   "source": [
    "from intent_model.functions import get_relevance"
   ]
  },
  {
   "cell_type": "code",
   "execution_count": null,
   "id": "ab19bebe-ca0e-499e-98a5-e20c35b111a1",
   "metadata": {},
   "outputs": [],
   "source": [
    "res_df = get_relevance(test, test_ds, model, thresholds=np.linspace(0.1, 0.95, num=12))\n",
    "\n",
    "res_df"
   ]
  },
  {
   "cell_type": "code",
   "execution_count": null,
   "id": "6d62bafd-1d8c-4edd-bc49-d0c014bf5bd3",
   "metadata": {},
   "outputs": [],
   "source": [
    "class IsoModelWrapper(object):    \n",
    "    def predict(self, data, verbose: int = 0):\n",
    "        preds = model.predict(data, verbose=verbose).flatten()\n",
    "        return iso.predict(preds)\n",
    "    \n",
    "cal_model = IsoModelWrapper()\n",
    "\n",
    "\n",
    "res_df = get_relevance(test, test_ds, cal_model, thresholds=np.linspace(0.1, 0.95, num=12))\n",
    "\n",
    "res_df"
   ]
  },
  {
   "cell_type": "code",
   "execution_count": null,
   "id": "9d88b900-a821-45ff-a6fd-37a5a56e75c7",
   "metadata": {},
   "outputs": [],
   "source": [
    "gc.collect()"
   ]
  },
  {
   "cell_type": "markdown",
   "id": "bb01c4ab-8c39-4a90-956f-7f13d196cf96",
   "metadata": {},
   "source": [
    "### User Check"
   ]
  },
  {
   "cell_type": "code",
   "execution_count": null,
   "id": "9af73f81-e11a-4410-80db-e0f87bb045cb",
   "metadata": {},
   "outputs": [],
   "source": [
    "import tensorflow as tf"
   ]
  },
  {
   "cell_type": "raw",
   "id": "725da78c-097f-4a9a-a7eb-ac15d6fcac1d",
   "metadata": {},
   "source": [
    "focal_model = tf.keras.models.load_model('models/tfdf_1')\n",
    "\n",
    "TO_DROP = [\n",
    "    'valid_date', 'ts', 'sessionuuid', 'customer_id', 'booking_id',\n",
    "    'is_trip_ended', 'rh', 'is_freq', 'service', 'is_work', 'has_saved', 'weekday', # 'target'\n",
    "    'norm_hour_denoised',\n",
    "    'quantile',\n",
    "    # 'num_trips', 'trx_amt'\n",
    "]\n",
    "\n",
    "f_train_ds = tfdf.keras.pd_dataframe_to_tf_dataset(train.drop(TO_DROP + ['target', 'sample_weight'], axis=1), batch_size=4096)\n",
    "f_test_ds = tfdf.keras.pd_dataframe_to_tf_dataset(test.drop(TO_DROP + ['target', 'norm_hour_denoised'], axis=1), batch_size=4096)"
   ]
  },
  {
   "cell_type": "code",
   "execution_count": null,
   "id": "0d7f9883-24f2-4dd9-899d-cd0c8acaaa6c",
   "metadata": {},
   "outputs": [],
   "source": [
    "focal_model = tf.keras.models.load_model('models/tfdf_2_denoised')\n",
    "\n",
    "TO_DROP = [\n",
    "    'valid_date', 'ts', 'sessionuuid', 'customer_id', 'booking_id',\n",
    "    'is_trip_ended', 'rh', 'is_freq', 'service', 'is_work', 'has_saved', 'weekday', # 'target'\n",
    "    # 'norm_hour_denoised',\n",
    "    # 'quantile',\n",
    "    # 'num_trips', 'trx_amt'\n",
    "]\n",
    "\n",
    "f_train_ds = tfdf.keras.pd_dataframe_to_tf_dataset(train.drop(TO_DROP + ['target', 'sample_weight'], axis=1), batch_size=4096)\n",
    "f_test_ds = tfdf.keras.pd_dataframe_to_tf_dataset(test.drop(TO_DROP + ['target'], axis=1), batch_size=4096)"
   ]
  },
  {
   "cell_type": "code",
   "execution_count": null,
   "id": "b8e20d81-f9bf-4e9b-9bad-ae10dd367942",
   "metadata": {},
   "outputs": [],
   "source": [
    "focal_preds = focal_model.predict(f_test_ds)\n",
    "train_focal_preds = focal_model.predict(f_train_ds)\n",
    "\n",
    "iso = IsotonicRegression(y_min=0, y_max=1, out_of_bounds='clip', increasing='auto')\n",
    "iso.fit(X=train_focal_preds, y=iso_ds)\n",
    "\n",
    "focal_preds_cal = iso.predict(focal_preds)"
   ]
  },
  {
   "cell_type": "code",
   "execution_count": null,
   "id": "8c3ae929-9f01-4112-8a71-28c37522307f",
   "metadata": {},
   "outputs": [],
   "source": [
    "focal_target_thresh, _ = get_optimal_threshold(cb_test_y, focal_preds, 0.9)\n",
    "c_focal_target_thresh, _ = get_optimal_threshold(cb_test_y, focal_preds_cal, 0.9)"
   ]
  },
  {
   "cell_type": "code",
   "execution_count": null,
   "id": "955e9e68-c1ca-42c6-b202-bde416df74b9",
   "metadata": {},
   "outputs": [],
   "source": [
    "check_test = test.copy()\n",
    "\n",
    "check_test['score'] = ppreds\n",
    "check_test['calibrated_score'] = ppreds_scaled\n",
    "check_test['uncalib_decision'] = (check_test['score'] > target_thresh).astype(int)\n",
    "check_test['calib_decision'] = (check_test['calibrated_score'] > c_target_thresh).astype(int)\n",
    "\n",
    "check_test['focal_score'] = focal_preds\n",
    "check_test['focal_calibrated_score'] = focal_preds_cal\n",
    "check_test['uncalib_focal_decision'] = (check_test['focal_score'] > focal_target_thresh).astype(int)\n",
    "check_test['calib_focal_decision'] = (check_test['focal_calibrated_score'] > c_focal_target_thresh).astype(int)\n",
    "\n",
    "check_test[(check_test.customer_id == 54737848) & (check_test.target == 1)]  # 50794794 54737848"
   ]
  },
  {
   "cell_type": "markdown",
   "id": "e36898cf-b3c3-45b1-b2cb-7f26a94dde33",
   "metadata": {
    "jp-MarkdownHeadingCollapsed": true,
    "tags": []
   },
   "source": [
    "### TF Isotonic"
   ]
  },
  {
   "cell_type": "code",
   "execution_count": null,
   "id": "b458db10-353a-41fd-8b02-a8be2a769a86",
   "metadata": {},
   "outputs": [],
   "source": [
    "import os\n",
    "import numpy as np\n",
    "from scipy import interpolate\n",
    "\n",
    "import tensorflow as tf"
   ]
  },
  {
   "cell_type": "code",
   "execution_count": null,
   "id": "a28aec29-fda9-4f6c-ac10-e53dcd34c78d",
   "metadata": {},
   "outputs": [],
   "source": [
    "def tf_lexsort(keys):\n",
    "    assert len(keys) == 2, \"Only 2 features are supported.\"\n",
    "    m = to_matrix(keys[0], keys[1])\n",
    "    b = tf.add(tf.slice(m, [0, 0], [-1, 1]) * 10, tf.slice(m, [0, 1], [-1, 1]))\n",
    "    indices = tf.nn.top_k(b[:, 0], k=m.shape[0], sorted=False).indices\n",
    "    return tf.reverse(indices, axis=[0])"
   ]
  },
  {
   "cell_type": "code",
   "execution_count": null,
   "id": "a4ea2fea-1557-4a63-ad61-65f2322426e8",
   "metadata": {},
   "outputs": [],
   "source": [
    "class TFIsotonicRegression(tf.Module):\n",
    "    def __init__(self, y_min=None, y_max=None, increasing=True):\n",
    "        self.y_min = y_min\n",
    "        self.y_max = y_max\n",
    "        self.increasing = increasing\n",
    "    \n",
    "    @staticmethod\n",
    "    def to_matrix(x1, x2):\n",
    "        if len(x1.shape) == 1:\n",
    "            x1 = tf.expand_dims(x1, axis=-1)\n",
    "        if len(x2.shape) == 1:\n",
    "            x2 = tf.expand_dims(x2, axis=-1)  \n",
    "        return tf.concat((x1, x2), axis=-1)\n",
    "\n",
    "    def tf_groupby(self, x1, x2) -> tf.Tensor:\n",
    "        tensor = self.to_matrix(x1, x2)\n",
    "        sorted_indices = tf.argsort(tensor[:, 0])\n",
    "        sorted_tensor = tf.gather(tensor, sorted_indices)\n",
    "\n",
    "        unique_keys, _, num_group = tf.unique_with_counts(sorted_tensor[:, 0])\n",
    "        aggregated_values = tf.zeros_like(unique_keys, dtype=tf.float32)\n",
    "\n",
    "        start_idx = 0\n",
    "        for i, count in enumerate(num_group):\n",
    "            group = sorted_tensor[start_idx:start_idx+count, 1]\n",
    "            index = tf.constant([[i]])\n",
    "            value = tf.expand_dims(tf.reduce_mean(group), axis=0)\n",
    "            aggregated_values = tf.tensor_scatter_nd_update(aggregated_values, index, value)\n",
    "            start_idx += count\n",
    "\n",
    "        return unique_keys, aggregated_values\n",
    "\n",
    "    @staticmethod\n",
    "    @tf.function(input_signature=[\n",
    "        tf.TensorSpec(shape=(None,), dtype=tf.float32),\n",
    "        tf.TensorSpec(shape=(None,), dtype=tf.float32),\n",
    "        tf.TensorSpec(shape=(None,), dtype=tf.float32)\n",
    "    ])\n",
    "    def linear_interp1d(x, y, new_x):\n",
    "        # Find the indices in x where values just below new_x are located\n",
    "        indices_below = tf.searchsorted(x, new_x, side='right') - 1\n",
    "        indices_below = tf.clip_by_value(indices_below, 0, tf.shape(x)[0]-2)\n",
    "\n",
    "        # Find the corresponding x and y values for these indices\n",
    "        x_below = tf.gather(x, indices_below)\n",
    "        y_below = tf.gather(y, indices_below)\n",
    "\n",
    "        x_above = tf.gather(x, indices_below + 1)\n",
    "        y_above = tf.gather(y, indices_below + 1)\n",
    "\n",
    "        # Compute the interpolated y values\n",
    "        slope = (y_above - y_below) / (x_above - x_below)\n",
    "        interpolated_y = y_below + slope * (new_x - x_below)\n",
    "\n",
    "        return interpolated_y\n",
    "    \n",
    "    def _build_f(self, X, y):\n",
    "        if len(y) == 1:\n",
    "            self.f_ = lambda x: tf.repeat(y, len(X))\n",
    "        else:\n",
    "            self.f_ = lambda x: self.linear_interp1d(X, y, x)\n",
    "    \n",
    "    def _build_y(self, X, y):\n",
    "        unique_X, unique_y = self.tf_groupby(X, y)\n",
    "        iso_y = tf.clip_by_value(\n",
    "            tf.nn.isotonic_regression(unique_y, decreasing=not self.increasing)[0],\n",
    "            self.y_min,\n",
    "            self.y_max\n",
    "        )\n",
    "\n",
    "        self.X_min_, self.X_max_ = tf.reduce_min(unique_X), tf.reduce_max(unique_X)\n",
    "        return unique_X, iso_y \n",
    "    \n",
    "    def fit(self, X, y):\n",
    "        if isinstance(X, np.ndarray):\n",
    "            X = tf.convert_to_tensor(X, dtype=tf.float32)\n",
    "        if isinstance(y, np.ndarray):\n",
    "            y = tf.convert_to_tensor(y, dtype=tf.float32)\n",
    "            \n",
    "        X_iso, y_iso = self._build_y(X, y)\n",
    "        self._build_f(X_iso, y_iso)\n",
    "        return self\n",
    "    \n",
    "    def predict(self, T):\n",
    "        assert hasattr(self, \"f_\"), \"Model is not fitted\"\n",
    "        \n",
    "        if isinstance(T, np.ndarray):\n",
    "            T = tf.convert_to_tensor(T, dtype=tf.float32)\n",
    "            \n",
    "        T = tf.clip_by_value(T, self.X_min_, self.X_max_)\n",
    "        return self.f_(T)\n",
    "    \n",
    "    @tf.function(input_signature=[tf.TensorSpec(shape=(None,), dtype=tf.float32)])\n",
    "    def __call__(self, T):\n",
    "        return self.predict(T)\n",
    "    \n",
    "    def __repr__(self):\n",
    "        return f\"TFIsotonicRegression(y_min={self.y_min}, y_max={self.y_max}, increasing={self.increasing})\"\n"
   ]
  },
  {
   "cell_type": "code",
   "execution_count": null,
   "id": "ec19f03c-b585-416d-8cc8-8572ade4eb4e",
   "metadata": {},
   "outputs": [],
   "source": [
    "import gc\n",
    "\n",
    "os.environ['TF_CPP_MIN_LOG_LEVEL'] = '1'\n",
    "tf.get_logger().setLevel('ERROR')\n",
    "\n",
    "\n",
    "class FastTFIsotonicRegression(tf.Module):\n",
    "    def __init__(self, y_min=None, y_max=None, increasing=True, approximate=False):\n",
    "        self.y_min = y_min\n",
    "        self.y_max = y_max\n",
    "        self.increasing = increasing\n",
    "        self.approximate = approximate\n",
    "        self.accumulated_X = tf.constant([], dtype=tf.float32)\n",
    "        self.accumulated_y = tf.constant([], dtype=tf.float32)\n",
    "    \n",
    "    @staticmethod\n",
    "    @tf.function\n",
    "    def to_matrix(x1, x2):\n",
    "        x1, x2 = [tf.expand_dims(t, axis=-1) if len(t.shape) == 1 else t for t in [x1, x2]]\n",
    "        return tf.concat((x1, x2), axis=-1)\n",
    "    \n",
    "    @staticmethod\n",
    "    @tf.function\n",
    "    def in1d(arr1, arr2):\n",
    "        arr1 = tf.expand_dims(arr1, 1)\n",
    "        arr2 = tf.expand_dims(arr2, 0)\n",
    "        return tf.reduce_any(tf.reduce_any(tf.equal(arr1, arr2), axis=1))\n",
    "\n",
    "    @tf.function\n",
    "    def tf_groupby(self, x1, x2) -> tf.Tensor:\n",
    "        tensor = self.to_matrix(x1, x2)\n",
    "        sorted_indices = tf.argsort(tensor[:, 0])\n",
    "        sorted_tensor = tf.gather(tensor, sorted_indices)\n",
    "\n",
    "        unique_keys, idx, counts = tf.unique_with_counts(sorted_tensor[:, 0])\n",
    "        sum_values = tf.math.unsorted_segment_sum(sorted_tensor[:, 1], idx, tf.shape(unique_keys)[0])\n",
    "        aggregated_values = sum_values / tf.cast(counts, tf.float32)\n",
    "\n",
    "        return unique_keys, aggregated_values\n",
    "\n",
    "    @staticmethod\n",
    "    @tf.function\n",
    "    def linear_interp1d(x, y, new_x):\n",
    "        indices_below = tf.searchsorted(x, new_x, side='right') - 1\n",
    "        indices_below = tf.clip_by_value(indices_below, 0, tf.shape(x)[0]-2)\n",
    "\n",
    "        x_below = tf.gather(x, indices_below)\n",
    "        y_below = tf.gather(y, indices_below)\n",
    "\n",
    "        x_above = tf.gather(x, indices_below + 1)\n",
    "        y_above = tf.gather(y, indices_below + 1)\n",
    "\n",
    "        slope = (y_above - y_below) / (x_above - x_below)\n",
    "        interpolated_y = y_below + slope * (new_x - x_below)\n",
    "\n",
    "        return interpolated_y\n",
    "\n",
    "    def _build_f(self, X, y):\n",
    "        if len(y) == 1:\n",
    "            self.f_ = lambda x: tf.repeat(y, len(X))\n",
    "        else:\n",
    "            self.f_ = lambda x: self.linear_interp1d(X, y, x)\n",
    "    \n",
    "    @tf.function\n",
    "    def _build_y(self, X, y):\n",
    "        iso_y = tf.clip_by_value(\n",
    "            tf.nn.isotonic_regression(y, decreasing=not self.increasing)[0],\n",
    "            self.y_min,\n",
    "            self.y_max\n",
    "        )\n",
    "\n",
    "        X_min_, X_max_ = tf.reduce_min(X), tf.reduce_max(X)\n",
    "        return X, iso_y, X_min_, X_max_\n",
    "\n",
    "    def _fit(self, X, y):\n",
    "        unique_X, unique_y = self.tf_groupby(X, y)\n",
    "        X_iso, y_iso, self.X_min_, self.X_max_ = self._build_y(unique_X, unique_y)\n",
    "        self._build_f(X_iso, y_iso)\n",
    "        return self\n",
    "    \n",
    "    def _fit_batch(self, X, y, build_f):\n",
    "        combined_X = tf.concat([self.accumulated_X, X], axis=0)\n",
    "        combined_y = tf.concat([self.accumulated_y, y], axis=0)\n",
    "        \n",
    "        if self.in1d(self.accumulated_X, X):\n",
    "            self.accumulated_X, self.accumulated_y = self.tf_groupby(combined_X, combined_y)\n",
    "        \n",
    "        if build_f:\n",
    "            self.accumulated_X, self.accumulated_y = self.tf_groupby(combined_X, combined_y)\n",
    "            X_iso, y_iso, self.X_min_, self.X_max_ = self._build_y(self.accumulated_X, self.accumulated_y)\n",
    "            self._build_f(X_iso, y_iso)\n",
    "    \n",
    "    def _fit_batchwise(self, X, y, batch_size):\n",
    "        # Create a tf.data.Dataset and batch the data\n",
    "        num_batches = len(X) // batch_size\n",
    "        dataset = tf.data.Dataset.from_tensor_slices((X, y)).batch(batch_size)\n",
    "        \n",
    "        del X, y\n",
    "        \n",
    "        for i, (batch_X, batch_y) in enumerate(dataset):\n",
    "            if i >= num_batches-1:\n",
    "                self._fit_batch(batch_X, batch_y, build_f=True)\n",
    "            else:\n",
    "                self._fit_batch(batch_X, batch_y, build_f=False)\n",
    "            _ = gc.collect()\n",
    "            \n",
    "            # Logging progress\n",
    "            progress_percentage = (i + 1) * 100.0 / num_batches\n",
    "            num_arrows = int(progress_percentage // 5)  # Assuming we want an arrow for every 5%.\n",
    "            progress_bar = ['▩'] * num_arrows + ['_'] * (20 - num_arrows)  # Assuming progress bar length of 20\n",
    "            tf.print(\"\\rProgress: [\", ''.join(progress_bar), \"] \", f\" [{i}/{num_batches}]\", sep='', end='')\n",
    "            \n",
    "    def fit(self, X, y, batch_size=None):\n",
    "        if isinstance(X, np.ndarray):\n",
    "            X = tf.convert_to_tensor(X, dtype=tf.float32)\n",
    "        if isinstance(y, np.ndarray):\n",
    "            y = tf.convert_to_tensor(y, dtype=tf.float32)\n",
    "            \n",
    "        if self.approximate:\n",
    "            multiplier = tf.constant(10**5, dtype=X.dtype)\n",
    "            X = tf.round(X * multiplier) / multiplier\n",
    "            \n",
    "        if batch_size is None:\n",
    "            self._fit(X, y)\n",
    "        else:\n",
    "            self._fit_batchwise(X, y, batch_size)\n",
    "    \n",
    "    @tf.function\n",
    "    def predict(self, T):\n",
    "        assert hasattr(self, \"f_\"), \"Model is not fitted\"\n",
    "        T = tf.clip_by_value(T, self.X_min_, self.X_max_)\n",
    "        return self.f_(T)\n",
    "    \n",
    "    @tf.function\n",
    "    def __call__(self, T):\n",
    "        return self.predict(T)\n",
    "\n",
    "    def __repr__(self):\n",
    "        return f\"TFIsotonicRegression(y_min={self.y_min}, y_max={self.y_max}, increasing={self.increasing})\"\n"
   ]
  },
  {
   "cell_type": "code",
   "execution_count": null,
   "id": "ba4b0835-619f-4db3-bbf6-d39972f498a7",
   "metadata": {},
   "outputs": [],
   "source": [
    "X = np.array(np.random.randn(5000000))\n",
    "y = np.array(np.random.randint(low=0.0, high=2.0, size=5000000))\n",
    "\n",
    "X_tf = tf.constant(X, dtype=tf.float32)\n",
    "y_tf = tf.constant(y, dtype=tf.float32)"
   ]
  },
  {
   "cell_type": "raw",
   "id": "5f8a28ab-6688-406f-9be0-b69c74bbce03",
   "metadata": {},
   "source": [
    "%%time\n",
    "model = TFIsotonicRegression(0.0, 1.0)\n",
    "model.fit(X, y)\n",
    "\n",
    "model.predict(X_tf)"
   ]
  },
  {
   "cell_type": "code",
   "execution_count": null,
   "id": "a421715b-b570-4345-9d8e-472896a5aac4",
   "metadata": {},
   "outputs": [],
   "source": [
    "%%time\n",
    "model = FastTFIsotonicRegression(0.0, 1.0, approximate=False)\n",
    "model.fit(tf.convert_to_tensor(X, dtype=tf.float32), tf.convert_to_tensor(y, dtype=tf.float32))\n",
    "\n",
    "model.predict(tf.convert_to_tensor(X, dtype=tf.float32))"
   ]
  },
  {
   "cell_type": "code",
   "execution_count": null,
   "id": "573fdbac-1cdd-486f-ab6a-4b0b5313a906",
   "metadata": {},
   "outputs": [],
   "source": [
    "a = tf.constant([1, 2, 3, 4, 5])\n",
    "b = tf.constant([10, 30, 50])\n",
    "\n",
    "result = in1d(a, b)"
   ]
  },
  {
   "cell_type": "code",
   "execution_count": null,
   "id": "6e4fbb84-420f-455a-b758-2cfea1481b69",
   "metadata": {},
   "outputs": [],
   "source": [
    "def in1d(arr1, arr2):\n",
    "    arr1 = tf.expand_dims(arr1, 1)\n",
    "    arr2 = tf.expand_dims(arr2, 0)\n",
    "    return tf.reduce_any(tf.equal(arr1, arr2), axis=1)"
   ]
  },
  {
   "cell_type": "code",
   "execution_count": null,
   "id": "d2c6f0ee-e4cc-4f27-8dcc-b46a5fa4227f",
   "metadata": {},
   "outputs": [],
   "source": [
    "if tf.reduce_any(result):\n",
    "    print('!')\n",
    "else:\n",
    "    print('-')"
   ]
  },
  {
   "cell_type": "code",
   "execution_count": null,
   "id": "7ecc34ac-607c-483d-8647-2127b594cde0",
   "metadata": {},
   "outputs": [],
   "source": []
  }
 ],
 "metadata": {
  "kernelspec": {
   "display_name": "Python [conda env:yoda_tf] *",
   "language": "python",
   "name": "conda-env-yoda_tf-py"
  },
  "language_info": {
   "codemirror_mode": {
    "name": "ipython",
    "version": 3
   },
   "file_extension": ".py",
   "mimetype": "text/x-python",
   "name": "python",
   "nbconvert_exporter": "python",
   "pygments_lexer": "ipython3",
   "version": "3.10.9"
  }
 },
 "nbformat": 4,
 "nbformat_minor": 5
}
